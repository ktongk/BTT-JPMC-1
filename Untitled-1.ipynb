{
 "cells": [
  {
   "cell_type": "code",
   "execution_count": 2,
   "metadata": {},
   "outputs": [
    {
     "name": "stdout",
     "output_type": "stream",
     "text": [
      "Requirement already satisfied: plotly-geo==1.0.0 in c:\\users\\sofia\\downloads\\deploy_flask\\venv\\lib\\site-packages (1.0.0)\n",
      "Note: you may need to restart the kernel to use updated packages.\n"
     ]
    },
    {
     "name": "stderr",
     "output_type": "stream",
     "text": [
      "\n",
      "[notice] A new release of pip is available: 23.0.1 -> 23.2.1\n",
      "[notice] To update, run: python.exe -m pip install --upgrade pip\n"
     ]
    },
    {
     "name": "stdout",
     "output_type": "stream",
     "text": [
      "Requirement already satisfied: geopandas==0.3.0 in c:\\users\\sofia\\downloads\\deploy_flask\\venv\\lib\\site-packages (0.3.0)\n",
      "Requirement already satisfied: descartes in c:\\users\\sofia\\downloads\\deploy_flask\\venv\\lib\\site-packages (from geopandas==0.3.0) (1.1.0)\n",
      "Requirement already satisfied: pyproj in c:\\users\\sofia\\downloads\\deploy_flask\\venv\\lib\\site-packages (from geopandas==0.3.0) (3.6.1)\n",
      "Requirement already satisfied: shapely in c:\\users\\sofia\\downloads\\deploy_flask\\venv\\lib\\site-packages (from geopandas==0.3.0) (2.0.1)\n",
      "Requirement already satisfied: fiona in c:\\users\\sofia\\downloads\\deploy_flask\\venv\\lib\\site-packages (from geopandas==0.3.0) (1.9.4.post1)\n",
      "Requirement already satisfied: pandas in c:\\users\\sofia\\downloads\\deploy_flask\\venv\\lib\\site-packages (from geopandas==0.3.0) (2.0.3)\n",
      "Requirement already satisfied: matplotlib in c:\\users\\sofia\\downloads\\deploy_flask\\venv\\lib\\site-packages (from descartes->geopandas==0.3.0) (3.8.0)\n",
      "Requirement already satisfied: six in c:\\users\\sofia\\downloads\\deploy_flask\\venv\\lib\\site-packages (from fiona->geopandas==0.3.0) (1.16.0)\n",
      "Requirement already satisfied: attrs>=19.2.0 in c:\\users\\sofia\\downloads\\deploy_flask\\venv\\lib\\site-packages (from fiona->geopandas==0.3.0) (23.1.0)\n",
      "Requirement already satisfied: click~=8.0 in c:\\users\\sofia\\downloads\\deploy_flask\\venv\\lib\\site-packages (from fiona->geopandas==0.3.0) (8.1.7)\n",
      "Requirement already satisfied: certifi in c:\\users\\sofia\\downloads\\deploy_flask\\venv\\lib\\site-packages (from fiona->geopandas==0.3.0) (2023.7.22)\n",
      "Requirement already satisfied: cligj>=0.5 in c:\\users\\sofia\\downloads\\deploy_flask\\venv\\lib\\site-packages (from fiona->geopandas==0.3.0) (0.7.2)\n",
      "Requirement already satisfied: click-plugins>=1.0 in c:\\users\\sofia\\downloads\\deploy_flask\\venv\\lib\\site-packages (from fiona->geopandas==0.3.0) (1.1.1)\n",
      "Requirement already satisfied: python-dateutil>=2.8.2 in c:\\users\\sofia\\downloads\\deploy_flask\\venv\\lib\\site-packages (from pandas->geopandas==0.3.0) (2.8.2)\n",
      "Requirement already satisfied: numpy>=1.21.0 in c:\\users\\sofia\\downloads\\deploy_flask\\venv\\lib\\site-packages (from pandas->geopandas==0.3.0) (1.25.2)\n",
      "Requirement already satisfied: tzdata>=2022.1 in c:\\users\\sofia\\downloads\\deploy_flask\\venv\\lib\\site-packages (from pandas->geopandas==0.3.0) (2023.3)\n",
      "Requirement already satisfied: pytz>=2020.1 in c:\\users\\sofia\\downloads\\deploy_flask\\venv\\lib\\site-packages (from pandas->geopandas==0.3.0) (2023.3)\n",
      "Requirement already satisfied: colorama in c:\\users\\sofia\\downloads\\deploy_flask\\venv\\lib\\site-packages (from click~=8.0->fiona->geopandas==0.3.0) (0.4.6)\n",
      "Requirement already satisfied: packaging>=20.0 in c:\\users\\sofia\\downloads\\deploy_flask\\venv\\lib\\site-packages (from matplotlib->descartes->geopandas==0.3.0) (23.2)\n",
      "Requirement already satisfied: pillow>=6.2.0 in c:\\users\\sofia\\downloads\\deploy_flask\\venv\\lib\\site-packages (from matplotlib->descartes->geopandas==0.3.0) (10.0.1)\n",
      "Requirement already satisfied: contourpy>=1.0.1 in c:\\users\\sofia\\downloads\\deploy_flask\\venv\\lib\\site-packages (from matplotlib->descartes->geopandas==0.3.0) (1.1.1)\n",
      "Requirement already satisfied: pyparsing>=2.3.1 in c:\\users\\sofia\\downloads\\deploy_flask\\venv\\lib\\site-packages (from matplotlib->descartes->geopandas==0.3.0) (3.1.1)\n",
      "Requirement already satisfied: cycler>=0.10 in c:\\users\\sofia\\downloads\\deploy_flask\\venv\\lib\\site-packages (from matplotlib->descartes->geopandas==0.3.0) (0.12.0)\n",
      "Requirement already satisfied: fonttools>=4.22.0 in c:\\users\\sofia\\downloads\\deploy_flask\\venv\\lib\\site-packages (from matplotlib->descartes->geopandas==0.3.0) (4.43.0)\n",
      "Requirement already satisfied: kiwisolver>=1.0.1 in c:\\users\\sofia\\downloads\\deploy_flask\\venv\\lib\\site-packages (from matplotlib->descartes->geopandas==0.3.0) (1.4.5)\n",
      "Note: you may need to restart the kernel to use updated packages.\n"
     ]
    },
    {
     "name": "stderr",
     "output_type": "stream",
     "text": [
      "\n",
      "[notice] A new release of pip is available: 23.0.1 -> 23.2.1\n",
      "[notice] To update, run: python.exe -m pip install --upgrade pip\n"
     ]
    },
    {
     "name": "stdout",
     "output_type": "stream",
     "text": [
      "Requirement already satisfied: pyshp==1.2.10 in c:\\users\\sofia\\downloads\\deploy_flask\\venv\\lib\\site-packages (1.2.10)\n",
      "Note: you may need to restart the kernel to use updated packages.\n"
     ]
    },
    {
     "name": "stderr",
     "output_type": "stream",
     "text": [
      "\n",
      "[notice] A new release of pip is available: 23.0.1 -> 23.2.1\n",
      "[notice] To update, run: python.exe -m pip install --upgrade pip\n"
     ]
    },
    {
     "name": "stdout",
     "output_type": "stream",
     "text": [
      "Collecting shapely==1.6.3\n",
      "  Using cached Shapely-1.6.3.tar.gz (223 kB)\n",
      "  Preparing metadata (setup.py): started\n",
      "  Preparing metadata (setup.py): finished with status 'error'\n",
      "Note: you may need to restart the kernel to use updated packages.\n"
     ]
    },
    {
     "name": "stderr",
     "output_type": "stream",
     "text": [
      "  error: subprocess-exited-with-error\n",
      "  \n",
      "  × python setup.py egg_info did not run successfully.\n",
      "  │ exit code: 1\n",
      "  ╰─> [10 lines of output]\n",
      "      Traceback (most recent call last):\n",
      "        File \"<string>\", line 2, in <module>\n",
      "        File \"<pip-setuptools-caller>\", line 34, in <module>\n",
      "        File \"C:\\Users\\sofia\\AppData\\Local\\Temp\\pip-install-ejs7ychb\\shapely_0b2a272b86e547fba2215300c0ab85ad\\setup.py\", line 80, in <module>\n",
      "          from shapely._buildcfg import geos_version_string, geos_version, \\\n",
      "        File \"C:\\Users\\sofia\\AppData\\Local\\Temp\\pip-install-ejs7ychb\\shapely_0b2a272b86e547fba2215300c0ab85ad\\shapely\\_buildcfg.py\", line 200, in <module>\n",
      "          lgeos = CDLL(\"geos_c.dll\")\n",
      "        File \"C:\\Program Files\\WindowsApps\\PythonSoftwareFoundation.Python.3.10_3.10.3056.0_x64__qbz5n2kfra8p0\\lib\\ctypes\\__init__.py\", line 374, in __init__\n",
      "          self._handle = _dlopen(self._name, mode)\n",
      "      FileNotFoundError: Could not find module 'geos_c.dll' (or one of its dependencies). Try using the full path with constructor syntax.\n",
      "      [end of output]\n",
      "  \n",
      "  note: This error originates from a subprocess, and is likely not a problem with pip.\n",
      "error: metadata-generation-failed\n",
      "\n",
      "× Encountered error while generating package metadata.\n",
      "╰─> See above for output.\n",
      "\n",
      "note: This is an issue with the package mentioned above, not pip.\n",
      "hint: See above for details.\n",
      "\n",
      "[notice] A new release of pip is available: 23.0.1 -> 23.2.1\n",
      "[notice] To update, run: python.exe -m pip install --upgrade pip\n"
     ]
    }
   ],
   "source": [
    "%pip install plotly-geo==1.0.0\n",
    "%pip install geopandas==0.3.0\n",
    "%pip install pyshp==1.2.10\n",
    "%pip install shapely==1.6.3"
   ]
  },
  {
   "cell_type": "code",
   "execution_count": 3,
   "metadata": {},
   "outputs": [],
   "source": [
    "import pandas as pd"
   ]
  },
  {
   "cell_type": "code",
   "execution_count": 3,
   "metadata": {},
   "outputs": [
    {
     "ename": "ImportError",
     "evalue": "geopandas, pyshp and shapely must be installed for this figure factory.\n\nRun the following commands to install the correct versions of the following modules:\n\n```\n$ pip install geopandas==0.3.0\n$ pip install pyshp==1.2.10\n$ pip install shapely==1.6.3\n```\nIf you are using Windows, follow this post to properly install geopandas and dependencies:http://geoffboeing.com/2014/09/using-geopandas-windows/\n\nIf you are using Anaconda, do not use PIP to install the packages above. Instead use conda to install them:\n\n```\n$ conda install plotly\n$ conda install geopandas\n```",
     "output_type": "error",
     "traceback": [
      "\u001b[1;31m---------------------------------------------------------------------------\u001b[0m",
      "\u001b[1;31mImportError\u001b[0m                               Traceback (most recent call last)",
      "\u001b[1;32mUntitled-1.ipynb Cell 3\u001b[0m line \u001b[0;36m9\n\u001b[0;32m      <a href='vscode-notebook-cell:Untitled-1.ipynb?jupyter-notebook#W2sdW50aXRsZWQ%3D?line=2'>3</a>\u001b[0m fips \u001b[39m=\u001b[39m [\u001b[39m'\u001b[39m\u001b[39m06021\u001b[39m\u001b[39m'\u001b[39m, \u001b[39m'\u001b[39m\u001b[39m06023\u001b[39m\u001b[39m'\u001b[39m, \u001b[39m'\u001b[39m\u001b[39m06027\u001b[39m\u001b[39m'\u001b[39m,\n\u001b[0;32m      <a href='vscode-notebook-cell:Untitled-1.ipynb?jupyter-notebook#W2sdW50aXRsZWQ%3D?line=3'>4</a>\u001b[0m         \u001b[39m'\u001b[39m\u001b[39m06029\u001b[39m\u001b[39m'\u001b[39m, \u001b[39m'\u001b[39m\u001b[39m06033\u001b[39m\u001b[39m'\u001b[39m, \u001b[39m'\u001b[39m\u001b[39m06059\u001b[39m\u001b[39m'\u001b[39m,\n\u001b[0;32m      <a href='vscode-notebook-cell:Untitled-1.ipynb?jupyter-notebook#W2sdW50aXRsZWQ%3D?line=4'>5</a>\u001b[0m         \u001b[39m'\u001b[39m\u001b[39m06047\u001b[39m\u001b[39m'\u001b[39m, \u001b[39m'\u001b[39m\u001b[39m06049\u001b[39m\u001b[39m'\u001b[39m, \u001b[39m'\u001b[39m\u001b[39m06051\u001b[39m\u001b[39m'\u001b[39m,\n\u001b[0;32m      <a href='vscode-notebook-cell:Untitled-1.ipynb?jupyter-notebook#W2sdW50aXRsZWQ%3D?line=5'>6</a>\u001b[0m         \u001b[39m'\u001b[39m\u001b[39m06055\u001b[39m\u001b[39m'\u001b[39m, \u001b[39m'\u001b[39m\u001b[39m06061\u001b[39m\u001b[39m'\u001b[39m]\n\u001b[0;32m      <a href='vscode-notebook-cell:Untitled-1.ipynb?jupyter-notebook#W2sdW50aXRsZWQ%3D?line=6'>7</a>\u001b[0m values \u001b[39m=\u001b[39m \u001b[39mrange\u001b[39m(\u001b[39mlen\u001b[39m(fips))\n\u001b[1;32m----> <a href='vscode-notebook-cell:Untitled-1.ipynb?jupyter-notebook#W2sdW50aXRsZWQ%3D?line=8'>9</a>\u001b[0m fig \u001b[39m=\u001b[39m ff\u001b[39m.\u001b[39;49mcreate_choropleth(fips\u001b[39m=\u001b[39;49mfips, values\u001b[39m=\u001b[39;49mvalues)\n\u001b[0;32m     <a href='vscode-notebook-cell:Untitled-1.ipynb?jupyter-notebook#W2sdW50aXRsZWQ%3D?line=9'>10</a>\u001b[0m fig\u001b[39m.\u001b[39mlayout\u001b[39m.\u001b[39mtemplate \u001b[39m=\u001b[39m \u001b[39mNone\u001b[39;00m\n\u001b[0;32m     <a href='vscode-notebook-cell:Untitled-1.ipynb?jupyter-notebook#W2sdW50aXRsZWQ%3D?line=10'>11</a>\u001b[0m fig\u001b[39m.\u001b[39mshow()\n",
      "File \u001b[1;32mc:\\Users\\sofia\\Downloads\\deploy_flask\\venv\\lib\\site-packages\\plotly\\figure_factory\\_county_choropleth.py:624\u001b[0m, in \u001b[0;36mcreate_choropleth\u001b[1;34m(fips, values, scope, binning_endpoints, colorscale, order, simplify_county, simplify_state, asp, show_hover, show_state_data, state_outline, county_outline, centroid_marker, round_legend_values, exponent_format, legend_title, **layout_options)\u001b[0m\n\u001b[0;32m    610\u001b[0m         \u001b[39mraise\u001b[39;00m \u001b[39mValueError\u001b[39;00m(\n\u001b[0;32m    611\u001b[0m \u001b[39m            \u001b[39m\u001b[39m\"\"\"\u001b[39;00m\n\u001b[0;32m    612\u001b[0m \u001b[39mThe create_choropleth figure factory requires the plotly-geo package.\u001b[39;00m\n\u001b[1;32m   (...)\u001b[0m\n\u001b[0;32m    620\u001b[0m \u001b[39m\"\"\"\u001b[39;00m\n\u001b[0;32m    621\u001b[0m         )\n\u001b[0;32m    623\u001b[0m     \u001b[39mif\u001b[39;00m \u001b[39mnot\u001b[39;00m gp \u001b[39mor\u001b[39;00m \u001b[39mnot\u001b[39;00m shapefile \u001b[39mor\u001b[39;00m \u001b[39mnot\u001b[39;00m shapely:\n\u001b[1;32m--> 624\u001b[0m         \u001b[39mraise\u001b[39;00m \u001b[39mImportError\u001b[39;00m(\n\u001b[0;32m    625\u001b[0m             \u001b[39m\"\u001b[39m\u001b[39mgeopandas, pyshp and shapely must be installed for this figure \u001b[39m\u001b[39m\"\u001b[39m\n\u001b[0;32m    626\u001b[0m             \u001b[39m\"\u001b[39m\u001b[39mfactory.\u001b[39m\u001b[39m\\n\u001b[39;00m\u001b[39m\\n\u001b[39;00m\u001b[39mRun the following commands to install the correct \u001b[39m\u001b[39m\"\u001b[39m\n\u001b[0;32m    627\u001b[0m             \u001b[39m\"\u001b[39m\u001b[39mversions of the following modules:\u001b[39m\u001b[39m\\n\u001b[39;00m\u001b[39m\\n\u001b[39;00m\u001b[39m\"\u001b[39m\n\u001b[0;32m    628\u001b[0m             \u001b[39m\"\u001b[39m\u001b[39m```\u001b[39m\u001b[39m\\n\u001b[39;00m\u001b[39m\"\u001b[39m\n\u001b[0;32m    629\u001b[0m             \u001b[39m\"\u001b[39m\u001b[39m$ pip install geopandas==0.3.0\u001b[39m\u001b[39m\\n\u001b[39;00m\u001b[39m\"\u001b[39m\n\u001b[0;32m    630\u001b[0m             \u001b[39m\"\u001b[39m\u001b[39m$ pip install pyshp==1.2.10\u001b[39m\u001b[39m\\n\u001b[39;00m\u001b[39m\"\u001b[39m\n\u001b[0;32m    631\u001b[0m             \u001b[39m\"\u001b[39m\u001b[39m$ pip install shapely==1.6.3\u001b[39m\u001b[39m\\n\u001b[39;00m\u001b[39m\"\u001b[39m\n\u001b[0;32m    632\u001b[0m             \u001b[39m\"\u001b[39m\u001b[39m```\u001b[39m\u001b[39m\\n\u001b[39;00m\u001b[39m\"\u001b[39m\n\u001b[0;32m    633\u001b[0m             \u001b[39m\"\u001b[39m\u001b[39mIf you are using Windows, follow this post to properly \u001b[39m\u001b[39m\"\u001b[39m\n\u001b[0;32m    634\u001b[0m             \u001b[39m\"\u001b[39m\u001b[39minstall geopandas and dependencies:\u001b[39m\u001b[39m\"\u001b[39m\n\u001b[0;32m    635\u001b[0m             \u001b[39m\"\u001b[39m\u001b[39mhttp://geoffboeing.com/2014/09/using-geopandas-windows/\u001b[39m\u001b[39m\\n\u001b[39;00m\u001b[39m\\n\u001b[39;00m\u001b[39m\"\u001b[39m\n\u001b[0;32m    636\u001b[0m             \u001b[39m\"\u001b[39m\u001b[39mIf you are using Anaconda, do not use PIP to install the \u001b[39m\u001b[39m\"\u001b[39m\n\u001b[0;32m    637\u001b[0m             \u001b[39m\"\u001b[39m\u001b[39mpackages above. Instead use conda to install them:\u001b[39m\u001b[39m\\n\u001b[39;00m\u001b[39m\\n\u001b[39;00m\u001b[39m\"\u001b[39m\n\u001b[0;32m    638\u001b[0m             \u001b[39m\"\u001b[39m\u001b[39m```\u001b[39m\u001b[39m\\n\u001b[39;00m\u001b[39m\"\u001b[39m\n\u001b[0;32m    639\u001b[0m             \u001b[39m\"\u001b[39m\u001b[39m$ conda install plotly\u001b[39m\u001b[39m\\n\u001b[39;00m\u001b[39m\"\u001b[39m\n\u001b[0;32m    640\u001b[0m             \u001b[39m\"\u001b[39m\u001b[39m$ conda install geopandas\u001b[39m\u001b[39m\\n\u001b[39;00m\u001b[39m\"\u001b[39m\n\u001b[0;32m    641\u001b[0m             \u001b[39m\"\u001b[39m\u001b[39m```\u001b[39m\u001b[39m\"\u001b[39m\n\u001b[0;32m    642\u001b[0m         )\n\u001b[0;32m    644\u001b[0m     df, df_state \u001b[39m=\u001b[39m _create_us_counties_df(st_to_state_name_dict, state_to_st_dict)\n\u001b[0;32m    646\u001b[0m     fips_polygon_map \u001b[39m=\u001b[39m \u001b[39mdict\u001b[39m(\u001b[39mzip\u001b[39m(df[\u001b[39m\"\u001b[39m\u001b[39mFIPS\u001b[39m\u001b[39m\"\u001b[39m]\u001b[39m.\u001b[39mtolist(), df[\u001b[39m\"\u001b[39m\u001b[39mgeometry\u001b[39m\u001b[39m\"\u001b[39m]\u001b[39m.\u001b[39mtolist()))\n",
      "\u001b[1;31mImportError\u001b[0m: geopandas, pyshp and shapely must be installed for this figure factory.\n\nRun the following commands to install the correct versions of the following modules:\n\n```\n$ pip install geopandas==0.3.0\n$ pip install pyshp==1.2.10\n$ pip install shapely==1.6.3\n```\nIf you are using Windows, follow this post to properly install geopandas and dependencies:http://geoffboeing.com/2014/09/using-geopandas-windows/\n\nIf you are using Anaconda, do not use PIP to install the packages above. Instead use conda to install them:\n\n```\n$ conda install plotly\n$ conda install geopandas\n```"
     ]
    }
   ],
   "source": []
  },
  {
   "cell_type": "code",
   "execution_count": 4,
   "metadata": {},
   "outputs": [
    {
     "name": "stdout",
     "output_type": "stream",
     "text": [
      "Requirement already satisfied: plotly in c:\\users\\sofia\\downloads\\deploy_flask\\venv\\lib\\site-packages (5.17.0)\n",
      "Requirement already satisfied: packaging in c:\\users\\sofia\\downloads\\deploy_flask\\venv\\lib\\site-packages (from plotly) (23.2)\n",
      "Requirement already satisfied: tenacity>=6.2.0 in c:\\users\\sofia\\downloads\\deploy_flask\\venv\\lib\\site-packages (from plotly) (8.2.3)\n",
      "Note: you may need to restart the kernel to use updated packages.\n"
     ]
    },
    {
     "name": "stderr",
     "output_type": "stream",
     "text": [
      "\n",
      "[notice] A new release of pip is available: 23.0.1 -> 23.2.1\n",
      "[notice] To update, run: python.exe -m pip install --upgrade pip\n"
     ]
    },
    {
     "name": "stdout",
     "output_type": "stream",
     "text": [
      "Requirement already satisfied: geopandas in c:\\users\\sofia\\downloads\\deploy_flask\\venv\\lib\\site-packages (0.3.0)\n",
      "Requirement already satisfied: shapely in c:\\users\\sofia\\downloads\\deploy_flask\\venv\\lib\\site-packages (from geopandas) (2.0.1)\n",
      "Requirement already satisfied: pyproj in c:\\users\\sofia\\downloads\\deploy_flask\\venv\\lib\\site-packages (from geopandas) (3.6.1)\n",
      "Requirement already satisfied: fiona in c:\\users\\sofia\\downloads\\deploy_flask\\venv\\lib\\site-packages (from geopandas) (1.9.4.post1)\n",
      "Requirement already satisfied: descartes in c:\\users\\sofia\\downloads\\deploy_flask\\venv\\lib\\site-packages (from geopandas) (1.1.0)\n",
      "Requirement already satisfied: pandas in c:\\users\\sofia\\downloads\\deploy_flask\\venv\\lib\\site-packages (from geopandas) (2.0.3)\n",
      "Requirement already satisfied: matplotlib in c:\\users\\sofia\\downloads\\deploy_flask\\venv\\lib\\site-packages (from descartes->geopandas) (3.8.0)\n",
      "Requirement already satisfied: click~=8.0 in c:\\users\\sofia\\downloads\\deploy_flask\\venv\\lib\\site-packages (from fiona->geopandas) (8.1.7)\n",
      "Requirement already satisfied: cligj>=0.5 in c:\\users\\sofia\\downloads\\deploy_flask\\venv\\lib\\site-packages (from fiona->geopandas) (0.7.2)\n",
      "Requirement already satisfied: attrs>=19.2.0 in c:\\users\\sofia\\downloads\\deploy_flask\\venv\\lib\\site-packages (from fiona->geopandas) (23.1.0)\n",
      "Requirement already satisfied: certifi in c:\\users\\sofia\\downloads\\deploy_flask\\venv\\lib\\site-packages (from fiona->geopandas) (2023.7.22)\n",
      "Requirement already satisfied: six in c:\\users\\sofia\\downloads\\deploy_flask\\venv\\lib\\site-packages (from fiona->geopandas) (1.16.0)\n",
      "Requirement already satisfied: click-plugins>=1.0 in c:\\users\\sofia\\downloads\\deploy_flask\\venv\\lib\\site-packages (from fiona->geopandas) (1.1.1)\n",
      "Requirement already satisfied: pytz>=2020.1 in c:\\users\\sofia\\downloads\\deploy_flask\\venv\\lib\\site-packages (from pandas->geopandas) (2023.3)\n",
      "Requirement already satisfied: python-dateutil>=2.8.2 in c:\\users\\sofia\\downloads\\deploy_flask\\venv\\lib\\site-packages (from pandas->geopandas) (2.8.2)\n",
      "Requirement already satisfied: numpy>=1.21.0 in c:\\users\\sofia\\downloads\\deploy_flask\\venv\\lib\\site-packages (from pandas->geopandas) (1.25.2)\n",
      "Requirement already satisfied: tzdata>=2022.1 in c:\\users\\sofia\\downloads\\deploy_flask\\venv\\lib\\site-packages (from pandas->geopandas) (2023.3)\n",
      "Requirement already satisfied: colorama in c:\\users\\sofia\\downloads\\deploy_flask\\venv\\lib\\site-packages (from click~=8.0->fiona->geopandas) (0.4.6)\n",
      "Requirement already satisfied: fonttools>=4.22.0 in c:\\users\\sofia\\downloads\\deploy_flask\\venv\\lib\\site-packages (from matplotlib->descartes->geopandas) (4.43.0)\n",
      "Requirement already satisfied: pillow>=6.2.0 in c:\\users\\sofia\\downloads\\deploy_flask\\venv\\lib\\site-packages (from matplotlib->descartes->geopandas) (10.0.1)\n",
      "Requirement already satisfied: kiwisolver>=1.0.1 in c:\\users\\sofia\\downloads\\deploy_flask\\venv\\lib\\site-packages (from matplotlib->descartes->geopandas) (1.4.5)\n",
      "Requirement already satisfied: cycler>=0.10 in c:\\users\\sofia\\downloads\\deploy_flask\\venv\\lib\\site-packages (from matplotlib->descartes->geopandas) (0.12.0)\n",
      "Requirement already satisfied: packaging>=20.0 in c:\\users\\sofia\\downloads\\deploy_flask\\venv\\lib\\site-packages (from matplotlib->descartes->geopandas) (23.2)\n",
      "Requirement already satisfied: pyparsing>=2.3.1 in c:\\users\\sofia\\downloads\\deploy_flask\\venv\\lib\\site-packages (from matplotlib->descartes->geopandas) (3.1.1)\n",
      "Requirement already satisfied: contourpy>=1.0.1 in c:\\users\\sofia\\downloads\\deploy_flask\\venv\\lib\\site-packages (from matplotlib->descartes->geopandas) (1.1.1)\n",
      "Note: you may need to restart the kernel to use updated packages.\n"
     ]
    },
    {
     "name": "stderr",
     "output_type": "stream",
     "text": [
      "\n",
      "[notice] A new release of pip is available: 23.0.1 -> 23.2.1\n",
      "[notice] To update, run: python.exe -m pip install --upgrade pip\n"
     ]
    }
   ],
   "source": [
    "%pip install plotly\n",
    "%pip install geopandas"
   ]
  },
  {
   "cell_type": "code",
   "execution_count": 5,
   "metadata": {},
   "outputs": [
    {
     "ename": "ImportError",
     "evalue": "geopandas, pyshp and shapely must be installed for this figure factory.\n\nRun the following commands to install the correct versions of the following modules:\n\n```\n$ pip install geopandas==0.3.0\n$ pip install pyshp==1.2.10\n$ pip install shapely==1.6.3\n```\nIf you are using Windows, follow this post to properly install geopandas and dependencies:http://geoffboeing.com/2014/09/using-geopandas-windows/\n\nIf you are using Anaconda, do not use PIP to install the packages above. Instead use conda to install them:\n\n```\n$ conda install plotly\n$ conda install geopandas\n```",
     "output_type": "error",
     "traceback": [
      "\u001b[1;31m---------------------------------------------------------------------------\u001b[0m",
      "\u001b[1;31mImportError\u001b[0m                               Traceback (most recent call last)",
      "\u001b[1;32mc:\\Users\\sofia\\OneDrive\\Documents\\GitHub\\BTT-JPMC-1\\Untitled-1.ipynb Cell 5\u001b[0m line \u001b[0;36m9\n\u001b[0;32m      <a href='vscode-notebook-cell:/c%3A/Users/sofia/OneDrive/Documents/GitHub/BTT-JPMC-1/Untitled-1.ipynb#W4sZmlsZQ%3D%3D?line=2'>3</a>\u001b[0m fips \u001b[39m=\u001b[39m [\u001b[39m'\u001b[39m\u001b[39m06021\u001b[39m\u001b[39m'\u001b[39m, \u001b[39m'\u001b[39m\u001b[39m06023\u001b[39m\u001b[39m'\u001b[39m, \u001b[39m'\u001b[39m\u001b[39m06027\u001b[39m\u001b[39m'\u001b[39m,\n\u001b[0;32m      <a href='vscode-notebook-cell:/c%3A/Users/sofia/OneDrive/Documents/GitHub/BTT-JPMC-1/Untitled-1.ipynb#W4sZmlsZQ%3D%3D?line=3'>4</a>\u001b[0m         \u001b[39m'\u001b[39m\u001b[39m06029\u001b[39m\u001b[39m'\u001b[39m, \u001b[39m'\u001b[39m\u001b[39m06033\u001b[39m\u001b[39m'\u001b[39m, \u001b[39m'\u001b[39m\u001b[39m06059\u001b[39m\u001b[39m'\u001b[39m,\n\u001b[0;32m      <a href='vscode-notebook-cell:/c%3A/Users/sofia/OneDrive/Documents/GitHub/BTT-JPMC-1/Untitled-1.ipynb#W4sZmlsZQ%3D%3D?line=4'>5</a>\u001b[0m         \u001b[39m'\u001b[39m\u001b[39m06047\u001b[39m\u001b[39m'\u001b[39m, \u001b[39m'\u001b[39m\u001b[39m06049\u001b[39m\u001b[39m'\u001b[39m, \u001b[39m'\u001b[39m\u001b[39m06051\u001b[39m\u001b[39m'\u001b[39m,\n\u001b[0;32m      <a href='vscode-notebook-cell:/c%3A/Users/sofia/OneDrive/Documents/GitHub/BTT-JPMC-1/Untitled-1.ipynb#W4sZmlsZQ%3D%3D?line=5'>6</a>\u001b[0m         \u001b[39m'\u001b[39m\u001b[39m06055\u001b[39m\u001b[39m'\u001b[39m, \u001b[39m'\u001b[39m\u001b[39m06061\u001b[39m\u001b[39m'\u001b[39m]\n\u001b[0;32m      <a href='vscode-notebook-cell:/c%3A/Users/sofia/OneDrive/Documents/GitHub/BTT-JPMC-1/Untitled-1.ipynb#W4sZmlsZQ%3D%3D?line=6'>7</a>\u001b[0m values \u001b[39m=\u001b[39m \u001b[39mrange\u001b[39m(\u001b[39mlen\u001b[39m(fips))\n\u001b[1;32m----> <a href='vscode-notebook-cell:/c%3A/Users/sofia/OneDrive/Documents/GitHub/BTT-JPMC-1/Untitled-1.ipynb#W4sZmlsZQ%3D%3D?line=8'>9</a>\u001b[0m fig \u001b[39m=\u001b[39m ff\u001b[39m.\u001b[39;49mcreate_choropleth(fips\u001b[39m=\u001b[39;49mfips, values\u001b[39m=\u001b[39;49mvalues)\n\u001b[0;32m     <a href='vscode-notebook-cell:/c%3A/Users/sofia/OneDrive/Documents/GitHub/BTT-JPMC-1/Untitled-1.ipynb#W4sZmlsZQ%3D%3D?line=9'>10</a>\u001b[0m fig\u001b[39m.\u001b[39mlayout\u001b[39m.\u001b[39mtemplate \u001b[39m=\u001b[39m \u001b[39mNone\u001b[39;00m\n\u001b[0;32m     <a href='vscode-notebook-cell:/c%3A/Users/sofia/OneDrive/Documents/GitHub/BTT-JPMC-1/Untitled-1.ipynb#W4sZmlsZQ%3D%3D?line=10'>11</a>\u001b[0m fig\u001b[39m.\u001b[39mshow()\n",
      "File \u001b[1;32mc:\\Users\\sofia\\Downloads\\deploy_flask\\venv\\lib\\site-packages\\plotly\\figure_factory\\_county_choropleth.py:624\u001b[0m, in \u001b[0;36mcreate_choropleth\u001b[1;34m(fips, values, scope, binning_endpoints, colorscale, order, simplify_county, simplify_state, asp, show_hover, show_state_data, state_outline, county_outline, centroid_marker, round_legend_values, exponent_format, legend_title, **layout_options)\u001b[0m\n\u001b[0;32m    610\u001b[0m         \u001b[39mraise\u001b[39;00m \u001b[39mValueError\u001b[39;00m(\n\u001b[0;32m    611\u001b[0m \u001b[39m            \u001b[39m\u001b[39m\"\"\"\u001b[39;00m\n\u001b[0;32m    612\u001b[0m \u001b[39mThe create_choropleth figure factory requires the plotly-geo package.\u001b[39;00m\n\u001b[1;32m   (...)\u001b[0m\n\u001b[0;32m    620\u001b[0m \u001b[39m\"\"\"\u001b[39;00m\n\u001b[0;32m    621\u001b[0m         )\n\u001b[0;32m    623\u001b[0m     \u001b[39mif\u001b[39;00m \u001b[39mnot\u001b[39;00m gp \u001b[39mor\u001b[39;00m \u001b[39mnot\u001b[39;00m shapefile \u001b[39mor\u001b[39;00m \u001b[39mnot\u001b[39;00m shapely:\n\u001b[1;32m--> 624\u001b[0m         \u001b[39mraise\u001b[39;00m \u001b[39mImportError\u001b[39;00m(\n\u001b[0;32m    625\u001b[0m             \u001b[39m\"\u001b[39m\u001b[39mgeopandas, pyshp and shapely must be installed for this figure \u001b[39m\u001b[39m\"\u001b[39m\n\u001b[0;32m    626\u001b[0m             \u001b[39m\"\u001b[39m\u001b[39mfactory.\u001b[39m\u001b[39m\\n\u001b[39;00m\u001b[39m\\n\u001b[39;00m\u001b[39mRun the following commands to install the correct \u001b[39m\u001b[39m\"\u001b[39m\n\u001b[0;32m    627\u001b[0m             \u001b[39m\"\u001b[39m\u001b[39mversions of the following modules:\u001b[39m\u001b[39m\\n\u001b[39;00m\u001b[39m\\n\u001b[39;00m\u001b[39m\"\u001b[39m\n\u001b[0;32m    628\u001b[0m             \u001b[39m\"\u001b[39m\u001b[39m```\u001b[39m\u001b[39m\\n\u001b[39;00m\u001b[39m\"\u001b[39m\n\u001b[0;32m    629\u001b[0m             \u001b[39m\"\u001b[39m\u001b[39m$ pip install geopandas==0.3.0\u001b[39m\u001b[39m\\n\u001b[39;00m\u001b[39m\"\u001b[39m\n\u001b[0;32m    630\u001b[0m             \u001b[39m\"\u001b[39m\u001b[39m$ pip install pyshp==1.2.10\u001b[39m\u001b[39m\\n\u001b[39;00m\u001b[39m\"\u001b[39m\n\u001b[0;32m    631\u001b[0m             \u001b[39m\"\u001b[39m\u001b[39m$ pip install shapely==1.6.3\u001b[39m\u001b[39m\\n\u001b[39;00m\u001b[39m\"\u001b[39m\n\u001b[0;32m    632\u001b[0m             \u001b[39m\"\u001b[39m\u001b[39m```\u001b[39m\u001b[39m\\n\u001b[39;00m\u001b[39m\"\u001b[39m\n\u001b[0;32m    633\u001b[0m             \u001b[39m\"\u001b[39m\u001b[39mIf you are using Windows, follow this post to properly \u001b[39m\u001b[39m\"\u001b[39m\n\u001b[0;32m    634\u001b[0m             \u001b[39m\"\u001b[39m\u001b[39minstall geopandas and dependencies:\u001b[39m\u001b[39m\"\u001b[39m\n\u001b[0;32m    635\u001b[0m             \u001b[39m\"\u001b[39m\u001b[39mhttp://geoffboeing.com/2014/09/using-geopandas-windows/\u001b[39m\u001b[39m\\n\u001b[39;00m\u001b[39m\\n\u001b[39;00m\u001b[39m\"\u001b[39m\n\u001b[0;32m    636\u001b[0m             \u001b[39m\"\u001b[39m\u001b[39mIf you are using Anaconda, do not use PIP to install the \u001b[39m\u001b[39m\"\u001b[39m\n\u001b[0;32m    637\u001b[0m             \u001b[39m\"\u001b[39m\u001b[39mpackages above. Instead use conda to install them:\u001b[39m\u001b[39m\\n\u001b[39;00m\u001b[39m\\n\u001b[39;00m\u001b[39m\"\u001b[39m\n\u001b[0;32m    638\u001b[0m             \u001b[39m\"\u001b[39m\u001b[39m```\u001b[39m\u001b[39m\\n\u001b[39;00m\u001b[39m\"\u001b[39m\n\u001b[0;32m    639\u001b[0m             \u001b[39m\"\u001b[39m\u001b[39m$ conda install plotly\u001b[39m\u001b[39m\\n\u001b[39;00m\u001b[39m\"\u001b[39m\n\u001b[0;32m    640\u001b[0m             \u001b[39m\"\u001b[39m\u001b[39m$ conda install geopandas\u001b[39m\u001b[39m\\n\u001b[39;00m\u001b[39m\"\u001b[39m\n\u001b[0;32m    641\u001b[0m             \u001b[39m\"\u001b[39m\u001b[39m```\u001b[39m\u001b[39m\"\u001b[39m\n\u001b[0;32m    642\u001b[0m         )\n\u001b[0;32m    644\u001b[0m     df, df_state \u001b[39m=\u001b[39m _create_us_counties_df(st_to_state_name_dict, state_to_st_dict)\n\u001b[0;32m    646\u001b[0m     fips_polygon_map \u001b[39m=\u001b[39m \u001b[39mdict\u001b[39m(\u001b[39mzip\u001b[39m(df[\u001b[39m\"\u001b[39m\u001b[39mFIPS\u001b[39m\u001b[39m\"\u001b[39m]\u001b[39m.\u001b[39mtolist(), df[\u001b[39m\"\u001b[39m\u001b[39mgeometry\u001b[39m\u001b[39m\"\u001b[39m]\u001b[39m.\u001b[39mtolist()))\n",
      "\u001b[1;31mImportError\u001b[0m: geopandas, pyshp and shapely must be installed for this figure factory.\n\nRun the following commands to install the correct versions of the following modules:\n\n```\n$ pip install geopandas==0.3.0\n$ pip install pyshp==1.2.10\n$ pip install shapely==1.6.3\n```\nIf you are using Windows, follow this post to properly install geopandas and dependencies:http://geoffboeing.com/2014/09/using-geopandas-windows/\n\nIf you are using Anaconda, do not use PIP to install the packages above. Instead use conda to install them:\n\n```\n$ conda install plotly\n$ conda install geopandas\n```"
     ]
    }
   ],
   "source": [
    "import plotly.figure_factory as ff\n",
    "\n",
    "fips = ['06021', '06023', '06027',\n",
    "        '06029', '06033', '06059',\n",
    "        '06047', '06049', '06051',\n",
    "        '06055', '06061']\n",
    "values = range(len(fips))\n",
    "\n",
    "fig = ff.create_choropleth(fips=fips, values=values)\n",
    "fig.layout.template = None\n",
    "fig.show()"
   ]
  },
  {
   "cell_type": "code",
   "execution_count": null,
   "metadata": {},
   "outputs": [],
   "source": []
  }
 ],
 "metadata": {
  "kernelspec": {
   "display_name": "venv",
   "language": "python",
   "name": "python3"
  },
  "language_info": {
   "codemirror_mode": {
    "name": "ipython",
    "version": 3
   },
   "file_extension": ".py",
   "mimetype": "text/x-python",
   "name": "python",
   "nbconvert_exporter": "python",
   "pygments_lexer": "ipython3",
   "version": "3.10.11"
  },
  "orig_nbformat": 4
 },
 "nbformat": 4,
 "nbformat_minor": 2
}
