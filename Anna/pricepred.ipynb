{
 "cells": [
  {
   "cell_type": "code",
   "execution_count": 50,
   "metadata": {},
   "outputs": [],
   "source": [
    "import xgboost as xgb\n",
    "import pandas as pd\n",
    "import os"
   ]
  },
  {
   "cell_type": "code",
   "execution_count": 51,
   "metadata": {},
   "outputs": [],
   "source": [
    "#filename = \"/Users/annahauk/Desktop/Machine Learning/SP500AdjPrice.csv\"\n",
    "filename = os.path.join(os.getcwd(), \"SP500AdjPrice.csv\")\n",
    "df = pd.read_csv(filename, header = 0)"
   ]
  },
  {
   "cell_type": "code",
   "execution_count": 52,
   "metadata": {},
   "outputs": [
    {
     "data": {
      "text/html": [
       "<div>\n",
       "<style scoped>\n",
       "    .dataframe tbody tr th:only-of-type {\n",
       "        vertical-align: middle;\n",
       "    }\n",
       "\n",
       "    .dataframe tbody tr th {\n",
       "        vertical-align: top;\n",
       "    }\n",
       "\n",
       "    .dataframe thead th {\n",
       "        text-align: right;\n",
       "    }\n",
       "</style>\n",
       "<table border=\"1\" class=\"dataframe\">\n",
       "  <thead>\n",
       "    <tr style=\"text-align: right;\">\n",
       "      <th></th>\n",
       "      <th>Industry</th>\n",
       "    </tr>\n",
       "  </thead>\n",
       "  <tbody>\n",
       "    <tr>\n",
       "      <th>A</th>\n",
       "      <td>Materials</td>\n",
       "    </tr>\n",
       "    <tr>\n",
       "      <th>AAL</th>\n",
       "      <td>Real Estate</td>\n",
       "    </tr>\n",
       "    <tr>\n",
       "      <th>AAPL</th>\n",
       "      <td>Information Technology</td>\n",
       "    </tr>\n",
       "    <tr>\n",
       "      <th>ABBV</th>\n",
       "      <td>Health Care</td>\n",
       "    </tr>\n",
       "    <tr>\n",
       "      <th>ABNB</th>\n",
       "      <td>Information Technology</td>\n",
       "    </tr>\n",
       "    <tr>\n",
       "      <th>ABT</th>\n",
       "      <td>Health Care</td>\n",
       "    </tr>\n",
       "    <tr>\n",
       "      <th>ACGL</th>\n",
       "      <td>Communication Services</td>\n",
       "    </tr>\n",
       "    <tr>\n",
       "      <th>ACN</th>\n",
       "      <td>Information Technology</td>\n",
       "    </tr>\n",
       "    <tr>\n",
       "      <th>ADBE</th>\n",
       "      <td>Industrials</td>\n",
       "    </tr>\n",
       "    <tr>\n",
       "      <th>ADI</th>\n",
       "      <td>Information Technology</td>\n",
       "    </tr>\n",
       "  </tbody>\n",
       "</table>\n",
       "</div>"
      ],
      "text/plain": [
       "                    Industry\n",
       "A                  Materials\n",
       "AAL              Real Estate\n",
       "AAPL  Information Technology\n",
       "ABBV             Health Care\n",
       "ABNB  Information Technology\n",
       "ABT              Health Care\n",
       "ACGL  Communication Services\n",
       "ACN   Information Technology\n",
       "ADBE             Industrials\n",
       "ADI   Information Technology"
      ]
     },
     "execution_count": 52,
     "metadata": {},
     "output_type": "execute_result"
    }
   ],
   "source": [
    "data    = pd.read_html('https://en.wikipedia.org/wiki/List_of_S%26P_500_companies#S%26P_500_component_stocks')\n",
    "table_symbol   = data[0]\n",
    "table_industry = data[0]['GICS Sector']\n",
    "\n",
    "#these 2 lists are in order with one another\n",
    "symbols = list(table_symbol.Symbol.values)\n",
    "industries = list(table_industry.values) ##Industry Sector\n",
    "\n",
    "remove = []\n",
    "\n",
    "symbols_to_remove = ['BF.B', 'BRK.B', 'KVUE', 'VLTO','SPY']\n",
    "\n",
    "for i, symbol in enumerate(symbols):\n",
    "    if symbol in symbols_to_remove:\n",
    "        remove.append(i)\n",
    "#print(remove)\n",
    "\n",
    "#list(set(industries))\n",
    "\n",
    "for i in remove:\n",
    "    symbols.remove(symbols[i])\n",
    "    industries.remove(industries[i])\n",
    "\n",
    "#print(len(symbols))\n",
    "#print(set(industries))\n",
    "\n",
    "symbol_industry = dict(zip(symbols,industries))\n",
    "\n",
    "df_industries = pd.DataFrame({'Industry': [symbol_industry[symbol] for symbol in symbols]})\n",
    "df_industries.index = symbol_industry.keys()\n",
    "df_industries = df_industries.sort_index()\n",
    "df_industries.head(10)"
   ]
  },
  {
   "cell_type": "code",
   "execution_count": 53,
   "metadata": {},
   "outputs": [
    {
     "data": {
      "text/html": [
       "<div>\n",
       "<style scoped>\n",
       "    .dataframe tbody tr th:only-of-type {\n",
       "        vertical-align: middle;\n",
       "    }\n",
       "\n",
       "    .dataframe tbody tr th {\n",
       "        vertical-align: top;\n",
       "    }\n",
       "\n",
       "    .dataframe thead th {\n",
       "        text-align: right;\n",
       "    }\n",
       "</style>\n",
       "<table border=\"1\" class=\"dataframe\">\n",
       "  <thead>\n",
       "    <tr style=\"text-align: right;\">\n",
       "      <th></th>\n",
       "      <th>Adj Close 2023-03-02</th>\n",
       "      <th>Adj Close 2023-03-03</th>\n",
       "      <th>Adj Close 2023-03-06</th>\n",
       "      <th>Adj Close 2023-03-07</th>\n",
       "      <th>Adj Close 2023-03-08</th>\n",
       "      <th>Adj Close 2023-03-09</th>\n",
       "      <th>Adj Close 2023-03-10</th>\n",
       "      <th>Adj Close 2023-03-13</th>\n",
       "      <th>Adj Close 2023-03-14</th>\n",
       "      <th>Adj Close 2023-03-15</th>\n",
       "      <th>Adj Close 2023-03-16</th>\n",
       "      <th>Adj Close 2023-03-17</th>\n",
       "      <th>Adj Close 2023-03-20</th>\n",
       "    </tr>\n",
       "  </thead>\n",
       "  <tbody>\n",
       "    <tr>\n",
       "      <th>A</th>\n",
       "      <td>140.885956</td>\n",
       "      <td>143.133453</td>\n",
       "      <td>142.437317</td>\n",
       "      <td>139.553360</td>\n",
       "      <td>140.120193</td>\n",
       "      <td>138.161102</td>\n",
       "      <td>134.968872</td>\n",
       "      <td>135.933502</td>\n",
       "      <td>137.634033</td>\n",
       "      <td>133.288239</td>\n",
       "      <td>136.062790</td>\n",
       "      <td>132.442917</td>\n",
       "      <td>133.795410</td>\n",
       "    </tr>\n",
       "    <tr>\n",
       "      <th>AAL</th>\n",
       "      <td>16.120001</td>\n",
       "      <td>16.360001</td>\n",
       "      <td>16.120001</td>\n",
       "      <td>16.360001</td>\n",
       "      <td>16.590000</td>\n",
       "      <td>15.880000</td>\n",
       "      <td>15.460000</td>\n",
       "      <td>14.850000</td>\n",
       "      <td>14.660000</td>\n",
       "      <td>13.860000</td>\n",
       "      <td>14.120000</td>\n",
       "      <td>13.980000</td>\n",
       "      <td>13.960000</td>\n",
       "    </tr>\n",
       "    <tr>\n",
       "      <th>AAPL</th>\n",
       "      <td>145.511978</td>\n",
       "      <td>150.617996</td>\n",
       "      <td>153.410370</td>\n",
       "      <td>151.186447</td>\n",
       "      <td>152.452972</td>\n",
       "      <td>150.179184</td>\n",
       "      <td>148.094894</td>\n",
       "      <td>150.059525</td>\n",
       "      <td>152.173737</td>\n",
       "      <td>152.572647</td>\n",
       "      <td>155.424850</td>\n",
       "      <td>154.577164</td>\n",
       "      <td>156.970612</td>\n",
       "    </tr>\n",
       "    <tr>\n",
       "      <th>ABBV</th>\n",
       "      <td>151.295471</td>\n",
       "      <td>152.941910</td>\n",
       "      <td>152.177490</td>\n",
       "      <td>149.874420</td>\n",
       "      <td>146.610977</td>\n",
       "      <td>144.405930</td>\n",
       "      <td>146.718781</td>\n",
       "      <td>148.914017</td>\n",
       "      <td>150.776062</td>\n",
       "      <td>150.981857</td>\n",
       "      <td>152.197098</td>\n",
       "      <td>151.138672</td>\n",
       "      <td>153.000702</td>\n",
       "    </tr>\n",
       "    <tr>\n",
       "      <th>ABNB</th>\n",
       "      <td>122.379997</td>\n",
       "      <td>125.730003</td>\n",
       "      <td>126.330002</td>\n",
       "      <td>126.940002</td>\n",
       "      <td>125.000000</td>\n",
       "      <td>119.839996</td>\n",
       "      <td>118.300003</td>\n",
       "      <td>115.959999</td>\n",
       "      <td>116.360001</td>\n",
       "      <td>113.580002</td>\n",
       "      <td>119.989998</td>\n",
       "      <td>118.150002</td>\n",
       "      <td>118.400002</td>\n",
       "    </tr>\n",
       "    <tr>\n",
       "      <th>...</th>\n",
       "      <td>...</td>\n",
       "      <td>...</td>\n",
       "      <td>...</td>\n",
       "      <td>...</td>\n",
       "      <td>...</td>\n",
       "      <td>...</td>\n",
       "      <td>...</td>\n",
       "      <td>...</td>\n",
       "      <td>...</td>\n",
       "      <td>...</td>\n",
       "      <td>...</td>\n",
       "      <td>...</td>\n",
       "      <td>...</td>\n",
       "    </tr>\n",
       "    <tr>\n",
       "      <th>YUM</th>\n",
       "      <td>127.485069</td>\n",
       "      <td>128.465866</td>\n",
       "      <td>128.099319</td>\n",
       "      <td>125.741402</td>\n",
       "      <td>125.602715</td>\n",
       "      <td>124.879494</td>\n",
       "      <td>123.423141</td>\n",
       "      <td>123.730255</td>\n",
       "      <td>125.523445</td>\n",
       "      <td>125.949463</td>\n",
       "      <td>126.870819</td>\n",
       "      <td>125.672058</td>\n",
       "      <td>127.683220</td>\n",
       "    </tr>\n",
       "    <tr>\n",
       "      <th>ZBH</th>\n",
       "      <td>122.286400</td>\n",
       "      <td>125.497932</td>\n",
       "      <td>123.907082</td>\n",
       "      <td>122.445480</td>\n",
       "      <td>121.212585</td>\n",
       "      <td>121.650070</td>\n",
       "      <td>122.823318</td>\n",
       "      <td>123.539192</td>\n",
       "      <td>125.905579</td>\n",
       "      <td>124.543419</td>\n",
       "      <td>124.712440</td>\n",
       "      <td>123.598854</td>\n",
       "      <td>125.607292</td>\n",
       "    </tr>\n",
       "    <tr>\n",
       "      <th>ZBRA</th>\n",
       "      <td>306.059998</td>\n",
       "      <td>309.450012</td>\n",
       "      <td>305.809998</td>\n",
       "      <td>302.160004</td>\n",
       "      <td>307.070007</td>\n",
       "      <td>296.910004</td>\n",
       "      <td>288.190002</td>\n",
       "      <td>284.920013</td>\n",
       "      <td>292.459991</td>\n",
       "      <td>287.739990</td>\n",
       "      <td>294.929993</td>\n",
       "      <td>288.709991</td>\n",
       "      <td>290.839996</td>\n",
       "    </tr>\n",
       "    <tr>\n",
       "      <th>ZION</th>\n",
       "      <td>46.931580</td>\n",
       "      <td>47.825329</td>\n",
       "      <td>47.368736</td>\n",
       "      <td>45.114933</td>\n",
       "      <td>45.348087</td>\n",
       "      <td>40.179882</td>\n",
       "      <td>39.198696</td>\n",
       "      <td>29.114870</td>\n",
       "      <td>30.416636</td>\n",
       "      <td>29.833755</td>\n",
       "      <td>31.193810</td>\n",
       "      <td>29.085726</td>\n",
       "      <td>29.318878</td>\n",
       "    </tr>\n",
       "    <tr>\n",
       "      <th>ZTS</th>\n",
       "      <td>167.849579</td>\n",
       "      <td>169.820999</td>\n",
       "      <td>168.934845</td>\n",
       "      <td>166.306290</td>\n",
       "      <td>167.909317</td>\n",
       "      <td>166.764313</td>\n",
       "      <td>160.830124</td>\n",
       "      <td>162.701996</td>\n",
       "      <td>163.846985</td>\n",
       "      <td>162.861298</td>\n",
       "      <td>165.589417</td>\n",
       "      <td>163.757385</td>\n",
       "      <td>165.101547</td>\n",
       "    </tr>\n",
       "  </tbody>\n",
       "</table>\n",
       "<p>499 rows × 13 columns</p>\n",
       "</div>"
      ],
      "text/plain": [
       "      Adj Close 2023-03-02  Adj Close 2023-03-03  Adj Close 2023-03-06  \\\n",
       "A               140.885956            143.133453            142.437317   \n",
       "AAL              16.120001             16.360001             16.120001   \n",
       "AAPL            145.511978            150.617996            153.410370   \n",
       "ABBV            151.295471            152.941910            152.177490   \n",
       "ABNB            122.379997            125.730003            126.330002   \n",
       "...                    ...                   ...                   ...   \n",
       "YUM             127.485069            128.465866            128.099319   \n",
       "ZBH             122.286400            125.497932            123.907082   \n",
       "ZBRA            306.059998            309.450012            305.809998   \n",
       "ZION             46.931580             47.825329             47.368736   \n",
       "ZTS             167.849579            169.820999            168.934845   \n",
       "\n",
       "      Adj Close 2023-03-07  Adj Close 2023-03-08  Adj Close 2023-03-09  \\\n",
       "A               139.553360            140.120193            138.161102   \n",
       "AAL              16.360001             16.590000             15.880000   \n",
       "AAPL            151.186447            152.452972            150.179184   \n",
       "ABBV            149.874420            146.610977            144.405930   \n",
       "ABNB            126.940002            125.000000            119.839996   \n",
       "...                    ...                   ...                   ...   \n",
       "YUM             125.741402            125.602715            124.879494   \n",
       "ZBH             122.445480            121.212585            121.650070   \n",
       "ZBRA            302.160004            307.070007            296.910004   \n",
       "ZION             45.114933             45.348087             40.179882   \n",
       "ZTS             166.306290            167.909317            166.764313   \n",
       "\n",
       "      Adj Close 2023-03-10  Adj Close 2023-03-13  Adj Close 2023-03-14  \\\n",
       "A               134.968872            135.933502            137.634033   \n",
       "AAL              15.460000             14.850000             14.660000   \n",
       "AAPL            148.094894            150.059525            152.173737   \n",
       "ABBV            146.718781            148.914017            150.776062   \n",
       "ABNB            118.300003            115.959999            116.360001   \n",
       "...                    ...                   ...                   ...   \n",
       "YUM             123.423141            123.730255            125.523445   \n",
       "ZBH             122.823318            123.539192            125.905579   \n",
       "ZBRA            288.190002            284.920013            292.459991   \n",
       "ZION             39.198696             29.114870             30.416636   \n",
       "ZTS             160.830124            162.701996            163.846985   \n",
       "\n",
       "      Adj Close 2023-03-15  Adj Close 2023-03-16  Adj Close 2023-03-17  \\\n",
       "A               133.288239            136.062790            132.442917   \n",
       "AAL              13.860000             14.120000             13.980000   \n",
       "AAPL            152.572647            155.424850            154.577164   \n",
       "ABBV            150.981857            152.197098            151.138672   \n",
       "ABNB            113.580002            119.989998            118.150002   \n",
       "...                    ...                   ...                   ...   \n",
       "YUM             125.949463            126.870819            125.672058   \n",
       "ZBH             124.543419            124.712440            123.598854   \n",
       "ZBRA            287.739990            294.929993            288.709991   \n",
       "ZION             29.833755             31.193810             29.085726   \n",
       "ZTS             162.861298            165.589417            163.757385   \n",
       "\n",
       "      Adj Close 2023-03-20  \n",
       "A               133.795410  \n",
       "AAL              13.960000  \n",
       "AAPL            156.970612  \n",
       "ABBV            153.000702  \n",
       "ABNB            118.400002  \n",
       "...                    ...  \n",
       "YUM             127.683220  \n",
       "ZBH             125.607292  \n",
       "ZBRA            290.839996  \n",
       "ZION             29.318878  \n",
       "ZTS             165.101547  \n",
       "\n",
       "[499 rows x 13 columns]"
      ]
     },
     "execution_count": 53,
     "metadata": {},
     "output_type": "execute_result"
    }
   ],
   "source": [
    "a = len(symbols)\n",
    "\n",
    "df.index = sorted(symbols)\n",
    "df = df.drop(columns = \"Unnamed: 0\", axis = 1)\n",
    "df"
   ]
  },
  {
   "cell_type": "code",
   "execution_count": 54,
   "metadata": {},
   "outputs": [
    {
     "data": {
      "text/html": [
       "<div>\n",
       "<style scoped>\n",
       "    .dataframe tbody tr th:only-of-type {\n",
       "        vertical-align: middle;\n",
       "    }\n",
       "\n",
       "    .dataframe tbody tr th {\n",
       "        vertical-align: top;\n",
       "    }\n",
       "\n",
       "    .dataframe thead th {\n",
       "        text-align: right;\n",
       "    }\n",
       "</style>\n",
       "<table border=\"1\" class=\"dataframe\">\n",
       "  <thead>\n",
       "    <tr style=\"text-align: right;\">\n",
       "      <th></th>\n",
       "      <th>Adj Close 2023-03-02</th>\n",
       "      <th>Adj Close 2023-03-03</th>\n",
       "      <th>Adj Close 2023-03-06</th>\n",
       "      <th>Adj Close 2023-03-07</th>\n",
       "      <th>Adj Close 2023-03-08</th>\n",
       "      <th>Adj Close 2023-03-09</th>\n",
       "      <th>Adj Close 2023-03-10</th>\n",
       "      <th>Adj Close 2023-03-13</th>\n",
       "      <th>Adj Close 2023-03-14</th>\n",
       "      <th>Adj Close 2023-03-15</th>\n",
       "      <th>Adj Close 2023-03-16</th>\n",
       "      <th>Adj Close 2023-03-17</th>\n",
       "      <th>Adj Close 2023-03-20</th>\n",
       "      <th>Industry</th>\n",
       "    </tr>\n",
       "  </thead>\n",
       "  <tbody>\n",
       "    <tr>\n",
       "      <th>A</th>\n",
       "      <td>140.885956</td>\n",
       "      <td>143.133453</td>\n",
       "      <td>142.437317</td>\n",
       "      <td>139.553360</td>\n",
       "      <td>140.120193</td>\n",
       "      <td>138.161102</td>\n",
       "      <td>134.968872</td>\n",
       "      <td>135.933502</td>\n",
       "      <td>137.634033</td>\n",
       "      <td>133.288239</td>\n",
       "      <td>136.062790</td>\n",
       "      <td>132.442917</td>\n",
       "      <td>133.795410</td>\n",
       "      <td>Materials</td>\n",
       "    </tr>\n",
       "    <tr>\n",
       "      <th>AAL</th>\n",
       "      <td>16.120001</td>\n",
       "      <td>16.360001</td>\n",
       "      <td>16.120001</td>\n",
       "      <td>16.360001</td>\n",
       "      <td>16.590000</td>\n",
       "      <td>15.880000</td>\n",
       "      <td>15.460000</td>\n",
       "      <td>14.850000</td>\n",
       "      <td>14.660000</td>\n",
       "      <td>13.860000</td>\n",
       "      <td>14.120000</td>\n",
       "      <td>13.980000</td>\n",
       "      <td>13.960000</td>\n",
       "      <td>Real Estate</td>\n",
       "    </tr>\n",
       "    <tr>\n",
       "      <th>AAPL</th>\n",
       "      <td>145.511978</td>\n",
       "      <td>150.617996</td>\n",
       "      <td>153.410370</td>\n",
       "      <td>151.186447</td>\n",
       "      <td>152.452972</td>\n",
       "      <td>150.179184</td>\n",
       "      <td>148.094894</td>\n",
       "      <td>150.059525</td>\n",
       "      <td>152.173737</td>\n",
       "      <td>152.572647</td>\n",
       "      <td>155.424850</td>\n",
       "      <td>154.577164</td>\n",
       "      <td>156.970612</td>\n",
       "      <td>Information Technology</td>\n",
       "    </tr>\n",
       "    <tr>\n",
       "      <th>ABBV</th>\n",
       "      <td>151.295471</td>\n",
       "      <td>152.941910</td>\n",
       "      <td>152.177490</td>\n",
       "      <td>149.874420</td>\n",
       "      <td>146.610977</td>\n",
       "      <td>144.405930</td>\n",
       "      <td>146.718781</td>\n",
       "      <td>148.914017</td>\n",
       "      <td>150.776062</td>\n",
       "      <td>150.981857</td>\n",
       "      <td>152.197098</td>\n",
       "      <td>151.138672</td>\n",
       "      <td>153.000702</td>\n",
       "      <td>Health Care</td>\n",
       "    </tr>\n",
       "    <tr>\n",
       "      <th>ABNB</th>\n",
       "      <td>122.379997</td>\n",
       "      <td>125.730003</td>\n",
       "      <td>126.330002</td>\n",
       "      <td>126.940002</td>\n",
       "      <td>125.000000</td>\n",
       "      <td>119.839996</td>\n",
       "      <td>118.300003</td>\n",
       "      <td>115.959999</td>\n",
       "      <td>116.360001</td>\n",
       "      <td>113.580002</td>\n",
       "      <td>119.989998</td>\n",
       "      <td>118.150002</td>\n",
       "      <td>118.400002</td>\n",
       "      <td>Information Technology</td>\n",
       "    </tr>\n",
       "    <tr>\n",
       "      <th>...</th>\n",
       "      <td>...</td>\n",
       "      <td>...</td>\n",
       "      <td>...</td>\n",
       "      <td>...</td>\n",
       "      <td>...</td>\n",
       "      <td>...</td>\n",
       "      <td>...</td>\n",
       "      <td>...</td>\n",
       "      <td>...</td>\n",
       "      <td>...</td>\n",
       "      <td>...</td>\n",
       "      <td>...</td>\n",
       "      <td>...</td>\n",
       "      <td>...</td>\n",
       "    </tr>\n",
       "    <tr>\n",
       "      <th>YUM</th>\n",
       "      <td>127.485069</td>\n",
       "      <td>128.465866</td>\n",
       "      <td>128.099319</td>\n",
       "      <td>125.741402</td>\n",
       "      <td>125.602715</td>\n",
       "      <td>124.879494</td>\n",
       "      <td>123.423141</td>\n",
       "      <td>123.730255</td>\n",
       "      <td>125.523445</td>\n",
       "      <td>125.949463</td>\n",
       "      <td>126.870819</td>\n",
       "      <td>125.672058</td>\n",
       "      <td>127.683220</td>\n",
       "      <td>Consumer Discretionary</td>\n",
       "    </tr>\n",
       "    <tr>\n",
       "      <th>ZBH</th>\n",
       "      <td>122.286400</td>\n",
       "      <td>125.497932</td>\n",
       "      <td>123.907082</td>\n",
       "      <td>122.445480</td>\n",
       "      <td>121.212585</td>\n",
       "      <td>121.650070</td>\n",
       "      <td>122.823318</td>\n",
       "      <td>123.539192</td>\n",
       "      <td>125.905579</td>\n",
       "      <td>124.543419</td>\n",
       "      <td>124.712440</td>\n",
       "      <td>123.598854</td>\n",
       "      <td>125.607292</td>\n",
       "      <td>Health Care</td>\n",
       "    </tr>\n",
       "    <tr>\n",
       "      <th>ZBRA</th>\n",
       "      <td>306.059998</td>\n",
       "      <td>309.450012</td>\n",
       "      <td>305.809998</td>\n",
       "      <td>302.160004</td>\n",
       "      <td>307.070007</td>\n",
       "      <td>296.910004</td>\n",
       "      <td>288.190002</td>\n",
       "      <td>284.920013</td>\n",
       "      <td>292.459991</td>\n",
       "      <td>287.739990</td>\n",
       "      <td>294.929993</td>\n",
       "      <td>288.709991</td>\n",
       "      <td>290.839996</td>\n",
       "      <td>Information Technology</td>\n",
       "    </tr>\n",
       "    <tr>\n",
       "      <th>ZION</th>\n",
       "      <td>46.931580</td>\n",
       "      <td>47.825329</td>\n",
       "      <td>47.368736</td>\n",
       "      <td>45.114933</td>\n",
       "      <td>45.348087</td>\n",
       "      <td>40.179882</td>\n",
       "      <td>39.198696</td>\n",
       "      <td>29.114870</td>\n",
       "      <td>30.416636</td>\n",
       "      <td>29.833755</td>\n",
       "      <td>31.193810</td>\n",
       "      <td>29.085726</td>\n",
       "      <td>29.318878</td>\n",
       "      <td>Financials</td>\n",
       "    </tr>\n",
       "    <tr>\n",
       "      <th>ZTS</th>\n",
       "      <td>167.849579</td>\n",
       "      <td>169.820999</td>\n",
       "      <td>168.934845</td>\n",
       "      <td>166.306290</td>\n",
       "      <td>167.909317</td>\n",
       "      <td>166.764313</td>\n",
       "      <td>160.830124</td>\n",
       "      <td>162.701996</td>\n",
       "      <td>163.846985</td>\n",
       "      <td>162.861298</td>\n",
       "      <td>165.589417</td>\n",
       "      <td>163.757385</td>\n",
       "      <td>165.101547</td>\n",
       "      <td>Health Care</td>\n",
       "    </tr>\n",
       "  </tbody>\n",
       "</table>\n",
       "<p>499 rows × 14 columns</p>\n",
       "</div>"
      ],
      "text/plain": [
       "      Adj Close 2023-03-02  Adj Close 2023-03-03  Adj Close 2023-03-06  \\\n",
       "A               140.885956            143.133453            142.437317   \n",
       "AAL              16.120001             16.360001             16.120001   \n",
       "AAPL            145.511978            150.617996            153.410370   \n",
       "ABBV            151.295471            152.941910            152.177490   \n",
       "ABNB            122.379997            125.730003            126.330002   \n",
       "...                    ...                   ...                   ...   \n",
       "YUM             127.485069            128.465866            128.099319   \n",
       "ZBH             122.286400            125.497932            123.907082   \n",
       "ZBRA            306.059998            309.450012            305.809998   \n",
       "ZION             46.931580             47.825329             47.368736   \n",
       "ZTS             167.849579            169.820999            168.934845   \n",
       "\n",
       "      Adj Close 2023-03-07  Adj Close 2023-03-08  Adj Close 2023-03-09  \\\n",
       "A               139.553360            140.120193            138.161102   \n",
       "AAL              16.360001             16.590000             15.880000   \n",
       "AAPL            151.186447            152.452972            150.179184   \n",
       "ABBV            149.874420            146.610977            144.405930   \n",
       "ABNB            126.940002            125.000000            119.839996   \n",
       "...                    ...                   ...                   ...   \n",
       "YUM             125.741402            125.602715            124.879494   \n",
       "ZBH             122.445480            121.212585            121.650070   \n",
       "ZBRA            302.160004            307.070007            296.910004   \n",
       "ZION             45.114933             45.348087             40.179882   \n",
       "ZTS             166.306290            167.909317            166.764313   \n",
       "\n",
       "      Adj Close 2023-03-10  Adj Close 2023-03-13  Adj Close 2023-03-14  \\\n",
       "A               134.968872            135.933502            137.634033   \n",
       "AAL              15.460000             14.850000             14.660000   \n",
       "AAPL            148.094894            150.059525            152.173737   \n",
       "ABBV            146.718781            148.914017            150.776062   \n",
       "ABNB            118.300003            115.959999            116.360001   \n",
       "...                    ...                   ...                   ...   \n",
       "YUM             123.423141            123.730255            125.523445   \n",
       "ZBH             122.823318            123.539192            125.905579   \n",
       "ZBRA            288.190002            284.920013            292.459991   \n",
       "ZION             39.198696             29.114870             30.416636   \n",
       "ZTS             160.830124            162.701996            163.846985   \n",
       "\n",
       "      Adj Close 2023-03-15  Adj Close 2023-03-16  Adj Close 2023-03-17  \\\n",
       "A               133.288239            136.062790            132.442917   \n",
       "AAL              13.860000             14.120000             13.980000   \n",
       "AAPL            152.572647            155.424850            154.577164   \n",
       "ABBV            150.981857            152.197098            151.138672   \n",
       "ABNB            113.580002            119.989998            118.150002   \n",
       "...                    ...                   ...                   ...   \n",
       "YUM             125.949463            126.870819            125.672058   \n",
       "ZBH             124.543419            124.712440            123.598854   \n",
       "ZBRA            287.739990            294.929993            288.709991   \n",
       "ZION             29.833755             31.193810             29.085726   \n",
       "ZTS             162.861298            165.589417            163.757385   \n",
       "\n",
       "      Adj Close 2023-03-20                Industry  \n",
       "A               133.795410               Materials  \n",
       "AAL              13.960000             Real Estate  \n",
       "AAPL            156.970612  Information Technology  \n",
       "ABBV            153.000702             Health Care  \n",
       "ABNB            118.400002  Information Technology  \n",
       "...                    ...                     ...  \n",
       "YUM             127.683220  Consumer Discretionary  \n",
       "ZBH             125.607292             Health Care  \n",
       "ZBRA            290.839996  Information Technology  \n",
       "ZION             29.318878              Financials  \n",
       "ZTS             165.101547             Health Care  \n",
       "\n",
       "[499 rows x 14 columns]"
      ]
     },
     "execution_count": 54,
     "metadata": {},
     "output_type": "execute_result"
    }
   ],
   "source": [
    "df_industries = df.join(df_industries)\n",
    "df_industries"
   ]
  },
  {
   "cell_type": "code",
   "execution_count": 55,
   "metadata": {},
   "outputs": [
    {
     "data": {
      "text/html": [
       "<div>\n",
       "<style scoped>\n",
       "    .dataframe tbody tr th:only-of-type {\n",
       "        vertical-align: middle;\n",
       "    }\n",
       "\n",
       "    .dataframe tbody tr th {\n",
       "        vertical-align: top;\n",
       "    }\n",
       "\n",
       "    .dataframe thead th {\n",
       "        text-align: right;\n",
       "    }\n",
       "</style>\n",
       "<table border=\"1\" class=\"dataframe\">\n",
       "  <thead>\n",
       "    <tr style=\"text-align: right;\">\n",
       "      <th></th>\n",
       "      <th>A</th>\n",
       "      <th>AAL</th>\n",
       "      <th>AAPL</th>\n",
       "      <th>ABBV</th>\n",
       "      <th>ABNB</th>\n",
       "      <th>ABT</th>\n",
       "      <th>ACGL</th>\n",
       "      <th>ACN</th>\n",
       "      <th>ADBE</th>\n",
       "      <th>ADI</th>\n",
       "      <th>...</th>\n",
       "      <th>WYNN</th>\n",
       "      <th>XEL</th>\n",
       "      <th>XOM</th>\n",
       "      <th>XRAY</th>\n",
       "      <th>XYL</th>\n",
       "      <th>YUM</th>\n",
       "      <th>ZBH</th>\n",
       "      <th>ZBRA</th>\n",
       "      <th>ZION</th>\n",
       "      <th>ZTS</th>\n",
       "    </tr>\n",
       "  </thead>\n",
       "  <tbody>\n",
       "    <tr>\n",
       "      <th>Adj Close 2023-03-02</th>\n",
       "      <td>140.885956</td>\n",
       "      <td>16.120001</td>\n",
       "      <td>145.511978</td>\n",
       "      <td>151.295471</td>\n",
       "      <td>122.379997</td>\n",
       "      <td>101.632233</td>\n",
       "      <td>70.900002</td>\n",
       "      <td>262.179596</td>\n",
       "      <td>333.500000</td>\n",
       "      <td>182.840942</td>\n",
       "      <td>...</td>\n",
       "      <td>112.854477</td>\n",
       "      <td>62.735634</td>\n",
       "      <td>109.543678</td>\n",
       "      <td>37.253830</td>\n",
       "      <td>101.580025</td>\n",
       "      <td>127.485069</td>\n",
       "      <td>122.286400</td>\n",
       "      <td>306.059998</td>\n",
       "      <td>46.931580</td>\n",
       "      <td>167.849579</td>\n",
       "    </tr>\n",
       "    <tr>\n",
       "      <th>Adj Close 2023-03-03</th>\n",
       "      <td>143.133453</td>\n",
       "      <td>16.360001</td>\n",
       "      <td>150.617996</td>\n",
       "      <td>152.941910</td>\n",
       "      <td>125.730003</td>\n",
       "      <td>103.434532</td>\n",
       "      <td>71.300003</td>\n",
       "      <td>266.073822</td>\n",
       "      <td>344.040009</td>\n",
       "      <td>184.485214</td>\n",
       "      <td>...</td>\n",
       "      <td>115.262627</td>\n",
       "      <td>63.476681</td>\n",
       "      <td>110.930176</td>\n",
       "      <td>38.301846</td>\n",
       "      <td>103.239075</td>\n",
       "      <td>128.465866</td>\n",
       "      <td>125.497932</td>\n",
       "      <td>309.450012</td>\n",
       "      <td>47.825329</td>\n",
       "      <td>169.820999</td>\n",
       "    </tr>\n",
       "    <tr>\n",
       "      <th>Adj Close 2023-03-06</th>\n",
       "      <td>142.437317</td>\n",
       "      <td>16.120001</td>\n",
       "      <td>153.410370</td>\n",
       "      <td>152.177490</td>\n",
       "      <td>126.330002</td>\n",
       "      <td>101.751060</td>\n",
       "      <td>71.699997</td>\n",
       "      <td>266.498810</td>\n",
       "      <td>347.019989</td>\n",
       "      <td>183.762131</td>\n",
       "      <td>...</td>\n",
       "      <td>114.834732</td>\n",
       "      <td>63.427937</td>\n",
       "      <td>111.913521</td>\n",
       "      <td>38.825848</td>\n",
       "      <td>102.891365</td>\n",
       "      <td>128.099319</td>\n",
       "      <td>123.907082</td>\n",
       "      <td>305.809998</td>\n",
       "      <td>47.368736</td>\n",
       "      <td>168.934845</td>\n",
       "    </tr>\n",
       "    <tr>\n",
       "      <th>Adj Close 2023-03-07</th>\n",
       "      <td>139.553360</td>\n",
       "      <td>16.360001</td>\n",
       "      <td>151.186447</td>\n",
       "      <td>149.874420</td>\n",
       "      <td>126.940002</td>\n",
       "      <td>99.008003</td>\n",
       "      <td>70.989998</td>\n",
       "      <td>261.131866</td>\n",
       "      <td>344.799988</td>\n",
       "      <td>183.187622</td>\n",
       "      <td>...</td>\n",
       "      <td>112.605705</td>\n",
       "      <td>62.023842</td>\n",
       "      <td>109.750175</td>\n",
       "      <td>38.153538</td>\n",
       "      <td>101.500542</td>\n",
       "      <td>125.741402</td>\n",
       "      <td>122.445480</td>\n",
       "      <td>302.160004</td>\n",
       "      <td>45.114933</td>\n",
       "      <td>166.306290</td>\n",
       "    </tr>\n",
       "    <tr>\n",
       "      <th>Adj Close 2023-03-08</th>\n",
       "      <td>140.120193</td>\n",
       "      <td>16.590000</td>\n",
       "      <td>152.452972</td>\n",
       "      <td>146.610977</td>\n",
       "      <td>125.000000</td>\n",
       "      <td>98.433640</td>\n",
       "      <td>70.290001</td>\n",
       "      <td>260.598175</td>\n",
       "      <td>345.839996</td>\n",
       "      <td>184.802185</td>\n",
       "      <td>...</td>\n",
       "      <td>112.983849</td>\n",
       "      <td>62.794144</td>\n",
       "      <td>108.147339</td>\n",
       "      <td>37.520775</td>\n",
       "      <td>101.103165</td>\n",
       "      <td>125.602715</td>\n",
       "      <td>121.212585</td>\n",
       "      <td>307.070007</td>\n",
       "      <td>45.348087</td>\n",
       "      <td>167.909317</td>\n",
       "    </tr>\n",
       "    <tr>\n",
       "      <th>Adj Close 2023-03-09</th>\n",
       "      <td>138.161102</td>\n",
       "      <td>15.880000</td>\n",
       "      <td>150.179184</td>\n",
       "      <td>144.405930</td>\n",
       "      <td>119.839996</td>\n",
       "      <td>96.898705</td>\n",
       "      <td>68.379997</td>\n",
       "      <td>256.743469</td>\n",
       "      <td>338.369995</td>\n",
       "      <td>181.820694</td>\n",
       "      <td>...</td>\n",
       "      <td>109.092987</td>\n",
       "      <td>62.647881</td>\n",
       "      <td>107.311501</td>\n",
       "      <td>36.670506</td>\n",
       "      <td>99.821625</td>\n",
       "      <td>124.879494</td>\n",
       "      <td>121.650070</td>\n",
       "      <td>296.910004</td>\n",
       "      <td>40.179882</td>\n",
       "      <td>166.764313</td>\n",
       "    </tr>\n",
       "    <tr>\n",
       "      <th>Adj Close 2023-03-10</th>\n",
       "      <td>134.968872</td>\n",
       "      <td>15.460000</td>\n",
       "      <td>148.094894</td>\n",
       "      <td>146.718781</td>\n",
       "      <td>118.300003</td>\n",
       "      <td>96.017357</td>\n",
       "      <td>66.610001</td>\n",
       "      <td>250.012512</td>\n",
       "      <td>329.299988</td>\n",
       "      <td>180.037750</td>\n",
       "      <td>...</td>\n",
       "      <td>107.809311</td>\n",
       "      <td>61.643566</td>\n",
       "      <td>105.984001</td>\n",
       "      <td>36.512310</td>\n",
       "      <td>98.331451</td>\n",
       "      <td>123.423141</td>\n",
       "      <td>122.823318</td>\n",
       "      <td>288.190002</td>\n",
       "      <td>39.198696</td>\n",
       "      <td>160.830124</td>\n",
       "    </tr>\n",
       "    <tr>\n",
       "      <th>Adj Close 2023-03-13</th>\n",
       "      <td>135.933502</td>\n",
       "      <td>14.850000</td>\n",
       "      <td>150.059525</td>\n",
       "      <td>148.914017</td>\n",
       "      <td>115.959999</td>\n",
       "      <td>97.235405</td>\n",
       "      <td>65.180000</td>\n",
       "      <td>248.391556</td>\n",
       "      <td>324.269989</td>\n",
       "      <td>180.820267</td>\n",
       "      <td>...</td>\n",
       "      <td>105.729553</td>\n",
       "      <td>63.671700</td>\n",
       "      <td>104.764664</td>\n",
       "      <td>37.125298</td>\n",
       "      <td>97.258522</td>\n",
       "      <td>123.730255</td>\n",
       "      <td>123.539192</td>\n",
       "      <td>284.920013</td>\n",
       "      <td>29.114870</td>\n",
       "      <td>162.701996</td>\n",
       "    </tr>\n",
       "    <tr>\n",
       "      <th>Adj Close 2023-03-14</th>\n",
       "      <td>137.634033</td>\n",
       "      <td>14.660000</td>\n",
       "      <td>152.173737</td>\n",
       "      <td>150.776062</td>\n",
       "      <td>116.360001</td>\n",
       "      <td>97.591904</td>\n",
       "      <td>67.339996</td>\n",
       "      <td>249.547958</td>\n",
       "      <td>333.329987</td>\n",
       "      <td>184.812088</td>\n",
       "      <td>...</td>\n",
       "      <td>107.799370</td>\n",
       "      <td>64.320412</td>\n",
       "      <td>105.157997</td>\n",
       "      <td>37.698746</td>\n",
       "      <td>99.245422</td>\n",
       "      <td>125.523445</td>\n",
       "      <td>125.905579</td>\n",
       "      <td>292.459991</td>\n",
       "      <td>30.416636</td>\n",
       "      <td>163.846985</td>\n",
       "    </tr>\n",
       "    <tr>\n",
       "      <th>Adj Close 2023-03-15</th>\n",
       "      <td>133.288239</td>\n",
       "      <td>13.860000</td>\n",
       "      <td>152.572647</td>\n",
       "      <td>150.981857</td>\n",
       "      <td>113.580002</td>\n",
       "      <td>96.849197</td>\n",
       "      <td>62.740002</td>\n",
       "      <td>243.311264</td>\n",
       "      <td>333.609985</td>\n",
       "      <td>181.196655</td>\n",
       "      <td>...</td>\n",
       "      <td>104.346359</td>\n",
       "      <td>66.158409</td>\n",
       "      <td>99.926651</td>\n",
       "      <td>36.789146</td>\n",
       "      <td>95.917374</td>\n",
       "      <td>125.949463</td>\n",
       "      <td>124.543419</td>\n",
       "      <td>287.739990</td>\n",
       "      <td>29.833755</td>\n",
       "      <td>162.861298</td>\n",
       "    </tr>\n",
       "    <tr>\n",
       "      <th>Adj Close 2023-03-16</th>\n",
       "      <td>136.062790</td>\n",
       "      <td>14.120000</td>\n",
       "      <td>155.424850</td>\n",
       "      <td>152.197098</td>\n",
       "      <td>119.989998</td>\n",
       "      <td>98.067230</td>\n",
       "      <td>66.070000</td>\n",
       "      <td>249.982880</td>\n",
       "      <td>353.290009</td>\n",
       "      <td>184.861603</td>\n",
       "      <td>...</td>\n",
       "      <td>106.913727</td>\n",
       "      <td>66.089607</td>\n",
       "      <td>99.346474</td>\n",
       "      <td>37.016541</td>\n",
       "      <td>96.523376</td>\n",
       "      <td>126.870819</td>\n",
       "      <td>124.712440</td>\n",
       "      <td>294.929993</td>\n",
       "      <td>31.193810</td>\n",
       "      <td>165.589417</td>\n",
       "    </tr>\n",
       "    <tr>\n",
       "      <th>Adj Close 2023-03-17</th>\n",
       "      <td>132.442917</td>\n",
       "      <td>13.980000</td>\n",
       "      <td>154.577164</td>\n",
       "      <td>151.138672</td>\n",
       "      <td>118.150002</td>\n",
       "      <td>96.066872</td>\n",
       "      <td>63.150002</td>\n",
       "      <td>247.096771</td>\n",
       "      <td>358.140015</td>\n",
       "      <td>184.089005</td>\n",
       "      <td>...</td>\n",
       "      <td>106.515678</td>\n",
       "      <td>65.735764</td>\n",
       "      <td>98.176308</td>\n",
       "      <td>36.462883</td>\n",
       "      <td>94.109299</td>\n",
       "      <td>125.672058</td>\n",
       "      <td>123.598854</td>\n",
       "      <td>288.709991</td>\n",
       "      <td>29.085726</td>\n",
       "      <td>163.757385</td>\n",
       "    </tr>\n",
       "    <tr>\n",
       "      <th>Adj Close 2023-03-20</th>\n",
       "      <td>133.795410</td>\n",
       "      <td>13.960000</td>\n",
       "      <td>156.970612</td>\n",
       "      <td>153.000702</td>\n",
       "      <td>118.400002</td>\n",
       "      <td>96.918510</td>\n",
       "      <td>65.610001</td>\n",
       "      <td>249.617157</td>\n",
       "      <td>362.880005</td>\n",
       "      <td>185.287537</td>\n",
       "      <td>...</td>\n",
       "      <td>107.112747</td>\n",
       "      <td>66.237038</td>\n",
       "      <td>100.742813</td>\n",
       "      <td>36.571636</td>\n",
       "      <td>97.010162</td>\n",
       "      <td>127.683220</td>\n",
       "      <td>125.607292</td>\n",
       "      <td>290.839996</td>\n",
       "      <td>29.318878</td>\n",
       "      <td>165.101547</td>\n",
       "    </tr>\n",
       "  </tbody>\n",
       "</table>\n",
       "<p>13 rows × 499 columns</p>\n",
       "</div>"
      ],
      "text/plain": [
       "                               A        AAL        AAPL        ABBV  \\\n",
       "Adj Close 2023-03-02  140.885956  16.120001  145.511978  151.295471   \n",
       "Adj Close 2023-03-03  143.133453  16.360001  150.617996  152.941910   \n",
       "Adj Close 2023-03-06  142.437317  16.120001  153.410370  152.177490   \n",
       "Adj Close 2023-03-07  139.553360  16.360001  151.186447  149.874420   \n",
       "Adj Close 2023-03-08  140.120193  16.590000  152.452972  146.610977   \n",
       "Adj Close 2023-03-09  138.161102  15.880000  150.179184  144.405930   \n",
       "Adj Close 2023-03-10  134.968872  15.460000  148.094894  146.718781   \n",
       "Adj Close 2023-03-13  135.933502  14.850000  150.059525  148.914017   \n",
       "Adj Close 2023-03-14  137.634033  14.660000  152.173737  150.776062   \n",
       "Adj Close 2023-03-15  133.288239  13.860000  152.572647  150.981857   \n",
       "Adj Close 2023-03-16  136.062790  14.120000  155.424850  152.197098   \n",
       "Adj Close 2023-03-17  132.442917  13.980000  154.577164  151.138672   \n",
       "Adj Close 2023-03-20  133.795410  13.960000  156.970612  153.000702   \n",
       "\n",
       "                            ABNB         ABT       ACGL         ACN  \\\n",
       "Adj Close 2023-03-02  122.379997  101.632233  70.900002  262.179596   \n",
       "Adj Close 2023-03-03  125.730003  103.434532  71.300003  266.073822   \n",
       "Adj Close 2023-03-06  126.330002  101.751060  71.699997  266.498810   \n",
       "Adj Close 2023-03-07  126.940002   99.008003  70.989998  261.131866   \n",
       "Adj Close 2023-03-08  125.000000   98.433640  70.290001  260.598175   \n",
       "Adj Close 2023-03-09  119.839996   96.898705  68.379997  256.743469   \n",
       "Adj Close 2023-03-10  118.300003   96.017357  66.610001  250.012512   \n",
       "Adj Close 2023-03-13  115.959999   97.235405  65.180000  248.391556   \n",
       "Adj Close 2023-03-14  116.360001   97.591904  67.339996  249.547958   \n",
       "Adj Close 2023-03-15  113.580002   96.849197  62.740002  243.311264   \n",
       "Adj Close 2023-03-16  119.989998   98.067230  66.070000  249.982880   \n",
       "Adj Close 2023-03-17  118.150002   96.066872  63.150002  247.096771   \n",
       "Adj Close 2023-03-20  118.400002   96.918510  65.610001  249.617157   \n",
       "\n",
       "                            ADBE         ADI  ...        WYNN        XEL  \\\n",
       "Adj Close 2023-03-02  333.500000  182.840942  ...  112.854477  62.735634   \n",
       "Adj Close 2023-03-03  344.040009  184.485214  ...  115.262627  63.476681   \n",
       "Adj Close 2023-03-06  347.019989  183.762131  ...  114.834732  63.427937   \n",
       "Adj Close 2023-03-07  344.799988  183.187622  ...  112.605705  62.023842   \n",
       "Adj Close 2023-03-08  345.839996  184.802185  ...  112.983849  62.794144   \n",
       "Adj Close 2023-03-09  338.369995  181.820694  ...  109.092987  62.647881   \n",
       "Adj Close 2023-03-10  329.299988  180.037750  ...  107.809311  61.643566   \n",
       "Adj Close 2023-03-13  324.269989  180.820267  ...  105.729553  63.671700   \n",
       "Adj Close 2023-03-14  333.329987  184.812088  ...  107.799370  64.320412   \n",
       "Adj Close 2023-03-15  333.609985  181.196655  ...  104.346359  66.158409   \n",
       "Adj Close 2023-03-16  353.290009  184.861603  ...  106.913727  66.089607   \n",
       "Adj Close 2023-03-17  358.140015  184.089005  ...  106.515678  65.735764   \n",
       "Adj Close 2023-03-20  362.880005  185.287537  ...  107.112747  66.237038   \n",
       "\n",
       "                             XOM       XRAY         XYL         YUM  \\\n",
       "Adj Close 2023-03-02  109.543678  37.253830  101.580025  127.485069   \n",
       "Adj Close 2023-03-03  110.930176  38.301846  103.239075  128.465866   \n",
       "Adj Close 2023-03-06  111.913521  38.825848  102.891365  128.099319   \n",
       "Adj Close 2023-03-07  109.750175  38.153538  101.500542  125.741402   \n",
       "Adj Close 2023-03-08  108.147339  37.520775  101.103165  125.602715   \n",
       "Adj Close 2023-03-09  107.311501  36.670506   99.821625  124.879494   \n",
       "Adj Close 2023-03-10  105.984001  36.512310   98.331451  123.423141   \n",
       "Adj Close 2023-03-13  104.764664  37.125298   97.258522  123.730255   \n",
       "Adj Close 2023-03-14  105.157997  37.698746   99.245422  125.523445   \n",
       "Adj Close 2023-03-15   99.926651  36.789146   95.917374  125.949463   \n",
       "Adj Close 2023-03-16   99.346474  37.016541   96.523376  126.870819   \n",
       "Adj Close 2023-03-17   98.176308  36.462883   94.109299  125.672058   \n",
       "Adj Close 2023-03-20  100.742813  36.571636   97.010162  127.683220   \n",
       "\n",
       "                             ZBH        ZBRA       ZION         ZTS  \n",
       "Adj Close 2023-03-02  122.286400  306.059998  46.931580  167.849579  \n",
       "Adj Close 2023-03-03  125.497932  309.450012  47.825329  169.820999  \n",
       "Adj Close 2023-03-06  123.907082  305.809998  47.368736  168.934845  \n",
       "Adj Close 2023-03-07  122.445480  302.160004  45.114933  166.306290  \n",
       "Adj Close 2023-03-08  121.212585  307.070007  45.348087  167.909317  \n",
       "Adj Close 2023-03-09  121.650070  296.910004  40.179882  166.764313  \n",
       "Adj Close 2023-03-10  122.823318  288.190002  39.198696  160.830124  \n",
       "Adj Close 2023-03-13  123.539192  284.920013  29.114870  162.701996  \n",
       "Adj Close 2023-03-14  125.905579  292.459991  30.416636  163.846985  \n",
       "Adj Close 2023-03-15  124.543419  287.739990  29.833755  162.861298  \n",
       "Adj Close 2023-03-16  124.712440  294.929993  31.193810  165.589417  \n",
       "Adj Close 2023-03-17  123.598854  288.709991  29.085726  163.757385  \n",
       "Adj Close 2023-03-20  125.607292  290.839996  29.318878  165.101547  \n",
       "\n",
       "[13 rows x 499 columns]"
      ]
     },
     "execution_count": 55,
     "metadata": {},
     "output_type": "execute_result"
    }
   ],
   "source": [
    "df = df.T\n",
    "df"
   ]
  },
  {
   "cell_type": "markdown",
   "metadata": {},
   "source": [
    "## <b> XGBOOST to Predict Price of Future Stock"
   ]
  },
  {
   "cell_type": "markdown",
   "metadata": {},
   "source": [
    "XGBoost refers to the engineering goal to push the limit of computational resources for boosted tree algorithms. There's about 21 trading days in a month but we'll start small. To test: use the root mean square error (RMSE), mean absolute percentage error (MAPE) and mean absolute error (MAE) metrics"
   ]
  },
  {
   "cell_type": "markdown",
   "metadata": {},
   "source": [
    "### Now let's try it with all stocks"
   ]
  },
  {
   "cell_type": "code",
   "execution_count": 56,
   "metadata": {},
   "outputs": [],
   "source": [
    "# pip install plotly==5.18.0"
   ]
  },
  {
   "cell_type": "code",
   "execution_count": 57,
   "metadata": {},
   "outputs": [],
   "source": [
    "import plotly.express as px"
   ]
  },
  {
   "cell_type": "code",
   "execution_count": 58,
   "metadata": {},
   "outputs": [],
   "source": [
    "import yfinance as yf\n",
    "\n",
    "# Initializing the Ticker object\n",
    "JPM_ticker = yf.Ticker('JPM')\n",
    "\n",
    "# Extracting the history\n",
    "JP_Morgan_df = JPM_ticker.history(start='2023-03-02', end= '2023-03-20')"
   ]
  },
  {
   "cell_type": "code",
   "execution_count": 59,
   "metadata": {},
   "outputs": [
    {
     "data": {
      "text/html": [
       "<div>\n",
       "<style scoped>\n",
       "    .dataframe tbody tr th:only-of-type {\n",
       "        vertical-align: middle;\n",
       "    }\n",
       "\n",
       "    .dataframe tbody tr th {\n",
       "        vertical-align: top;\n",
       "    }\n",
       "\n",
       "    .dataframe thead th {\n",
       "        text-align: right;\n",
       "    }\n",
       "</style>\n",
       "<table border=\"1\" class=\"dataframe\">\n",
       "  <thead>\n",
       "    <tr style=\"text-align: right;\">\n",
       "      <th></th>\n",
       "      <th>Open</th>\n",
       "      <th>High</th>\n",
       "      <th>Low</th>\n",
       "      <th>Close</th>\n",
       "      <th>Volume</th>\n",
       "      <th>Dividends</th>\n",
       "      <th>Stock Splits</th>\n",
       "    </tr>\n",
       "    <tr>\n",
       "      <th>Date</th>\n",
       "      <th></th>\n",
       "      <th></th>\n",
       "      <th></th>\n",
       "      <th></th>\n",
       "      <th></th>\n",
       "      <th></th>\n",
       "      <th></th>\n",
       "    </tr>\n",
       "  </thead>\n",
       "  <tbody>\n",
       "    <tr>\n",
       "      <th>2023-03-02 00:00:00-05:00</th>\n",
       "      <td>139.143044</td>\n",
       "      <td>139.328895</td>\n",
       "      <td>136.501819</td>\n",
       "      <td>137.998520</td>\n",
       "      <td>11106800</td>\n",
       "      <td>0.0</td>\n",
       "      <td>0.0</td>\n",
       "    </tr>\n",
       "    <tr>\n",
       "      <th>2023-03-03 00:00:00-05:00</th>\n",
       "      <td>138.428937</td>\n",
       "      <td>140.610395</td>\n",
       "      <td>138.008307</td>\n",
       "      <td>140.532135</td>\n",
       "      <td>9513100</td>\n",
       "      <td>0.0</td>\n",
       "      <td>0.0</td>\n",
       "    </tr>\n",
       "    <tr>\n",
       "      <th>2023-03-06 00:00:00-05:00</th>\n",
       "      <td>140.316899</td>\n",
       "      <td>140.903827</td>\n",
       "      <td>139.553884</td>\n",
       "      <td>139.710403</td>\n",
       "      <td>9261300</td>\n",
       "      <td>0.0</td>\n",
       "      <td>0.0</td>\n",
       "    </tr>\n",
       "    <tr>\n",
       "      <th>2023-03-07 00:00:00-05:00</th>\n",
       "      <td>138.918058</td>\n",
       "      <td>139.211529</td>\n",
       "      <td>134.809506</td>\n",
       "      <td>135.601868</td>\n",
       "      <td>11747600</td>\n",
       "      <td>0.0</td>\n",
       "      <td>0.0</td>\n",
       "    </tr>\n",
       "    <tr>\n",
       "      <th>2023-03-08 00:00:00-05:00</th>\n",
       "      <td>134.995356</td>\n",
       "      <td>135.572506</td>\n",
       "      <td>133.909523</td>\n",
       "      <td>134.799713</td>\n",
       "      <td>10002500</td>\n",
       "      <td>0.0</td>\n",
       "      <td>0.0</td>\n",
       "    </tr>\n",
       "    <tr>\n",
       "      <th>2023-03-09 00:00:00-05:00</th>\n",
       "      <td>133.782353</td>\n",
       "      <td>134.359519</td>\n",
       "      <td>126.406526</td>\n",
       "      <td>127.502136</td>\n",
       "      <td>25888100</td>\n",
       "      <td>0.0</td>\n",
       "      <td>0.0</td>\n",
       "    </tr>\n",
       "    <tr>\n",
       "      <th>2023-03-10 00:00:00-05:00</th>\n",
       "      <td>126.152193</td>\n",
       "      <td>132.315013</td>\n",
       "      <td>125.037007</td>\n",
       "      <td>130.740067</td>\n",
       "      <td>37599700</td>\n",
       "      <td>0.0</td>\n",
       "      <td>0.0</td>\n",
       "    </tr>\n",
       "    <tr>\n",
       "      <th>2023-03-13 00:00:00-04:00</th>\n",
       "      <td>128.353196</td>\n",
       "      <td>130.965061</td>\n",
       "      <td>126.592384</td>\n",
       "      <td>128.392319</td>\n",
       "      <td>42901100</td>\n",
       "      <td>0.0</td>\n",
       "      <td>0.0</td>\n",
       "    </tr>\n",
       "    <tr>\n",
       "      <th>2023-03-14 00:00:00-04:00</th>\n",
       "      <td>132.334583</td>\n",
       "      <td>132.579140</td>\n",
       "      <td>128.431451</td>\n",
       "      <td>131.688950</td>\n",
       "      <td>29648100</td>\n",
       "      <td>0.0</td>\n",
       "      <td>0.0</td>\n",
       "    </tr>\n",
       "    <tr>\n",
       "      <th>2023-03-15 00:00:00-04:00</th>\n",
       "      <td>128.128202</td>\n",
       "      <td>128.137994</td>\n",
       "      <td>123.970743</td>\n",
       "      <td>125.467422</td>\n",
       "      <td>34280600</td>\n",
       "      <td>0.0</td>\n",
       "      <td>0.0</td>\n",
       "    </tr>\n",
       "    <tr>\n",
       "      <th>2023-03-16 00:00:00-04:00</th>\n",
       "      <td>125.222858</td>\n",
       "      <td>129.077076</td>\n",
       "      <td>123.276188</td>\n",
       "      <td>127.903206</td>\n",
       "      <td>24558500</td>\n",
       "      <td>0.0</td>\n",
       "      <td>0.0</td>\n",
       "    </tr>\n",
       "    <tr>\n",
       "      <th>2023-03-17 00:00:00-04:00</th>\n",
       "      <td>125.584822</td>\n",
       "      <td>125.682635</td>\n",
       "      <td>122.718608</td>\n",
       "      <td>123.070770</td>\n",
       "      <td>38396000</td>\n",
       "      <td>0.0</td>\n",
       "      <td>0.0</td>\n",
       "    </tr>\n",
       "  </tbody>\n",
       "</table>\n",
       "</div>"
      ],
      "text/plain": [
       "                                 Open        High         Low       Close  \\\n",
       "Date                                                                        \n",
       "2023-03-02 00:00:00-05:00  139.143044  139.328895  136.501819  137.998520   \n",
       "2023-03-03 00:00:00-05:00  138.428937  140.610395  138.008307  140.532135   \n",
       "2023-03-06 00:00:00-05:00  140.316899  140.903827  139.553884  139.710403   \n",
       "2023-03-07 00:00:00-05:00  138.918058  139.211529  134.809506  135.601868   \n",
       "2023-03-08 00:00:00-05:00  134.995356  135.572506  133.909523  134.799713   \n",
       "2023-03-09 00:00:00-05:00  133.782353  134.359519  126.406526  127.502136   \n",
       "2023-03-10 00:00:00-05:00  126.152193  132.315013  125.037007  130.740067   \n",
       "2023-03-13 00:00:00-04:00  128.353196  130.965061  126.592384  128.392319   \n",
       "2023-03-14 00:00:00-04:00  132.334583  132.579140  128.431451  131.688950   \n",
       "2023-03-15 00:00:00-04:00  128.128202  128.137994  123.970743  125.467422   \n",
       "2023-03-16 00:00:00-04:00  125.222858  129.077076  123.276188  127.903206   \n",
       "2023-03-17 00:00:00-04:00  125.584822  125.682635  122.718608  123.070770   \n",
       "\n",
       "                             Volume  Dividends  Stock Splits  \n",
       "Date                                                          \n",
       "2023-03-02 00:00:00-05:00  11106800        0.0           0.0  \n",
       "2023-03-03 00:00:00-05:00   9513100        0.0           0.0  \n",
       "2023-03-06 00:00:00-05:00   9261300        0.0           0.0  \n",
       "2023-03-07 00:00:00-05:00  11747600        0.0           0.0  \n",
       "2023-03-08 00:00:00-05:00  10002500        0.0           0.0  \n",
       "2023-03-09 00:00:00-05:00  25888100        0.0           0.0  \n",
       "2023-03-10 00:00:00-05:00  37599700        0.0           0.0  \n",
       "2023-03-13 00:00:00-04:00  42901100        0.0           0.0  \n",
       "2023-03-14 00:00:00-04:00  29648100        0.0           0.0  \n",
       "2023-03-15 00:00:00-04:00  34280600        0.0           0.0  \n",
       "2023-03-16 00:00:00-04:00  24558500        0.0           0.0  \n",
       "2023-03-17 00:00:00-04:00  38396000        0.0           0.0  "
      ]
     },
     "execution_count": 59,
     "metadata": {},
     "output_type": "execute_result"
    }
   ],
   "source": [
    "JP_Morgan_df"
   ]
  },
  {
   "cell_type": "code",
   "execution_count": 60,
   "metadata": {},
   "outputs": [],
   "source": [
    "#import plotly.express as px\n",
    "\n",
    "# Creating line plot\n",
    "#fig = px.line(x=JP_Morgan_df.index, y=JP_Morgan_df['Close'])\n",
    "\n",
    "# Updating layout\n",
    "#fig.update_layout(\n",
    "   # title='Close Prices',\n",
    "   # xaxis_title='Date',\n",
    "   # yaxis_title='Price',\n",
    "   # template='plotly_white',\n",
    "   # xaxis_rangeslider_visible=True\n",
    "#)\n",
    "\n",
    "# Showing figure\n",
    "#fig.show()"
   ]
  },
  {
   "cell_type": "code",
   "execution_count": 61,
   "metadata": {},
   "outputs": [],
   "source": [
    "JPMdf = df['JPM']"
   ]
  },
  {
   "cell_type": "code",
   "execution_count": 62,
   "metadata": {},
   "outputs": [
    {
     "data": {
      "application/vnd.plotly.v1+json": {
       "config": {
        "plotlyServerURL": "https://plot.ly"
       },
       "data": [
        {
         "hovertemplate": "x=%{x}<br>y=%{y}<extra></extra>",
         "legendgroup": "",
         "line": {
          "color": "#636efa",
          "dash": "solid"
         },
         "marker": {
          "symbol": "circle"
         },
         "mode": "lines",
         "name": "",
         "orientation": "v",
         "showlegend": false,
         "type": "scatter",
         "x": [
          "Adj Close 2023-03-02",
          "Adj Close 2023-03-03",
          "Adj Close 2023-03-06",
          "Adj Close 2023-03-07",
          "Adj Close 2023-03-08",
          "Adj Close 2023-03-09",
          "Adj Close 2023-03-10",
          "Adj Close 2023-03-13",
          "Adj Close 2023-03-14",
          "Adj Close 2023-03-15",
          "Adj Close 2023-03-16",
          "Adj Close 2023-03-17",
          "Adj Close 2023-03-20"
         ],
         "xaxis": "x",
         "y": [
          137.99851989746094,
          140.53213500976562,
          139.7104034423828,
          135.60186767578125,
          134.79971313476562,
          127.50213623046876,
          130.7400665283203,
          128.39231872558594,
          131.68894958496094,
          125.46742248535156,
          127.90320587158205,
          123.07077026367188,
          124.37181091308594
         ],
         "yaxis": "y"
        }
       ],
       "layout": {
        "legend": {
         "tracegroupgap": 0
        },
        "margin": {
         "t": 60
        },
        "template": {
         "data": {
          "bar": [
           {
            "error_x": {
             "color": "#f2f5fa"
            },
            "error_y": {
             "color": "#f2f5fa"
            },
            "marker": {
             "line": {
              "color": "rgb(17,17,17)",
              "width": 0.5
             },
             "pattern": {
              "fillmode": "overlay",
              "size": 10,
              "solidity": 0.2
             }
            },
            "type": "bar"
           }
          ],
          "barpolar": [
           {
            "marker": {
             "line": {
              "color": "rgb(17,17,17)",
              "width": 0.5
             },
             "pattern": {
              "fillmode": "overlay",
              "size": 10,
              "solidity": 0.2
             }
            },
            "type": "barpolar"
           }
          ],
          "carpet": [
           {
            "aaxis": {
             "endlinecolor": "#A2B1C6",
             "gridcolor": "#506784",
             "linecolor": "#506784",
             "minorgridcolor": "#506784",
             "startlinecolor": "#A2B1C6"
            },
            "baxis": {
             "endlinecolor": "#A2B1C6",
             "gridcolor": "#506784",
             "linecolor": "#506784",
             "minorgridcolor": "#506784",
             "startlinecolor": "#A2B1C6"
            },
            "type": "carpet"
           }
          ],
          "choropleth": [
           {
            "colorbar": {
             "outlinewidth": 0,
             "ticks": ""
            },
            "type": "choropleth"
           }
          ],
          "contour": [
           {
            "colorbar": {
             "outlinewidth": 0,
             "ticks": ""
            },
            "colorscale": [
             [
              0,
              "#0d0887"
             ],
             [
              0.1111111111111111,
              "#46039f"
             ],
             [
              0.2222222222222222,
              "#7201a8"
             ],
             [
              0.3333333333333333,
              "#9c179e"
             ],
             [
              0.4444444444444444,
              "#bd3786"
             ],
             [
              0.5555555555555556,
              "#d8576b"
             ],
             [
              0.6666666666666666,
              "#ed7953"
             ],
             [
              0.7777777777777778,
              "#fb9f3a"
             ],
             [
              0.8888888888888888,
              "#fdca26"
             ],
             [
              1,
              "#f0f921"
             ]
            ],
            "type": "contour"
           }
          ],
          "contourcarpet": [
           {
            "colorbar": {
             "outlinewidth": 0,
             "ticks": ""
            },
            "type": "contourcarpet"
           }
          ],
          "heatmap": [
           {
            "colorbar": {
             "outlinewidth": 0,
             "ticks": ""
            },
            "colorscale": [
             [
              0,
              "#0d0887"
             ],
             [
              0.1111111111111111,
              "#46039f"
             ],
             [
              0.2222222222222222,
              "#7201a8"
             ],
             [
              0.3333333333333333,
              "#9c179e"
             ],
             [
              0.4444444444444444,
              "#bd3786"
             ],
             [
              0.5555555555555556,
              "#d8576b"
             ],
             [
              0.6666666666666666,
              "#ed7953"
             ],
             [
              0.7777777777777778,
              "#fb9f3a"
             ],
             [
              0.8888888888888888,
              "#fdca26"
             ],
             [
              1,
              "#f0f921"
             ]
            ],
            "type": "heatmap"
           }
          ],
          "heatmapgl": [
           {
            "colorbar": {
             "outlinewidth": 0,
             "ticks": ""
            },
            "colorscale": [
             [
              0,
              "#0d0887"
             ],
             [
              0.1111111111111111,
              "#46039f"
             ],
             [
              0.2222222222222222,
              "#7201a8"
             ],
             [
              0.3333333333333333,
              "#9c179e"
             ],
             [
              0.4444444444444444,
              "#bd3786"
             ],
             [
              0.5555555555555556,
              "#d8576b"
             ],
             [
              0.6666666666666666,
              "#ed7953"
             ],
             [
              0.7777777777777778,
              "#fb9f3a"
             ],
             [
              0.8888888888888888,
              "#fdca26"
             ],
             [
              1,
              "#f0f921"
             ]
            ],
            "type": "heatmapgl"
           }
          ],
          "histogram": [
           {
            "marker": {
             "pattern": {
              "fillmode": "overlay",
              "size": 10,
              "solidity": 0.2
             }
            },
            "type": "histogram"
           }
          ],
          "histogram2d": [
           {
            "colorbar": {
             "outlinewidth": 0,
             "ticks": ""
            },
            "colorscale": [
             [
              0,
              "#0d0887"
             ],
             [
              0.1111111111111111,
              "#46039f"
             ],
             [
              0.2222222222222222,
              "#7201a8"
             ],
             [
              0.3333333333333333,
              "#9c179e"
             ],
             [
              0.4444444444444444,
              "#bd3786"
             ],
             [
              0.5555555555555556,
              "#d8576b"
             ],
             [
              0.6666666666666666,
              "#ed7953"
             ],
             [
              0.7777777777777778,
              "#fb9f3a"
             ],
             [
              0.8888888888888888,
              "#fdca26"
             ],
             [
              1,
              "#f0f921"
             ]
            ],
            "type": "histogram2d"
           }
          ],
          "histogram2dcontour": [
           {
            "colorbar": {
             "outlinewidth": 0,
             "ticks": ""
            },
            "colorscale": [
             [
              0,
              "#0d0887"
             ],
             [
              0.1111111111111111,
              "#46039f"
             ],
             [
              0.2222222222222222,
              "#7201a8"
             ],
             [
              0.3333333333333333,
              "#9c179e"
             ],
             [
              0.4444444444444444,
              "#bd3786"
             ],
             [
              0.5555555555555556,
              "#d8576b"
             ],
             [
              0.6666666666666666,
              "#ed7953"
             ],
             [
              0.7777777777777778,
              "#fb9f3a"
             ],
             [
              0.8888888888888888,
              "#fdca26"
             ],
             [
              1,
              "#f0f921"
             ]
            ],
            "type": "histogram2dcontour"
           }
          ],
          "mesh3d": [
           {
            "colorbar": {
             "outlinewidth": 0,
             "ticks": ""
            },
            "type": "mesh3d"
           }
          ],
          "parcoords": [
           {
            "line": {
             "colorbar": {
              "outlinewidth": 0,
              "ticks": ""
             }
            },
            "type": "parcoords"
           }
          ],
          "pie": [
           {
            "automargin": true,
            "type": "pie"
           }
          ],
          "scatter": [
           {
            "marker": {
             "line": {
              "color": "#283442"
             }
            },
            "type": "scatter"
           }
          ],
          "scatter3d": [
           {
            "line": {
             "colorbar": {
              "outlinewidth": 0,
              "ticks": ""
             }
            },
            "marker": {
             "colorbar": {
              "outlinewidth": 0,
              "ticks": ""
             }
            },
            "type": "scatter3d"
           }
          ],
          "scattercarpet": [
           {
            "marker": {
             "colorbar": {
              "outlinewidth": 0,
              "ticks": ""
             }
            },
            "type": "scattercarpet"
           }
          ],
          "scattergeo": [
           {
            "marker": {
             "colorbar": {
              "outlinewidth": 0,
              "ticks": ""
             }
            },
            "type": "scattergeo"
           }
          ],
          "scattergl": [
           {
            "marker": {
             "line": {
              "color": "#283442"
             }
            },
            "type": "scattergl"
           }
          ],
          "scattermapbox": [
           {
            "marker": {
             "colorbar": {
              "outlinewidth": 0,
              "ticks": ""
             }
            },
            "type": "scattermapbox"
           }
          ],
          "scatterpolar": [
           {
            "marker": {
             "colorbar": {
              "outlinewidth": 0,
              "ticks": ""
             }
            },
            "type": "scatterpolar"
           }
          ],
          "scatterpolargl": [
           {
            "marker": {
             "colorbar": {
              "outlinewidth": 0,
              "ticks": ""
             }
            },
            "type": "scatterpolargl"
           }
          ],
          "scatterternary": [
           {
            "marker": {
             "colorbar": {
              "outlinewidth": 0,
              "ticks": ""
             }
            },
            "type": "scatterternary"
           }
          ],
          "surface": [
           {
            "colorbar": {
             "outlinewidth": 0,
             "ticks": ""
            },
            "colorscale": [
             [
              0,
              "#0d0887"
             ],
             [
              0.1111111111111111,
              "#46039f"
             ],
             [
              0.2222222222222222,
              "#7201a8"
             ],
             [
              0.3333333333333333,
              "#9c179e"
             ],
             [
              0.4444444444444444,
              "#bd3786"
             ],
             [
              0.5555555555555556,
              "#d8576b"
             ],
             [
              0.6666666666666666,
              "#ed7953"
             ],
             [
              0.7777777777777778,
              "#fb9f3a"
             ],
             [
              0.8888888888888888,
              "#fdca26"
             ],
             [
              1,
              "#f0f921"
             ]
            ],
            "type": "surface"
           }
          ],
          "table": [
           {
            "cells": {
             "fill": {
              "color": "#506784"
             },
             "line": {
              "color": "rgb(17,17,17)"
             }
            },
            "header": {
             "fill": {
              "color": "#2a3f5f"
             },
             "line": {
              "color": "rgb(17,17,17)"
             }
            },
            "type": "table"
           }
          ]
         },
         "layout": {
          "annotationdefaults": {
           "arrowcolor": "#f2f5fa",
           "arrowhead": 0,
           "arrowwidth": 1
          },
          "autotypenumbers": "strict",
          "coloraxis": {
           "colorbar": {
            "outlinewidth": 0,
            "ticks": ""
           }
          },
          "colorscale": {
           "diverging": [
            [
             0,
             "#8e0152"
            ],
            [
             0.1,
             "#c51b7d"
            ],
            [
             0.2,
             "#de77ae"
            ],
            [
             0.3,
             "#f1b6da"
            ],
            [
             0.4,
             "#fde0ef"
            ],
            [
             0.5,
             "#f7f7f7"
            ],
            [
             0.6,
             "#e6f5d0"
            ],
            [
             0.7,
             "#b8e186"
            ],
            [
             0.8,
             "#7fbc41"
            ],
            [
             0.9,
             "#4d9221"
            ],
            [
             1,
             "#276419"
            ]
           ],
           "sequential": [
            [
             0,
             "#0d0887"
            ],
            [
             0.1111111111111111,
             "#46039f"
            ],
            [
             0.2222222222222222,
             "#7201a8"
            ],
            [
             0.3333333333333333,
             "#9c179e"
            ],
            [
             0.4444444444444444,
             "#bd3786"
            ],
            [
             0.5555555555555556,
             "#d8576b"
            ],
            [
             0.6666666666666666,
             "#ed7953"
            ],
            [
             0.7777777777777778,
             "#fb9f3a"
            ],
            [
             0.8888888888888888,
             "#fdca26"
            ],
            [
             1,
             "#f0f921"
            ]
           ],
           "sequentialminus": [
            [
             0,
             "#0d0887"
            ],
            [
             0.1111111111111111,
             "#46039f"
            ],
            [
             0.2222222222222222,
             "#7201a8"
            ],
            [
             0.3333333333333333,
             "#9c179e"
            ],
            [
             0.4444444444444444,
             "#bd3786"
            ],
            [
             0.5555555555555556,
             "#d8576b"
            ],
            [
             0.6666666666666666,
             "#ed7953"
            ],
            [
             0.7777777777777778,
             "#fb9f3a"
            ],
            [
             0.8888888888888888,
             "#fdca26"
            ],
            [
             1,
             "#f0f921"
            ]
           ]
          },
          "colorway": [
           "#636efa",
           "#EF553B",
           "#00cc96",
           "#ab63fa",
           "#FFA15A",
           "#19d3f3",
           "#FF6692",
           "#B6E880",
           "#FF97FF",
           "#FECB52"
          ],
          "font": {
           "color": "#f2f5fa"
          },
          "geo": {
           "bgcolor": "rgb(17,17,17)",
           "lakecolor": "rgb(17,17,17)",
           "landcolor": "rgb(17,17,17)",
           "showlakes": true,
           "showland": true,
           "subunitcolor": "#506784"
          },
          "hoverlabel": {
           "align": "left"
          },
          "hovermode": "closest",
          "mapbox": {
           "style": "dark"
          },
          "paper_bgcolor": "rgb(17,17,17)",
          "plot_bgcolor": "rgb(17,17,17)",
          "polar": {
           "angularaxis": {
            "gridcolor": "#506784",
            "linecolor": "#506784",
            "ticks": ""
           },
           "bgcolor": "rgb(17,17,17)",
           "radialaxis": {
            "gridcolor": "#506784",
            "linecolor": "#506784",
            "ticks": ""
           }
          },
          "scene": {
           "xaxis": {
            "backgroundcolor": "rgb(17,17,17)",
            "gridcolor": "#506784",
            "gridwidth": 2,
            "linecolor": "#506784",
            "showbackground": true,
            "ticks": "",
            "zerolinecolor": "#C8D4E3"
           },
           "yaxis": {
            "backgroundcolor": "rgb(17,17,17)",
            "gridcolor": "#506784",
            "gridwidth": 2,
            "linecolor": "#506784",
            "showbackground": true,
            "ticks": "",
            "zerolinecolor": "#C8D4E3"
           },
           "zaxis": {
            "backgroundcolor": "rgb(17,17,17)",
            "gridcolor": "#506784",
            "gridwidth": 2,
            "linecolor": "#506784",
            "showbackground": true,
            "ticks": "",
            "zerolinecolor": "#C8D4E3"
           }
          },
          "shapedefaults": {
           "line": {
            "color": "#f2f5fa"
           }
          },
          "sliderdefaults": {
           "bgcolor": "#C8D4E3",
           "bordercolor": "rgb(17,17,17)",
           "borderwidth": 1,
           "tickwidth": 0
          },
          "ternary": {
           "aaxis": {
            "gridcolor": "#506784",
            "linecolor": "#506784",
            "ticks": ""
           },
           "baxis": {
            "gridcolor": "#506784",
            "linecolor": "#506784",
            "ticks": ""
           },
           "bgcolor": "rgb(17,17,17)",
           "caxis": {
            "gridcolor": "#506784",
            "linecolor": "#506784",
            "ticks": ""
           }
          },
          "title": {
           "x": 0.05
          },
          "updatemenudefaults": {
           "bgcolor": "#506784",
           "borderwidth": 0
          },
          "xaxis": {
           "automargin": true,
           "gridcolor": "#283442",
           "linecolor": "#506784",
           "ticks": "",
           "title": {
            "standoff": 15
           },
           "zerolinecolor": "#283442",
           "zerolinewidth": 2
          },
          "yaxis": {
           "automargin": true,
           "gridcolor": "#283442",
           "linecolor": "#506784",
           "ticks": "",
           "title": {
            "standoff": 15
           },
           "zerolinecolor": "#283442",
           "zerolinewidth": 2
          }
         }
        },
        "title": {
         "text": "Close Prices"
        },
        "xaxis": {
         "anchor": "y",
         "domain": [
          0,
          1
         ],
         "rangeslider": {
          "visible": true
         },
         "title": {
          "text": "Date"
         }
        },
        "yaxis": {
         "anchor": "x",
         "domain": [
          0,
          1
         ],
         "title": {
          "text": "Price"
         }
        }
       }
      }
     },
     "metadata": {},
     "output_type": "display_data"
    }
   ],
   "source": [
    "# Creating line plot\n",
    "fig = px.line(x=JPMdf.index, y=JPMdf)\n",
    "\n",
    "# Updating layout\n",
    "fig.update_layout(\n",
    "    title='Close Prices',\n",
    "    xaxis_title='Date',\n",
    "    yaxis_title='Price',\n",
    "    template='plotly_dark',\n",
    "    xaxis_rangeslider_visible=True\n",
    ")\n",
    "\n",
    "# Showing figure\n",
    "fig.show()"
   ]
  },
  {
   "cell_type": "code",
   "execution_count": 63,
   "metadata": {},
   "outputs": [],
   "source": [
    "from sklearn.ensemble import GradientBoostingRegressor\n",
    "from sklearn.model_selection import train_test_split\n",
    "from sklearn.metrics import mean_squared_error, mean_absolute_error"
   ]
  },
  {
   "cell_type": "code",
   "execution_count": 64,
   "metadata": {},
   "outputs": [
    {
     "data": {
      "text/html": [
       "<div>\n",
       "<style scoped>\n",
       "    .dataframe tbody tr th:only-of-type {\n",
       "        vertical-align: middle;\n",
       "    }\n",
       "\n",
       "    .dataframe tbody tr th {\n",
       "        vertical-align: top;\n",
       "    }\n",
       "\n",
       "    .dataframe thead th {\n",
       "        text-align: right;\n",
       "    }\n",
       "</style>\n",
       "<table border=\"1\" class=\"dataframe\">\n",
       "  <thead>\n",
       "    <tr style=\"text-align: right;\">\n",
       "      <th></th>\n",
       "      <th>Adj Close 2023-03-02</th>\n",
       "      <th>Adj Close 2023-03-03</th>\n",
       "      <th>Adj Close 2023-03-06</th>\n",
       "      <th>Adj Close 2023-03-07</th>\n",
       "      <th>Adj Close 2023-03-08</th>\n",
       "      <th>Adj Close 2023-03-09</th>\n",
       "      <th>Adj Close 2023-03-10</th>\n",
       "      <th>Adj Close 2023-03-13</th>\n",
       "      <th>Adj Close 2023-03-14</th>\n",
       "      <th>Adj Close 2023-03-15</th>\n",
       "      <th>Adj Close 2023-03-16</th>\n",
       "      <th>Adj Close 2023-03-17</th>\n",
       "      <th>Adj Close 2023-03-20</th>\n",
       "    </tr>\n",
       "  </thead>\n",
       "  <tbody>\n",
       "    <tr>\n",
       "      <th>A</th>\n",
       "      <td>140.885956</td>\n",
       "      <td>143.133453</td>\n",
       "      <td>142.437317</td>\n",
       "      <td>139.553360</td>\n",
       "      <td>140.120193</td>\n",
       "      <td>138.161102</td>\n",
       "      <td>134.968872</td>\n",
       "      <td>135.933502</td>\n",
       "      <td>137.634033</td>\n",
       "      <td>133.288239</td>\n",
       "      <td>136.062790</td>\n",
       "      <td>132.442917</td>\n",
       "      <td>133.795410</td>\n",
       "    </tr>\n",
       "    <tr>\n",
       "      <th>AAL</th>\n",
       "      <td>16.120001</td>\n",
       "      <td>16.360001</td>\n",
       "      <td>16.120001</td>\n",
       "      <td>16.360001</td>\n",
       "      <td>16.590000</td>\n",
       "      <td>15.880000</td>\n",
       "      <td>15.460000</td>\n",
       "      <td>14.850000</td>\n",
       "      <td>14.660000</td>\n",
       "      <td>13.860000</td>\n",
       "      <td>14.120000</td>\n",
       "      <td>13.980000</td>\n",
       "      <td>13.960000</td>\n",
       "    </tr>\n",
       "    <tr>\n",
       "      <th>AAPL</th>\n",
       "      <td>145.511978</td>\n",
       "      <td>150.617996</td>\n",
       "      <td>153.410370</td>\n",
       "      <td>151.186447</td>\n",
       "      <td>152.452972</td>\n",
       "      <td>150.179184</td>\n",
       "      <td>148.094894</td>\n",
       "      <td>150.059525</td>\n",
       "      <td>152.173737</td>\n",
       "      <td>152.572647</td>\n",
       "      <td>155.424850</td>\n",
       "      <td>154.577164</td>\n",
       "      <td>156.970612</td>\n",
       "    </tr>\n",
       "    <tr>\n",
       "      <th>ABBV</th>\n",
       "      <td>151.295471</td>\n",
       "      <td>152.941910</td>\n",
       "      <td>152.177490</td>\n",
       "      <td>149.874420</td>\n",
       "      <td>146.610977</td>\n",
       "      <td>144.405930</td>\n",
       "      <td>146.718781</td>\n",
       "      <td>148.914017</td>\n",
       "      <td>150.776062</td>\n",
       "      <td>150.981857</td>\n",
       "      <td>152.197098</td>\n",
       "      <td>151.138672</td>\n",
       "      <td>153.000702</td>\n",
       "    </tr>\n",
       "    <tr>\n",
       "      <th>ABNB</th>\n",
       "      <td>122.379997</td>\n",
       "      <td>125.730003</td>\n",
       "      <td>126.330002</td>\n",
       "      <td>126.940002</td>\n",
       "      <td>125.000000</td>\n",
       "      <td>119.839996</td>\n",
       "      <td>118.300003</td>\n",
       "      <td>115.959999</td>\n",
       "      <td>116.360001</td>\n",
       "      <td>113.580002</td>\n",
       "      <td>119.989998</td>\n",
       "      <td>118.150002</td>\n",
       "      <td>118.400002</td>\n",
       "    </tr>\n",
       "    <tr>\n",
       "      <th>...</th>\n",
       "      <td>...</td>\n",
       "      <td>...</td>\n",
       "      <td>...</td>\n",
       "      <td>...</td>\n",
       "      <td>...</td>\n",
       "      <td>...</td>\n",
       "      <td>...</td>\n",
       "      <td>...</td>\n",
       "      <td>...</td>\n",
       "      <td>...</td>\n",
       "      <td>...</td>\n",
       "      <td>...</td>\n",
       "      <td>...</td>\n",
       "    </tr>\n",
       "    <tr>\n",
       "      <th>YUM</th>\n",
       "      <td>127.485069</td>\n",
       "      <td>128.465866</td>\n",
       "      <td>128.099319</td>\n",
       "      <td>125.741402</td>\n",
       "      <td>125.602715</td>\n",
       "      <td>124.879494</td>\n",
       "      <td>123.423141</td>\n",
       "      <td>123.730255</td>\n",
       "      <td>125.523445</td>\n",
       "      <td>125.949463</td>\n",
       "      <td>126.870819</td>\n",
       "      <td>125.672058</td>\n",
       "      <td>127.683220</td>\n",
       "    </tr>\n",
       "    <tr>\n",
       "      <th>ZBH</th>\n",
       "      <td>122.286400</td>\n",
       "      <td>125.497932</td>\n",
       "      <td>123.907082</td>\n",
       "      <td>122.445480</td>\n",
       "      <td>121.212585</td>\n",
       "      <td>121.650070</td>\n",
       "      <td>122.823318</td>\n",
       "      <td>123.539192</td>\n",
       "      <td>125.905579</td>\n",
       "      <td>124.543419</td>\n",
       "      <td>124.712440</td>\n",
       "      <td>123.598854</td>\n",
       "      <td>125.607292</td>\n",
       "    </tr>\n",
       "    <tr>\n",
       "      <th>ZBRA</th>\n",
       "      <td>306.059998</td>\n",
       "      <td>309.450012</td>\n",
       "      <td>305.809998</td>\n",
       "      <td>302.160004</td>\n",
       "      <td>307.070007</td>\n",
       "      <td>296.910004</td>\n",
       "      <td>288.190002</td>\n",
       "      <td>284.920013</td>\n",
       "      <td>292.459991</td>\n",
       "      <td>287.739990</td>\n",
       "      <td>294.929993</td>\n",
       "      <td>288.709991</td>\n",
       "      <td>290.839996</td>\n",
       "    </tr>\n",
       "    <tr>\n",
       "      <th>ZION</th>\n",
       "      <td>46.931580</td>\n",
       "      <td>47.825329</td>\n",
       "      <td>47.368736</td>\n",
       "      <td>45.114933</td>\n",
       "      <td>45.348087</td>\n",
       "      <td>40.179882</td>\n",
       "      <td>39.198696</td>\n",
       "      <td>29.114870</td>\n",
       "      <td>30.416636</td>\n",
       "      <td>29.833755</td>\n",
       "      <td>31.193810</td>\n",
       "      <td>29.085726</td>\n",
       "      <td>29.318878</td>\n",
       "    </tr>\n",
       "    <tr>\n",
       "      <th>ZTS</th>\n",
       "      <td>167.849579</td>\n",
       "      <td>169.820999</td>\n",
       "      <td>168.934845</td>\n",
       "      <td>166.306290</td>\n",
       "      <td>167.909317</td>\n",
       "      <td>166.764313</td>\n",
       "      <td>160.830124</td>\n",
       "      <td>162.701996</td>\n",
       "      <td>163.846985</td>\n",
       "      <td>162.861298</td>\n",
       "      <td>165.589417</td>\n",
       "      <td>163.757385</td>\n",
       "      <td>165.101547</td>\n",
       "    </tr>\n",
       "  </tbody>\n",
       "</table>\n",
       "<p>499 rows × 13 columns</p>\n",
       "</div>"
      ],
      "text/plain": [
       "      Adj Close 2023-03-02  Adj Close 2023-03-03  Adj Close 2023-03-06  \\\n",
       "A               140.885956            143.133453            142.437317   \n",
       "AAL              16.120001             16.360001             16.120001   \n",
       "AAPL            145.511978            150.617996            153.410370   \n",
       "ABBV            151.295471            152.941910            152.177490   \n",
       "ABNB            122.379997            125.730003            126.330002   \n",
       "...                    ...                   ...                   ...   \n",
       "YUM             127.485069            128.465866            128.099319   \n",
       "ZBH             122.286400            125.497932            123.907082   \n",
       "ZBRA            306.059998            309.450012            305.809998   \n",
       "ZION             46.931580             47.825329             47.368736   \n",
       "ZTS             167.849579            169.820999            168.934845   \n",
       "\n",
       "      Adj Close 2023-03-07  Adj Close 2023-03-08  Adj Close 2023-03-09  \\\n",
       "A               139.553360            140.120193            138.161102   \n",
       "AAL              16.360001             16.590000             15.880000   \n",
       "AAPL            151.186447            152.452972            150.179184   \n",
       "ABBV            149.874420            146.610977            144.405930   \n",
       "ABNB            126.940002            125.000000            119.839996   \n",
       "...                    ...                   ...                   ...   \n",
       "YUM             125.741402            125.602715            124.879494   \n",
       "ZBH             122.445480            121.212585            121.650070   \n",
       "ZBRA            302.160004            307.070007            296.910004   \n",
       "ZION             45.114933             45.348087             40.179882   \n",
       "ZTS             166.306290            167.909317            166.764313   \n",
       "\n",
       "      Adj Close 2023-03-10  Adj Close 2023-03-13  Adj Close 2023-03-14  \\\n",
       "A               134.968872            135.933502            137.634033   \n",
       "AAL              15.460000             14.850000             14.660000   \n",
       "AAPL            148.094894            150.059525            152.173737   \n",
       "ABBV            146.718781            148.914017            150.776062   \n",
       "ABNB            118.300003            115.959999            116.360001   \n",
       "...                    ...                   ...                   ...   \n",
       "YUM             123.423141            123.730255            125.523445   \n",
       "ZBH             122.823318            123.539192            125.905579   \n",
       "ZBRA            288.190002            284.920013            292.459991   \n",
       "ZION             39.198696             29.114870             30.416636   \n",
       "ZTS             160.830124            162.701996            163.846985   \n",
       "\n",
       "      Adj Close 2023-03-15  Adj Close 2023-03-16  Adj Close 2023-03-17  \\\n",
       "A               133.288239            136.062790            132.442917   \n",
       "AAL              13.860000             14.120000             13.980000   \n",
       "AAPL            152.572647            155.424850            154.577164   \n",
       "ABBV            150.981857            152.197098            151.138672   \n",
       "ABNB            113.580002            119.989998            118.150002   \n",
       "...                    ...                   ...                   ...   \n",
       "YUM             125.949463            126.870819            125.672058   \n",
       "ZBH             124.543419            124.712440            123.598854   \n",
       "ZBRA            287.739990            294.929993            288.709991   \n",
       "ZION             29.833755             31.193810             29.085726   \n",
       "ZTS             162.861298            165.589417            163.757385   \n",
       "\n",
       "      Adj Close 2023-03-20  \n",
       "A               133.795410  \n",
       "AAL              13.960000  \n",
       "AAPL            156.970612  \n",
       "ABBV            153.000702  \n",
       "ABNB            118.400002  \n",
       "...                    ...  \n",
       "YUM             127.683220  \n",
       "ZBH             125.607292  \n",
       "ZBRA            290.839996  \n",
       "ZION             29.318878  \n",
       "ZTS             165.101547  \n",
       "\n",
       "[499 rows x 13 columns]"
      ]
     },
     "execution_count": 64,
     "metadata": {},
     "output_type": "execute_result"
    }
   ],
   "source": [
    "price_df = df.T\n",
    "price_df"
   ]
  },
  {
   "cell_type": "code",
   "execution_count": 65,
   "metadata": {},
   "outputs": [],
   "source": [
    "y = price_df['Adj Close 2023-03-20']\n",
    "X = price_df.drop(columns = 'Adj Close 2023-03-20', axis=1)"
   ]
  },
  {
   "cell_type": "code",
   "execution_count": 66,
   "metadata": {},
   "outputs": [
    {
     "data": {
      "text/html": [
       "<div>\n",
       "<style scoped>\n",
       "    .dataframe tbody tr th:only-of-type {\n",
       "        vertical-align: middle;\n",
       "    }\n",
       "\n",
       "    .dataframe tbody tr th {\n",
       "        vertical-align: top;\n",
       "    }\n",
       "\n",
       "    .dataframe thead th {\n",
       "        text-align: right;\n",
       "    }\n",
       "</style>\n",
       "<table border=\"1\" class=\"dataframe\">\n",
       "  <thead>\n",
       "    <tr style=\"text-align: right;\">\n",
       "      <th></th>\n",
       "      <th>Adj Close 2023-03-02</th>\n",
       "      <th>Adj Close 2023-03-03</th>\n",
       "      <th>Adj Close 2023-03-06</th>\n",
       "      <th>Adj Close 2023-03-07</th>\n",
       "      <th>Adj Close 2023-03-08</th>\n",
       "      <th>Adj Close 2023-03-09</th>\n",
       "      <th>Adj Close 2023-03-10</th>\n",
       "      <th>Adj Close 2023-03-13</th>\n",
       "      <th>Adj Close 2023-03-14</th>\n",
       "      <th>Adj Close 2023-03-15</th>\n",
       "      <th>Adj Close 2023-03-16</th>\n",
       "      <th>Adj Close 2023-03-17</th>\n",
       "    </tr>\n",
       "  </thead>\n",
       "  <tbody>\n",
       "    <tr>\n",
       "      <th>AIG</th>\n",
       "      <td>58.893375</td>\n",
       "      <td>59.060158</td>\n",
       "      <td>59.197510</td>\n",
       "      <td>57.382538</td>\n",
       "      <td>56.264118</td>\n",
       "      <td>54.743469</td>\n",
       "      <td>52.143646</td>\n",
       "      <td>49.121960</td>\n",
       "      <td>50.152081</td>\n",
       "      <td>47.051910</td>\n",
       "      <td>49.570435</td>\n",
       "      <td>46.656849</td>\n",
       "    </tr>\n",
       "    <tr>\n",
       "      <th>TPR</th>\n",
       "      <td>42.798538</td>\n",
       "      <td>43.383884</td>\n",
       "      <td>42.476597</td>\n",
       "      <td>41.988811</td>\n",
       "      <td>42.076611</td>\n",
       "      <td>40.868248</td>\n",
       "      <td>40.632473</td>\n",
       "      <td>40.151089</td>\n",
       "      <td>40.760185</td>\n",
       "      <td>39.836716</td>\n",
       "      <td>40.435986</td>\n",
       "      <td>40.180565</td>\n",
       "    </tr>\n",
       "    <tr>\n",
       "      <th>COST</th>\n",
       "      <td>154.053391</td>\n",
       "      <td>155.296555</td>\n",
       "      <td>155.604874</td>\n",
       "      <td>152.372650</td>\n",
       "      <td>151.030014</td>\n",
       "      <td>149.180176</td>\n",
       "      <td>148.782364</td>\n",
       "      <td>147.559082</td>\n",
       "      <td>148.474060</td>\n",
       "      <td>148.792313</td>\n",
       "      <td>151.218979</td>\n",
       "      <td>151.189148</td>\n",
       "    </tr>\n",
       "    <tr>\n",
       "      <th>KMI</th>\n",
       "      <td>123.206741</td>\n",
       "      <td>123.031662</td>\n",
       "      <td>122.730133</td>\n",
       "      <td>120.220673</td>\n",
       "      <td>120.415215</td>\n",
       "      <td>120.405388</td>\n",
       "      <td>120.140236</td>\n",
       "      <td>120.866943</td>\n",
       "      <td>121.426689</td>\n",
       "      <td>123.557671</td>\n",
       "      <td>124.628075</td>\n",
       "      <td>123.115761</td>\n",
       "    </tr>\n",
       "    <tr>\n",
       "      <th>HD</th>\n",
       "      <td>242.091034</td>\n",
       "      <td>248.288559</td>\n",
       "      <td>250.016724</td>\n",
       "      <td>243.660278</td>\n",
       "      <td>249.718750</td>\n",
       "      <td>250.414001</td>\n",
       "      <td>244.921631</td>\n",
       "      <td>245.388443</td>\n",
       "      <td>248.983795</td>\n",
       "      <td>245.785706</td>\n",
       "      <td>253.262741</td>\n",
       "      <td>249.559067</td>\n",
       "    </tr>\n",
       "  </tbody>\n",
       "</table>\n",
       "</div>"
      ],
      "text/plain": [
       "      Adj Close 2023-03-02  Adj Close 2023-03-03  Adj Close 2023-03-06  \\\n",
       "AIG              58.893375             59.060158             59.197510   \n",
       "TPR              42.798538             43.383884             42.476597   \n",
       "COST            154.053391            155.296555            155.604874   \n",
       "KMI             123.206741            123.031662            122.730133   \n",
       "HD              242.091034            248.288559            250.016724   \n",
       "\n",
       "      Adj Close 2023-03-07  Adj Close 2023-03-08  Adj Close 2023-03-09  \\\n",
       "AIG              57.382538             56.264118             54.743469   \n",
       "TPR              41.988811             42.076611             40.868248   \n",
       "COST            152.372650            151.030014            149.180176   \n",
       "KMI             120.220673            120.415215            120.405388   \n",
       "HD              243.660278            249.718750            250.414001   \n",
       "\n",
       "      Adj Close 2023-03-10  Adj Close 2023-03-13  Adj Close 2023-03-14  \\\n",
       "AIG              52.143646             49.121960             50.152081   \n",
       "TPR              40.632473             40.151089             40.760185   \n",
       "COST            148.782364            147.559082            148.474060   \n",
       "KMI             120.140236            120.866943            121.426689   \n",
       "HD              244.921631            245.388443            248.983795   \n",
       "\n",
       "      Adj Close 2023-03-15  Adj Close 2023-03-16  Adj Close 2023-03-17  \n",
       "AIG              47.051910             49.570435             46.656849  \n",
       "TPR              39.836716             40.435986             40.180565  \n",
       "COST            148.792313            151.218979            151.189148  \n",
       "KMI             123.557671            124.628075            123.115761  \n",
       "HD              245.785706            253.262741            249.559067  "
      ]
     },
     "execution_count": 66,
     "metadata": {},
     "output_type": "execute_result"
    }
   ],
   "source": [
    "X_train, X_test, y_train, y_test = train_test_split(X, y, test_size=0.5, random_state=1234)\n",
    "X_train.head()"
   ]
  },
  {
   "cell_type": "code",
   "execution_count": 67,
   "metadata": {},
   "outputs": [
    {
     "data": {
      "text/html": [
       "<div>\n",
       "<style scoped>\n",
       "    .dataframe tbody tr th:only-of-type {\n",
       "        vertical-align: middle;\n",
       "    }\n",
       "\n",
       "    .dataframe tbody tr th {\n",
       "        vertical-align: top;\n",
       "    }\n",
       "\n",
       "    .dataframe thead th {\n",
       "        text-align: right;\n",
       "    }\n",
       "</style>\n",
       "<table border=\"1\" class=\"dataframe\">\n",
       "  <thead>\n",
       "    <tr style=\"text-align: right;\">\n",
       "      <th></th>\n",
       "      <th>Adj Close 2023-03-02</th>\n",
       "      <th>Adj Close 2023-03-03</th>\n",
       "      <th>Adj Close 2023-03-06</th>\n",
       "      <th>Adj Close 2023-03-07</th>\n",
       "      <th>Adj Close 2023-03-08</th>\n",
       "      <th>Adj Close 2023-03-09</th>\n",
       "      <th>Adj Close 2023-03-10</th>\n",
       "      <th>Adj Close 2023-03-13</th>\n",
       "      <th>Adj Close 2023-03-14</th>\n",
       "      <th>Adj Close 2023-03-15</th>\n",
       "      <th>Adj Close 2023-03-16</th>\n",
       "      <th>Adj Close 2023-03-17</th>\n",
       "      <th>Adj Close 2023-03-20</th>\n",
       "      <th>Industry</th>\n",
       "    </tr>\n",
       "  </thead>\n",
       "  <tbody>\n",
       "    <tr>\n",
       "      <th>A</th>\n",
       "      <td>140.885956</td>\n",
       "      <td>143.133453</td>\n",
       "      <td>142.437317</td>\n",
       "      <td>139.553360</td>\n",
       "      <td>140.120193</td>\n",
       "      <td>138.161102</td>\n",
       "      <td>134.968872</td>\n",
       "      <td>135.933502</td>\n",
       "      <td>137.634033</td>\n",
       "      <td>133.288239</td>\n",
       "      <td>136.062790</td>\n",
       "      <td>132.442917</td>\n",
       "      <td>133.795410</td>\n",
       "      <td>Materials</td>\n",
       "    </tr>\n",
       "    <tr>\n",
       "      <th>AAL</th>\n",
       "      <td>16.120001</td>\n",
       "      <td>16.360001</td>\n",
       "      <td>16.120001</td>\n",
       "      <td>16.360001</td>\n",
       "      <td>16.590000</td>\n",
       "      <td>15.880000</td>\n",
       "      <td>15.460000</td>\n",
       "      <td>14.850000</td>\n",
       "      <td>14.660000</td>\n",
       "      <td>13.860000</td>\n",
       "      <td>14.120000</td>\n",
       "      <td>13.980000</td>\n",
       "      <td>13.960000</td>\n",
       "      <td>Real Estate</td>\n",
       "    </tr>\n",
       "    <tr>\n",
       "      <th>AAPL</th>\n",
       "      <td>145.511978</td>\n",
       "      <td>150.617996</td>\n",
       "      <td>153.410370</td>\n",
       "      <td>151.186447</td>\n",
       "      <td>152.452972</td>\n",
       "      <td>150.179184</td>\n",
       "      <td>148.094894</td>\n",
       "      <td>150.059525</td>\n",
       "      <td>152.173737</td>\n",
       "      <td>152.572647</td>\n",
       "      <td>155.424850</td>\n",
       "      <td>154.577164</td>\n",
       "      <td>156.970612</td>\n",
       "      <td>Information Technology</td>\n",
       "    </tr>\n",
       "    <tr>\n",
       "      <th>ABBV</th>\n",
       "      <td>151.295471</td>\n",
       "      <td>152.941910</td>\n",
       "      <td>152.177490</td>\n",
       "      <td>149.874420</td>\n",
       "      <td>146.610977</td>\n",
       "      <td>144.405930</td>\n",
       "      <td>146.718781</td>\n",
       "      <td>148.914017</td>\n",
       "      <td>150.776062</td>\n",
       "      <td>150.981857</td>\n",
       "      <td>152.197098</td>\n",
       "      <td>151.138672</td>\n",
       "      <td>153.000702</td>\n",
       "      <td>Health Care</td>\n",
       "    </tr>\n",
       "    <tr>\n",
       "      <th>ABNB</th>\n",
       "      <td>122.379997</td>\n",
       "      <td>125.730003</td>\n",
       "      <td>126.330002</td>\n",
       "      <td>126.940002</td>\n",
       "      <td>125.000000</td>\n",
       "      <td>119.839996</td>\n",
       "      <td>118.300003</td>\n",
       "      <td>115.959999</td>\n",
       "      <td>116.360001</td>\n",
       "      <td>113.580002</td>\n",
       "      <td>119.989998</td>\n",
       "      <td>118.150002</td>\n",
       "      <td>118.400002</td>\n",
       "      <td>Information Technology</td>\n",
       "    </tr>\n",
       "    <tr>\n",
       "      <th>...</th>\n",
       "      <td>...</td>\n",
       "      <td>...</td>\n",
       "      <td>...</td>\n",
       "      <td>...</td>\n",
       "      <td>...</td>\n",
       "      <td>...</td>\n",
       "      <td>...</td>\n",
       "      <td>...</td>\n",
       "      <td>...</td>\n",
       "      <td>...</td>\n",
       "      <td>...</td>\n",
       "      <td>...</td>\n",
       "      <td>...</td>\n",
       "      <td>...</td>\n",
       "    </tr>\n",
       "    <tr>\n",
       "      <th>YUM</th>\n",
       "      <td>127.485069</td>\n",
       "      <td>128.465866</td>\n",
       "      <td>128.099319</td>\n",
       "      <td>125.741402</td>\n",
       "      <td>125.602715</td>\n",
       "      <td>124.879494</td>\n",
       "      <td>123.423141</td>\n",
       "      <td>123.730255</td>\n",
       "      <td>125.523445</td>\n",
       "      <td>125.949463</td>\n",
       "      <td>126.870819</td>\n",
       "      <td>125.672058</td>\n",
       "      <td>127.683220</td>\n",
       "      <td>Consumer Discretionary</td>\n",
       "    </tr>\n",
       "    <tr>\n",
       "      <th>ZBH</th>\n",
       "      <td>122.286400</td>\n",
       "      <td>125.497932</td>\n",
       "      <td>123.907082</td>\n",
       "      <td>122.445480</td>\n",
       "      <td>121.212585</td>\n",
       "      <td>121.650070</td>\n",
       "      <td>122.823318</td>\n",
       "      <td>123.539192</td>\n",
       "      <td>125.905579</td>\n",
       "      <td>124.543419</td>\n",
       "      <td>124.712440</td>\n",
       "      <td>123.598854</td>\n",
       "      <td>125.607292</td>\n",
       "      <td>Health Care</td>\n",
       "    </tr>\n",
       "    <tr>\n",
       "      <th>ZBRA</th>\n",
       "      <td>306.059998</td>\n",
       "      <td>309.450012</td>\n",
       "      <td>305.809998</td>\n",
       "      <td>302.160004</td>\n",
       "      <td>307.070007</td>\n",
       "      <td>296.910004</td>\n",
       "      <td>288.190002</td>\n",
       "      <td>284.920013</td>\n",
       "      <td>292.459991</td>\n",
       "      <td>287.739990</td>\n",
       "      <td>294.929993</td>\n",
       "      <td>288.709991</td>\n",
       "      <td>290.839996</td>\n",
       "      <td>Information Technology</td>\n",
       "    </tr>\n",
       "    <tr>\n",
       "      <th>ZION</th>\n",
       "      <td>46.931580</td>\n",
       "      <td>47.825329</td>\n",
       "      <td>47.368736</td>\n",
       "      <td>45.114933</td>\n",
       "      <td>45.348087</td>\n",
       "      <td>40.179882</td>\n",
       "      <td>39.198696</td>\n",
       "      <td>29.114870</td>\n",
       "      <td>30.416636</td>\n",
       "      <td>29.833755</td>\n",
       "      <td>31.193810</td>\n",
       "      <td>29.085726</td>\n",
       "      <td>29.318878</td>\n",
       "      <td>Financials</td>\n",
       "    </tr>\n",
       "    <tr>\n",
       "      <th>ZTS</th>\n",
       "      <td>167.849579</td>\n",
       "      <td>169.820999</td>\n",
       "      <td>168.934845</td>\n",
       "      <td>166.306290</td>\n",
       "      <td>167.909317</td>\n",
       "      <td>166.764313</td>\n",
       "      <td>160.830124</td>\n",
       "      <td>162.701996</td>\n",
       "      <td>163.846985</td>\n",
       "      <td>162.861298</td>\n",
       "      <td>165.589417</td>\n",
       "      <td>163.757385</td>\n",
       "      <td>165.101547</td>\n",
       "      <td>Health Care</td>\n",
       "    </tr>\n",
       "  </tbody>\n",
       "</table>\n",
       "<p>499 rows × 14 columns</p>\n",
       "</div>"
      ],
      "text/plain": [
       "      Adj Close 2023-03-02  Adj Close 2023-03-03  Adj Close 2023-03-06  \\\n",
       "A               140.885956            143.133453            142.437317   \n",
       "AAL              16.120001             16.360001             16.120001   \n",
       "AAPL            145.511978            150.617996            153.410370   \n",
       "ABBV            151.295471            152.941910            152.177490   \n",
       "ABNB            122.379997            125.730003            126.330002   \n",
       "...                    ...                   ...                   ...   \n",
       "YUM             127.485069            128.465866            128.099319   \n",
       "ZBH             122.286400            125.497932            123.907082   \n",
       "ZBRA            306.059998            309.450012            305.809998   \n",
       "ZION             46.931580             47.825329             47.368736   \n",
       "ZTS             167.849579            169.820999            168.934845   \n",
       "\n",
       "      Adj Close 2023-03-07  Adj Close 2023-03-08  Adj Close 2023-03-09  \\\n",
       "A               139.553360            140.120193            138.161102   \n",
       "AAL              16.360001             16.590000             15.880000   \n",
       "AAPL            151.186447            152.452972            150.179184   \n",
       "ABBV            149.874420            146.610977            144.405930   \n",
       "ABNB            126.940002            125.000000            119.839996   \n",
       "...                    ...                   ...                   ...   \n",
       "YUM             125.741402            125.602715            124.879494   \n",
       "ZBH             122.445480            121.212585            121.650070   \n",
       "ZBRA            302.160004            307.070007            296.910004   \n",
       "ZION             45.114933             45.348087             40.179882   \n",
       "ZTS             166.306290            167.909317            166.764313   \n",
       "\n",
       "      Adj Close 2023-03-10  Adj Close 2023-03-13  Adj Close 2023-03-14  \\\n",
       "A               134.968872            135.933502            137.634033   \n",
       "AAL              15.460000             14.850000             14.660000   \n",
       "AAPL            148.094894            150.059525            152.173737   \n",
       "ABBV            146.718781            148.914017            150.776062   \n",
       "ABNB            118.300003            115.959999            116.360001   \n",
       "...                    ...                   ...                   ...   \n",
       "YUM             123.423141            123.730255            125.523445   \n",
       "ZBH             122.823318            123.539192            125.905579   \n",
       "ZBRA            288.190002            284.920013            292.459991   \n",
       "ZION             39.198696             29.114870             30.416636   \n",
       "ZTS             160.830124            162.701996            163.846985   \n",
       "\n",
       "      Adj Close 2023-03-15  Adj Close 2023-03-16  Adj Close 2023-03-17  \\\n",
       "A               133.288239            136.062790            132.442917   \n",
       "AAL              13.860000             14.120000             13.980000   \n",
       "AAPL            152.572647            155.424850            154.577164   \n",
       "ABBV            150.981857            152.197098            151.138672   \n",
       "ABNB            113.580002            119.989998            118.150002   \n",
       "...                    ...                   ...                   ...   \n",
       "YUM             125.949463            126.870819            125.672058   \n",
       "ZBH             124.543419            124.712440            123.598854   \n",
       "ZBRA            287.739990            294.929993            288.709991   \n",
       "ZION             29.833755             31.193810             29.085726   \n",
       "ZTS             162.861298            165.589417            163.757385   \n",
       "\n",
       "      Adj Close 2023-03-20                Industry  \n",
       "A               133.795410               Materials  \n",
       "AAL              13.960000             Real Estate  \n",
       "AAPL            156.970612  Information Technology  \n",
       "ABBV            153.000702             Health Care  \n",
       "ABNB            118.400002  Information Technology  \n",
       "...                    ...                     ...  \n",
       "YUM             127.683220  Consumer Discretionary  \n",
       "ZBH             125.607292             Health Care  \n",
       "ZBRA            290.839996  Information Technology  \n",
       "ZION             29.318878              Financials  \n",
       "ZTS             165.101547             Health Care  \n",
       "\n",
       "[499 rows x 14 columns]"
      ]
     },
     "execution_count": 67,
     "metadata": {},
     "output_type": "execute_result"
    }
   ],
   "source": [
    "df_industries"
   ]
  },
  {
   "cell_type": "code",
   "execution_count": 68,
   "metadata": {},
   "outputs": [
    {
     "data": {
      "text/html": [
       "<div>\n",
       "<style scoped>\n",
       "    .dataframe tbody tr th:only-of-type {\n",
       "        vertical-align: middle;\n",
       "    }\n",
       "\n",
       "    .dataframe tbody tr th {\n",
       "        vertical-align: top;\n",
       "    }\n",
       "\n",
       "    .dataframe thead th {\n",
       "        text-align: right;\n",
       "    }\n",
       "</style>\n",
       "<table border=\"1\" class=\"dataframe\">\n",
       "  <thead>\n",
       "    <tr style=\"text-align: right;\">\n",
       "      <th></th>\n",
       "      <th>Adj Close 2023-03-02</th>\n",
       "      <th>Adj Close 2023-03-03</th>\n",
       "      <th>Adj Close 2023-03-06</th>\n",
       "      <th>Adj Close 2023-03-07</th>\n",
       "      <th>Adj Close 2023-03-08</th>\n",
       "      <th>Adj Close 2023-03-09</th>\n",
       "      <th>Adj Close 2023-03-10</th>\n",
       "      <th>Adj Close 2023-03-13</th>\n",
       "      <th>Adj Close 2023-03-14</th>\n",
       "      <th>Adj Close 2023-03-15</th>\n",
       "      <th>Adj Close 2023-03-16</th>\n",
       "      <th>Adj Close 2023-03-17</th>\n",
       "      <th>Adj Close 2023-03-20</th>\n",
       "      <th>Industry</th>\n",
       "    </tr>\n",
       "  </thead>\n",
       "  <tbody>\n",
       "    <tr>\n",
       "      <th>AAPL</th>\n",
       "      <td>145.511978</td>\n",
       "      <td>150.617996</td>\n",
       "      <td>153.410370</td>\n",
       "      <td>151.186447</td>\n",
       "      <td>152.452972</td>\n",
       "      <td>150.179184</td>\n",
       "      <td>148.094894</td>\n",
       "      <td>150.059525</td>\n",
       "      <td>152.173737</td>\n",
       "      <td>152.572647</td>\n",
       "      <td>155.424850</td>\n",
       "      <td>154.577164</td>\n",
       "      <td>156.970612</td>\n",
       "      <td>Information Technology</td>\n",
       "    </tr>\n",
       "    <tr>\n",
       "      <th>ABNB</th>\n",
       "      <td>122.379997</td>\n",
       "      <td>125.730003</td>\n",
       "      <td>126.330002</td>\n",
       "      <td>126.940002</td>\n",
       "      <td>125.000000</td>\n",
       "      <td>119.839996</td>\n",
       "      <td>118.300003</td>\n",
       "      <td>115.959999</td>\n",
       "      <td>116.360001</td>\n",
       "      <td>113.580002</td>\n",
       "      <td>119.989998</td>\n",
       "      <td>118.150002</td>\n",
       "      <td>118.400002</td>\n",
       "      <td>Information Technology</td>\n",
       "    </tr>\n",
       "    <tr>\n",
       "      <th>ACN</th>\n",
       "      <td>262.179596</td>\n",
       "      <td>266.073822</td>\n",
       "      <td>266.498810</td>\n",
       "      <td>261.131866</td>\n",
       "      <td>260.598175</td>\n",
       "      <td>256.743469</td>\n",
       "      <td>250.012512</td>\n",
       "      <td>248.391556</td>\n",
       "      <td>249.547958</td>\n",
       "      <td>243.311264</td>\n",
       "      <td>249.982880</td>\n",
       "      <td>247.096771</td>\n",
       "      <td>249.617157</td>\n",
       "      <td>Information Technology</td>\n",
       "    </tr>\n",
       "    <tr>\n",
       "      <th>ADI</th>\n",
       "      <td>182.840942</td>\n",
       "      <td>184.485214</td>\n",
       "      <td>183.762131</td>\n",
       "      <td>183.187622</td>\n",
       "      <td>184.802185</td>\n",
       "      <td>181.820694</td>\n",
       "      <td>180.037750</td>\n",
       "      <td>180.820267</td>\n",
       "      <td>184.812088</td>\n",
       "      <td>181.196655</td>\n",
       "      <td>184.861603</td>\n",
       "      <td>184.089005</td>\n",
       "      <td>185.287537</td>\n",
       "      <td>Information Technology</td>\n",
       "    </tr>\n",
       "    <tr>\n",
       "      <th>ADM</th>\n",
       "      <td>79.668991</td>\n",
       "      <td>80.153519</td>\n",
       "      <td>80.489716</td>\n",
       "      <td>78.838394</td>\n",
       "      <td>79.016388</td>\n",
       "      <td>77.117851</td>\n",
       "      <td>75.802727</td>\n",
       "      <td>76.356468</td>\n",
       "      <td>78.067108</td>\n",
       "      <td>75.951042</td>\n",
       "      <td>75.614845</td>\n",
       "      <td>73.429565</td>\n",
       "      <td>76.069702</td>\n",
       "      <td>Information Technology</td>\n",
       "    </tr>\n",
       "    <tr>\n",
       "      <th>...</th>\n",
       "      <td>...</td>\n",
       "      <td>...</td>\n",
       "      <td>...</td>\n",
       "      <td>...</td>\n",
       "      <td>...</td>\n",
       "      <td>...</td>\n",
       "      <td>...</td>\n",
       "      <td>...</td>\n",
       "      <td>...</td>\n",
       "      <td>...</td>\n",
       "      <td>...</td>\n",
       "      <td>...</td>\n",
       "      <td>...</td>\n",
       "      <td>...</td>\n",
       "    </tr>\n",
       "    <tr>\n",
       "      <th>TRV</th>\n",
       "      <td>180.066788</td>\n",
       "      <td>180.459961</td>\n",
       "      <td>180.224060</td>\n",
       "      <td>177.294861</td>\n",
       "      <td>174.739182</td>\n",
       "      <td>171.853867</td>\n",
       "      <td>173.592957</td>\n",
       "      <td>170.174072</td>\n",
       "      <td>169.719543</td>\n",
       "      <td>164.512146</td>\n",
       "      <td>170.164200</td>\n",
       "      <td>163.069489</td>\n",
       "      <td>166.705780</td>\n",
       "      <td>Information Technology</td>\n",
       "    </tr>\n",
       "    <tr>\n",
       "      <th>TSLA</th>\n",
       "      <td>190.899994</td>\n",
       "      <td>197.789993</td>\n",
       "      <td>193.809998</td>\n",
       "      <td>187.710007</td>\n",
       "      <td>182.000000</td>\n",
       "      <td>172.919998</td>\n",
       "      <td>173.440002</td>\n",
       "      <td>174.479996</td>\n",
       "      <td>183.259995</td>\n",
       "      <td>180.449997</td>\n",
       "      <td>184.130005</td>\n",
       "      <td>180.130005</td>\n",
       "      <td>183.250000</td>\n",
       "      <td>Information Technology</td>\n",
       "    </tr>\n",
       "    <tr>\n",
       "      <th>VLTO</th>\n",
       "      <td>180.471634</td>\n",
       "      <td>181.716476</td>\n",
       "      <td>179.047546</td>\n",
       "      <td>176.498123</td>\n",
       "      <td>178.181152</td>\n",
       "      <td>173.351181</td>\n",
       "      <td>168.590912</td>\n",
       "      <td>165.294571</td>\n",
       "      <td>166.818253</td>\n",
       "      <td>162.137680</td>\n",
       "      <td>165.523636</td>\n",
       "      <td>160.355072</td>\n",
       "      <td>162.595779</td>\n",
       "      <td>Information Technology</td>\n",
       "    </tr>\n",
       "    <tr>\n",
       "      <th>WDC</th>\n",
       "      <td>38.380001</td>\n",
       "      <td>38.590000</td>\n",
       "      <td>37.779999</td>\n",
       "      <td>37.310001</td>\n",
       "      <td>37.900002</td>\n",
       "      <td>37.060001</td>\n",
       "      <td>36.060001</td>\n",
       "      <td>35.320000</td>\n",
       "      <td>35.290001</td>\n",
       "      <td>34.389999</td>\n",
       "      <td>35.340000</td>\n",
       "      <td>35.080002</td>\n",
       "      <td>35.200001</td>\n",
       "      <td>Information Technology</td>\n",
       "    </tr>\n",
       "    <tr>\n",
       "      <th>ZBRA</th>\n",
       "      <td>306.059998</td>\n",
       "      <td>309.450012</td>\n",
       "      <td>305.809998</td>\n",
       "      <td>302.160004</td>\n",
       "      <td>307.070007</td>\n",
       "      <td>296.910004</td>\n",
       "      <td>288.190002</td>\n",
       "      <td>284.920013</td>\n",
       "      <td>292.459991</td>\n",
       "      <td>287.739990</td>\n",
       "      <td>294.929993</td>\n",
       "      <td>288.709991</td>\n",
       "      <td>290.839996</td>\n",
       "      <td>Information Technology</td>\n",
       "    </tr>\n",
       "  </tbody>\n",
       "</table>\n",
       "<p>64 rows × 14 columns</p>\n",
       "</div>"
      ],
      "text/plain": [
       "      Adj Close 2023-03-02  Adj Close 2023-03-03  Adj Close 2023-03-06  \\\n",
       "AAPL            145.511978            150.617996            153.410370   \n",
       "ABNB            122.379997            125.730003            126.330002   \n",
       "ACN             262.179596            266.073822            266.498810   \n",
       "ADI             182.840942            184.485214            183.762131   \n",
       "ADM              79.668991             80.153519             80.489716   \n",
       "...                    ...                   ...                   ...   \n",
       "TRV             180.066788            180.459961            180.224060   \n",
       "TSLA            190.899994            197.789993            193.809998   \n",
       "VLTO            180.471634            181.716476            179.047546   \n",
       "WDC              38.380001             38.590000             37.779999   \n",
       "ZBRA            306.059998            309.450012            305.809998   \n",
       "\n",
       "      Adj Close 2023-03-07  Adj Close 2023-03-08  Adj Close 2023-03-09  \\\n",
       "AAPL            151.186447            152.452972            150.179184   \n",
       "ABNB            126.940002            125.000000            119.839996   \n",
       "ACN             261.131866            260.598175            256.743469   \n",
       "ADI             183.187622            184.802185            181.820694   \n",
       "ADM              78.838394             79.016388             77.117851   \n",
       "...                    ...                   ...                   ...   \n",
       "TRV             177.294861            174.739182            171.853867   \n",
       "TSLA            187.710007            182.000000            172.919998   \n",
       "VLTO            176.498123            178.181152            173.351181   \n",
       "WDC              37.310001             37.900002             37.060001   \n",
       "ZBRA            302.160004            307.070007            296.910004   \n",
       "\n",
       "      Adj Close 2023-03-10  Adj Close 2023-03-13  Adj Close 2023-03-14  \\\n",
       "AAPL            148.094894            150.059525            152.173737   \n",
       "ABNB            118.300003            115.959999            116.360001   \n",
       "ACN             250.012512            248.391556            249.547958   \n",
       "ADI             180.037750            180.820267            184.812088   \n",
       "ADM              75.802727             76.356468             78.067108   \n",
       "...                    ...                   ...                   ...   \n",
       "TRV             173.592957            170.174072            169.719543   \n",
       "TSLA            173.440002            174.479996            183.259995   \n",
       "VLTO            168.590912            165.294571            166.818253   \n",
       "WDC              36.060001             35.320000             35.290001   \n",
       "ZBRA            288.190002            284.920013            292.459991   \n",
       "\n",
       "      Adj Close 2023-03-15  Adj Close 2023-03-16  Adj Close 2023-03-17  \\\n",
       "AAPL            152.572647            155.424850            154.577164   \n",
       "ABNB            113.580002            119.989998            118.150002   \n",
       "ACN             243.311264            249.982880            247.096771   \n",
       "ADI             181.196655            184.861603            184.089005   \n",
       "ADM              75.951042             75.614845             73.429565   \n",
       "...                    ...                   ...                   ...   \n",
       "TRV             164.512146            170.164200            163.069489   \n",
       "TSLA            180.449997            184.130005            180.130005   \n",
       "VLTO            162.137680            165.523636            160.355072   \n",
       "WDC              34.389999             35.340000             35.080002   \n",
       "ZBRA            287.739990            294.929993            288.709991   \n",
       "\n",
       "      Adj Close 2023-03-20                Industry  \n",
       "AAPL            156.970612  Information Technology  \n",
       "ABNB            118.400002  Information Technology  \n",
       "ACN             249.617157  Information Technology  \n",
       "ADI             185.287537  Information Technology  \n",
       "ADM              76.069702  Information Technology  \n",
       "...                    ...                     ...  \n",
       "TRV             166.705780  Information Technology  \n",
       "TSLA            183.250000  Information Technology  \n",
       "VLTO            162.595779  Information Technology  \n",
       "WDC              35.200001  Information Technology  \n",
       "ZBRA            290.839996  Information Technology  \n",
       "\n",
       "[64 rows x 14 columns]"
      ]
     },
     "execution_count": 68,
     "metadata": {},
     "output_type": "execute_result"
    }
   ],
   "source": [
    "it = df_industries[df_industries['Industry'] == 'Information Technology']\n",
    "it"
   ]
  },
  {
   "cell_type": "code",
   "execution_count": 69,
   "metadata": {},
   "outputs": [],
   "source": [
    "#JPM = df['JPM'].to_frame().T"
   ]
  },
  {
   "cell_type": "code",
   "execution_count": 70,
   "metadata": {},
   "outputs": [],
   "source": [
    "it = it.drop(columns=\"Industry\", axis = 1)"
   ]
  },
  {
   "cell_type": "code",
   "execution_count": 71,
   "metadata": {},
   "outputs": [],
   "source": [
    "y_it = it['Adj Close 2023-03-20']\n",
    "X_it = it.drop(columns = 'Adj Close 2023-03-20', axis=1)"
   ]
  },
  {
   "cell_type": "code",
   "execution_count": 72,
   "metadata": {},
   "outputs": [
    {
     "data": {
      "text/html": [
       "<div>\n",
       "<style scoped>\n",
       "    .dataframe tbody tr th:only-of-type {\n",
       "        vertical-align: middle;\n",
       "    }\n",
       "\n",
       "    .dataframe tbody tr th {\n",
       "        vertical-align: top;\n",
       "    }\n",
       "\n",
       "    .dataframe thead th {\n",
       "        text-align: right;\n",
       "    }\n",
       "</style>\n",
       "<table border=\"1\" class=\"dataframe\">\n",
       "  <thead>\n",
       "    <tr style=\"text-align: right;\">\n",
       "      <th></th>\n",
       "      <th>Adj Close 2023-03-02</th>\n",
       "      <th>Adj Close 2023-03-03</th>\n",
       "      <th>Adj Close 2023-03-06</th>\n",
       "      <th>Adj Close 2023-03-07</th>\n",
       "      <th>Adj Close 2023-03-08</th>\n",
       "      <th>Adj Close 2023-03-09</th>\n",
       "      <th>Adj Close 2023-03-10</th>\n",
       "      <th>Adj Close 2023-03-13</th>\n",
       "      <th>Adj Close 2023-03-14</th>\n",
       "      <th>Adj Close 2023-03-15</th>\n",
       "      <th>Adj Close 2023-03-16</th>\n",
       "      <th>Adj Close 2023-03-17</th>\n",
       "    </tr>\n",
       "  </thead>\n",
       "  <tbody>\n",
       "    <tr>\n",
       "      <th>ACN</th>\n",
       "      <td>262.179596</td>\n",
       "      <td>266.073822</td>\n",
       "      <td>266.498810</td>\n",
       "      <td>261.131866</td>\n",
       "      <td>260.598175</td>\n",
       "      <td>256.743469</td>\n",
       "      <td>250.012512</td>\n",
       "      <td>248.391556</td>\n",
       "      <td>249.547958</td>\n",
       "      <td>243.311264</td>\n",
       "      <td>249.982880</td>\n",
       "      <td>247.096771</td>\n",
       "    </tr>\n",
       "    <tr>\n",
       "      <th>NDAQ</th>\n",
       "      <td>219.594223</td>\n",
       "      <td>221.671875</td>\n",
       "      <td>219.713516</td>\n",
       "      <td>218.311844</td>\n",
       "      <td>219.077286</td>\n",
       "      <td>216.890289</td>\n",
       "      <td>211.661377</td>\n",
       "      <td>209.474396</td>\n",
       "      <td>210.955597</td>\n",
       "      <td>205.169998</td>\n",
       "      <td>205.179932</td>\n",
       "      <td>202.814011</td>\n",
       "    </tr>\n",
       "    <tr>\n",
       "      <th>ROL</th>\n",
       "      <td>34.738930</td>\n",
       "      <td>35.096649</td>\n",
       "      <td>35.096649</td>\n",
       "      <td>34.887978</td>\n",
       "      <td>34.808487</td>\n",
       "      <td>34.589878</td>\n",
       "      <td>34.450760</td>\n",
       "      <td>34.818420</td>\n",
       "      <td>35.613361</td>\n",
       "      <td>35.921406</td>\n",
       "      <td>36.259254</td>\n",
       "      <td>35.841911</td>\n",
       "    </tr>\n",
       "    <tr>\n",
       "      <th>TSLA</th>\n",
       "      <td>190.899994</td>\n",
       "      <td>197.789993</td>\n",
       "      <td>193.809998</td>\n",
       "      <td>187.710007</td>\n",
       "      <td>182.000000</td>\n",
       "      <td>172.919998</td>\n",
       "      <td>173.440002</td>\n",
       "      <td>174.479996</td>\n",
       "      <td>183.259995</td>\n",
       "      <td>180.449997</td>\n",
       "      <td>184.130005</td>\n",
       "      <td>180.130005</td>\n",
       "    </tr>\n",
       "    <tr>\n",
       "      <th>AAPL</th>\n",
       "      <td>145.511978</td>\n",
       "      <td>150.617996</td>\n",
       "      <td>153.410370</td>\n",
       "      <td>151.186447</td>\n",
       "      <td>152.452972</td>\n",
       "      <td>150.179184</td>\n",
       "      <td>148.094894</td>\n",
       "      <td>150.059525</td>\n",
       "      <td>152.173737</td>\n",
       "      <td>152.572647</td>\n",
       "      <td>155.424850</td>\n",
       "      <td>154.577164</td>\n",
       "    </tr>\n",
       "  </tbody>\n",
       "</table>\n",
       "</div>"
      ],
      "text/plain": [
       "      Adj Close 2023-03-02  Adj Close 2023-03-03  Adj Close 2023-03-06  \\\n",
       "ACN             262.179596            266.073822            266.498810   \n",
       "NDAQ            219.594223            221.671875            219.713516   \n",
       "ROL              34.738930             35.096649             35.096649   \n",
       "TSLA            190.899994            197.789993            193.809998   \n",
       "AAPL            145.511978            150.617996            153.410370   \n",
       "\n",
       "      Adj Close 2023-03-07  Adj Close 2023-03-08  Adj Close 2023-03-09  \\\n",
       "ACN             261.131866            260.598175            256.743469   \n",
       "NDAQ            218.311844            219.077286            216.890289   \n",
       "ROL              34.887978             34.808487             34.589878   \n",
       "TSLA            187.710007            182.000000            172.919998   \n",
       "AAPL            151.186447            152.452972            150.179184   \n",
       "\n",
       "      Adj Close 2023-03-10  Adj Close 2023-03-13  Adj Close 2023-03-14  \\\n",
       "ACN             250.012512            248.391556            249.547958   \n",
       "NDAQ            211.661377            209.474396            210.955597   \n",
       "ROL              34.450760             34.818420             35.613361   \n",
       "TSLA            173.440002            174.479996            183.259995   \n",
       "AAPL            148.094894            150.059525            152.173737   \n",
       "\n",
       "      Adj Close 2023-03-15  Adj Close 2023-03-16  Adj Close 2023-03-17  \n",
       "ACN             243.311264            249.982880            247.096771  \n",
       "NDAQ            205.169998            205.179932            202.814011  \n",
       "ROL              35.921406             36.259254             35.841911  \n",
       "TSLA            180.449997            184.130005            180.130005  \n",
       "AAPL            152.572647            155.424850            154.577164  "
      ]
     },
     "execution_count": 72,
     "metadata": {},
     "output_type": "execute_result"
    }
   ],
   "source": [
    "X_train2, X_test2, y_train2, y_test2 = train_test_split(X_it, y_it, test_size=0.5, random_state=1234)\n",
    "X_train2.head()"
   ]
  },
  {
   "cell_type": "markdown",
   "metadata": {},
   "source": [
    "# For just the IT companies"
   ]
  },
  {
   "cell_type": "code",
   "execution_count": 73,
   "metadata": {},
   "outputs": [
    {
     "name": "stdout",
     "output_type": "stream",
     "text": [
      "Begin Implementation...\n",
      "RMSE for max_depth=2: 10.93314312734436\n",
      "MAE for max_depth=2: 7.580943117883033\n",
      "RMSE for max_depth=10: 10.735078529887035\n",
      "MAE for max_depth=10: 7.861876869999447\n",
      "End\n"
     ]
    }
   ],
   "source": [
    "from sklearn.metrics import mean_squared_error, mean_absolute_error\n",
    "import numpy as np\n",
    "\n",
    "print('Begin Implementation...')\n",
    "\n",
    "# Create GradientBoostingRegressor model objects\n",
    "gbdt_it_2_model = GradientBoostingRegressor(n_estimators=50, max_depth=2)\n",
    "gbdt_it_10_model = GradientBoostingRegressor(n_estimators=50, max_depth=10)\n",
    "\n",
    "# Fit the models\n",
    "gbdt_it_2_model.fit(X_train2, y_train2)\n",
    "gbdt_it_10_model.fit(X_train2, y_train2)\n",
    "\n",
    "# Make predictions using predict\n",
    "gbdt_it_2_predictions = gbdt_it_2_model.predict(X_test2)\n",
    "gbdt_it_10_predictions = gbdt_it_10_model.predict(X_test2)\n",
    "\n",
    "# Calculate RMSE and MAE\n",
    "rmse_it_2 = np.sqrt(mean_squared_error(y_test2, gbdt_it_2_predictions))\n",
    "mae_it_2 = mean_absolute_error(y_test2, gbdt_it_2_predictions)\n",
    "\n",
    "rmse_it_10 = np.sqrt(mean_squared_error(y_test2, gbdt_it_10_predictions))\n",
    "mae_it_10 = mean_absolute_error(y_test2, gbdt_it_10_predictions)\n",
    "\n",
    "print('RMSE for max_depth=2:', rmse_it_2)\n",
    "print('MAE for max_depth=2:', mae_it_2)\n",
    "\n",
    "print('RMSE for max_depth=10:', rmse_it_10)\n",
    "print('MAE for max_depth=10:', mae_it_10)\n",
    "\n",
    "print('End')\n",
    "# In this modified code, we use the predict method for regression to get the predictions for gbdt_2_model and gbdt_10_model. We then calculate the RMSE and MAE for both models and print the results.\n"
   ]
  },
  {
   "cell_type": "code",
   "execution_count": 74,
   "metadata": {},
   "outputs": [
    {
     "name": "stdout",
     "output_type": "stream",
     "text": [
      "Predicted:  [111.70225  185.41843  332.02823  313.59534  138.08342   29.833801\n",
      " 258.94986   39.50207   76.068695 199.08798  234.16843   28.02466\n",
      "  57.81999   52.48269   55.12911  123.414955  95.064125 270.4221\n",
      "  15.256422 236.64285  290.83884   25.429499 285.334     53.883186\n",
      " 226.658     94.558754 131.13072  126.16901   77.65108  118.39904\n",
      "  59.009373  35.200348]\n"
     ]
    }
   ],
   "source": [
    "import xgboost\n",
    "from xgboost import XGBRegressor\n",
    "model2 = XGBRegressor()\n",
    "model2.fit(X_it,y_it)\n",
    "yhat2 = model2.predict(X_test2)\n",
    "# summarize prediction\n",
    "print('Predicted: ', yhat2)"
   ]
  },
  {
   "cell_type": "code",
   "execution_count": 75,
   "metadata": {},
   "outputs": [
    {
     "name": "stdout",
     "output_type": "stream",
     "text": [
      "Mean MAE: 9.030 (3.947)\n"
     ]
    }
   ],
   "source": [
    "from sklearn.model_selection import cross_val_score\n",
    "from sklearn.model_selection import RepeatedKFold\n",
    "from numpy import absolute\n",
    "\n",
    "cv = RepeatedKFold(n_splits=10, n_repeats=3, random_state=1)\n",
    "# evaluate model\n",
    "scores2 = cross_val_score(model2, X_it, y_it, scoring='neg_mean_absolute_error', cv=cv, n_jobs=-1)\n",
    "scores2 = absolute(scores2)\n",
    "print('Mean MAE: %.3f (%.3f)' % (scores2.mean(), scores2.std()) )\n"
   ]
  },
  {
   "cell_type": "code",
   "execution_count": 100,
   "metadata": {},
   "outputs": [
    {
     "name": "stdout",
     "output_type": "stream",
     "text": [
      "Mean MAE: 9.030 (3.947)\n"
     ]
    }
   ],
   "source": [
    "model2_hyper = XGBRegressor(n_estimators=10000, max_depth=50, eta=0.1, subsample=0.7, colsample_bytree=0.8)\n",
    "model2_hyper.fit(X_it,y_it)\n",
    "cv2 = RepeatedKFold(n_splits=10, n_repeats=3, random_state=1)\n",
    "# evaluate model\n",
    "scores2_hyper = cross_val_score(model2_hyper, X_it, y_it, scoring='neg_mean_absolute_error', cv=cv2, n_jobs=-1)\n",
    "scores2_hyper = absolute(scores2)\n",
    "print('Mean MAE: %.3f (%.3f)' % (scores2_hyper.mean(), scores2_hyper.std()) )"
   ]
  },
  {
   "cell_type": "markdown",
   "metadata": {},
   "source": [
    "# <b>For all the Stocks</b>"
   ]
  },
  {
   "cell_type": "code",
   "execution_count": 104,
   "metadata": {},
   "outputs": [
    {
     "name": "stdout",
     "output_type": "stream",
     "text": [
      "Begin Implementation...\n",
      "RMSE for max_depth=2: 337.7950394734898\n",
      "MAE for max_depth=2: 41.681298626929106\n",
      "RMSE for max_depth=10: 336.5811392144835\n",
      "MAE for max_depth=10: 40.68926794824687\n",
      "RMSE for max_depth=100: 336.5811392144835\n",
      "MAE for max_depth=100: 40.68926794824687\n",
      "End\n"
     ]
    }
   ],
   "source": [
    "from sklearn.metrics import mean_squared_error, mean_absolute_error\n",
    "import numpy as np\n",
    "\n",
    "print('Begin Implementation...')\n",
    "\n",
    "# Create GradientBoostingRegressor model objects\n",
    "gbdt_2_model = GradientBoostingRegressor(n_estimators=50, max_depth=2)\n",
    "gbdt_10_model = GradientBoostingRegressor(n_estimators=50, max_depth=10)\n",
    "gbdt_100_model = GradientBoostingRegressor(n_estimators=50, max_depth=100)\n",
    "\n",
    "# Fit the models\n",
    "gbdt_2_model.fit(X_train, y_train)\n",
    "gbdt_10_model.fit(X_train, y_train)\n",
    "gbdt_100_model.fit(X_train, y_train)\n",
    "\n",
    "# Make predictions using predict\n",
    "gbdt_2_predictions = gbdt_2_model.predict(X_test)\n",
    "gbdt_10_predictions = gbdt_10_model.predict(X_test)\n",
    "gbdt_100_predictions = gbdt_100_model.predict(X_test)\n",
    "\n",
    "\n",
    "# Calculate RMSE and MAE\n",
    "rmse_2_all = np.sqrt(mean_squared_error(y_test, gbdt_2_predictions))\n",
    "mae_2_all = mean_absolute_error(y_test, gbdt_2_predictions)\n",
    "\n",
    "rmse_10_all = np.sqrt(mean_squared_error(y_test, gbdt_10_predictions))\n",
    "mae_10_all = mean_absolute_error(y_test, gbdt_10_predictions)\n",
    "\n",
    "rmse_100_all = np.sqrt(mean_squared_error(y_test, gbdt_10_predictions))\n",
    "mae_100_all = mean_absolute_error(y_test, gbdt_10_predictions)\n",
    "\n",
    "print('RMSE for max_depth=2:', rmse_2_all)\n",
    "print('MAE for max_depth=2:', mae_2_all)\n",
    "\n",
    "print('RMSE for max_depth=10:', rmse_10_all)\n",
    "print('MAE for max_depth=10:', mae_10_all)\n",
    "\n",
    "print('RMSE for max_depth=100:', rmse_100_all)\n",
    "print('MAE for max_depth=100:', mae_100_all)\n",
    "\n",
    "print('End')\n",
    "# In this modified code, we use the predict method for regression to get the predictions for gbdt_2_model and gbdt_10_model. We then calculate the RMSE and MAE for both models and print the results.\n"
   ]
  },
  {
   "cell_type": "code",
   "execution_count": 78,
   "metadata": {},
   "outputs": [],
   "source": [
    "import xgboost\n",
    "from xgboost import XGBRegressor\n"
   ]
  },
  {
   "cell_type": "code",
   "execution_count": 79,
   "metadata": {},
   "outputs": [
    {
     "name": "stdout",
     "output_type": "stream",
     "text": [
      "Requirement already satisfied: xgboost in /opt/homebrew/lib/python3.11/site-packages (2.0.1)\n",
      "Requirement already satisfied: numpy in /opt/homebrew/lib/python3.11/site-packages (from xgboost) (1.25.2)\n",
      "Requirement already satisfied: scipy in /opt/homebrew/lib/python3.11/site-packages (from xgboost) (1.11.2)\n",
      "Note: you may need to restart the kernel to use updated packages.\n"
     ]
    }
   ],
   "source": [
    "#pip install xgboost"
   ]
  },
  {
   "cell_type": "code",
   "execution_count": 80,
   "metadata": {},
   "outputs": [
    {
     "name": "stdout",
     "output_type": "stream",
     "text": [
      "Predicted:  [  77.96854     48.953247   209.58365     75.11655     67.29187\n",
      " 3459.7578     156.2018      57.121094    42.076912    66.54065\n",
      "  103.42318     65.726295   166.47238     67.99846    274.17606\n",
      "   72.63348    249.75339     15.177965    61.28253    162.07861\n",
      "   12.579479   213.3992      10.584022    35.365826   197.64969\n",
      "   98.53439    101.43184     84.77943     71.6012     332.59265\n",
      "   40.217506   156.9956     375.6658     138.16191    126.87535\n",
      "   59.78876     68.18287     72.21672     96.225624   106.98687\n",
      "  316.98505     25.419529    58.177048   180.14899    120.1963\n",
      "   92.579094    69.49971    101.27984     75.11792    633.1538\n",
      "  240.49907     77.3995      55.060043   265.13266     36.882202\n",
      "  164.98163    314.90338     49.1448      74.62417     49.16844\n",
      "   38.46684    130.6812      90.89639     46.860535   144.0445\n",
      "   85.12812     84.167564   107.96991     17.645853    52.721046\n",
      "   94.81738     55.845802   160.9432     549.8703     200.76276\n",
      "   43.143887   201.86887     58.19863   3459.7578     463.8555\n",
      "  182.65628     84.708824    78.62739    104.84151     10.3883915\n",
      "  143.3459     119.22638     61.016575   108.19241     27.849323\n",
      "  127.89285     73.94795     35.52037    117.11115     44.28002\n",
      "  483.31714     25.267172   213.91351    133.61629     58.37783\n",
      "  103.68154     14.059228    92.06977     15.99187    298.98608\n",
      "  430.819      197.83289    140.8873      71.18505    154.09003\n",
      "  218.0736      27.717001   212.4993      37.749245    63.444523\n",
      "  234.25299    114.010216    43.155537   185.04451    137.90756\n",
      "  236.6195     230.08788    185.36914     77.19001     86.5491\n",
      "  111.912125  3459.7578      71.901985   307.84784     21.59093\n",
      "  107.42928     95.15537    272.35632     57.532253    28.799156\n",
      "   54.8903      41.67696    112.52505     52.472797   269.77112\n",
      "   30.780153   291.7986     218.27063     61.26217     93.56714\n",
      "   43.43648     35.723415   226.60371     85.88391     46.76431\n",
      " 1542.5422     187.7801     213.8106      98.40631     49.93568\n",
      "   33.12311     51.365517    17.645853   121.10616    299.37375\n",
      "   58.818993    65.91644     15.99187    146.48776    224.95618\n",
      "  331.51282    255.37727    384.79773    116.85988    242.98734\n",
      "  101.21175    387.56445    100.74744    487.31293     42.90559\n",
      "  151.78181    491.63556    195.29941    344.82416    258.94977\n",
      "  300.36102    122.89528    178.78783    217.27185    104.01207\n",
      "   30.493792    30.376902    55.911415   117.91777    375.76605\n",
      "  236.73064    184.6573     123.75917     74.87209    198.8804\n",
      "   79.99543    104.70629    103.88809    204.89505     59.95702\n",
      "  155.72208     95.123215   162.15506     10.892441    45.794445\n",
      "   96.25707     17.526978  1542.5422     208.05956    682.39954\n",
      "  101.63801    472.90558     65.70018    417.60538     50.491123\n",
      "   67.83438     39.27127     78.491455   110.26749     36.835552\n",
      "  150.95105    106.303406   125.67405    682.93964     33.01401\n",
      "  108.10224    151.2686     108.940544   285.25015     28.070389\n",
      "  119.900696   125.65251    145.59885    185.22984     79.389946\n",
      "  204.43727     32.68211    347.6402      28.808887   469.4975\n",
      "  340.91666    348.7716      73.3049     409.62698     44.56951\n",
      "  124.45954     37.167267    98.67579     61.440914   124.05718  ]\n"
     ]
    }
   ],
   "source": [
    "model1 = XGBRegressor()\n",
    "model1.fit(X,y)\n",
    "yhat = model1.predict(X_test)\n",
    "# summarize prediction\n",
    "print('Predicted: ', yhat)"
   ]
  },
  {
   "cell_type": "code",
   "execution_count": 81,
   "metadata": {},
   "outputs": [],
   "source": [
    "# model = XGBRegressor(n_estimators=1000, max_depth=7, eta=0.1, subsample=0.7, colsample_bytree=0.8)"
   ]
  },
  {
   "cell_type": "code",
   "execution_count": 82,
   "metadata": {},
   "outputs": [],
   "source": [
    "from sklearn.model_selection import cross_val_score\n",
    "from sklearn.model_selection import RepeatedKFold\n",
    "from numpy import absolute"
   ]
  },
  {
   "cell_type": "code",
   "execution_count": 83,
   "metadata": {},
   "outputs": [
    {
     "name": "stdout",
     "output_type": "stream",
     "text": [
      "Mean MAE: 15.877 (20.708)\n"
     ]
    }
   ],
   "source": [
    "\n",
    "cv = RepeatedKFold(n_splits=10, n_repeats=3, random_state=1)\n",
    "# evaluate model\n",
    "scores = cross_val_score(model1, X, y, scoring='neg_mean_absolute_error', cv=cv, n_jobs=-1)\n",
    "scores = absolute(scores)\n",
    "print('Mean MAE: %.3f (%.3f)' % (scores.mean(), scores.std()) )\n"
   ]
  },
  {
   "cell_type": "code",
   "execution_count": 84,
   "metadata": {},
   "outputs": [
    {
     "name": "stdout",
     "output_type": "stream",
     "text": [
      "running cross-validation\n",
      "RMSE: 155.39756581140233 ± 102.24459005363957\n",
      "MAE: 57.088810021101835 ± 15.642752403760358\n"
     ]
    }
   ],
   "source": [
    "import os\n",
    "import xgboost as xgb\n",
    "import numpy as np\n",
    "import pandas as pd\n",
    "from sklearn.metrics import mean_squared_error, mean_absolute_error\n",
    "\n",
    "# Create a DMatrix\n",
    "dtrain = xgb.DMatrix(data=X, label=y)\n",
    "\n",
    "param = {\"max_depth\": 2, \"eta\": 1, \"objective\": \"reg:squarederror\"}  # Use regression objective\n",
    "num_round = 2\n",
    "\n",
    "print(\"running cross-validation\")\n",
    "\n",
    "# Perform cross-validation\n",
    "results = xgb.cv(param, dtrain, num_round, nfold=5, metrics=[\"rmse\", \"mae\"], seed=0)\n",
    "\n",
    "# Extract RMSE and MAE from the results\n",
    "rmse_mean = results[\"test-rmse-mean\"].values[-1]\n",
    "rmse_std = results[\"test-rmse-std\"].values[-1]\n",
    "mae_mean = results[\"test-mae-mean\"].values[-1]\n",
    "mae_std = results[\"test-mae-std\"].values[-1]\n",
    "\n",
    "print(f\"RMSE: {rmse_mean} ± {rmse_std}\")\n",
    "print(f\"MAE: {mae_mean} ± {mae_std}\")\n"
   ]
  },
  {
   "cell_type": "code",
   "execution_count": 144,
   "metadata": {},
   "outputs": [
    {
     "data": {
      "image/png": "[encoded data removed]",
      "text/plain": [
       "<Figure size 1000x1500 with 1 Axes>"
      ]
     },
     "metadata": {},
     "output_type": "display_data"
    }
   ],
   "source": [
    "import matplotlib\n",
    "import matplotlib.pyplot as plt\n",
    "MAE_Results = [mae_it_2, mae_it_10, mae_2_all, mae_10_all]\n",
    "labels = ['IT_depth2', 'IT_depth10', 'ALL_depth2', 'ALL_depth10']\n",
    "\n",
    "rg= np.arange(4)\n",
    "width = 0.35\n",
    "\n",
    "plt.figure(figsize=(10, 15))\n",
    "\n",
    "plt.bar(rg+width, R2_Results, width, label='MAE')\n",
    "plt.xticks(rg + width/2, labels)\n",
    "plt.xlabel(\"Models\")\n",
    "plt.ylabel(\"MAE\")\n",
    "plt.ylim([0,1])\n",
    "\n",
    "plt.yticks(np.arange(0, 45.1, 1))  # Specify the desired tick positions and labels\n",
    "plt.yticks()\n",
    "plt.ylim([0, 45])\n",
    "\n",
    "plt.grid(color='green', linewidth=1.5, axis='both', alpha=0.5)\n",
    "plt.title('Model Performance: MAE')\n",
    "plt.legend(loc='upper left', ncol=2)\n",
    "plt.show()\n",
    " "
   ]
  },
  {
   "cell_type": "code",
   "execution_count": 143,
   "metadata": {},
   "outputs": [
    {
     "data": {
      "image/png": "[encoded data removed]",
      "text/plain": [
       "<Figure size 1000x1500 with 1 Axes>"
      ]
     },
     "metadata": {},
     "output_type": "display_data"
    }
   ],
   "source": [
    "RMSE_Results = [rmse_it_2, rmse_it_10, rmse_2_all, rmse_10_all]\n",
    "labels = ['IT_depth2', 'IT_depth10', 'ALL_depth2', 'ALL_depth10']\n",
    "\n",
    "rg= np.arange(4)\n",
    "width = 0.35\n",
    "\n",
    "plt.figure(figsize=(10, 15))\n",
    "\n",
    "plt.bar(rg, RMSE_Results, width, label=\"RMSE\")\n",
    "plt.xticks(rg + width/2, labels)\n",
    "plt.xlabel(\"Models\")\n",
    "plt.ylabel(\"RMSE\")\n",
    "plt.ylim([0,1])\n",
    "\n",
    "plt.yticks(np.arange(0, 350.1, 10))  # Specify the desired tick positions and labels\n",
    "plt.yticks()\n",
    "plt.ylim([0,350])\n",
    "\n",
    "plt.grid(color='green', linewidth=1.5, axis='both', alpha=0.5)\n",
    "plt.title('Model Performance: RMSE')\n",
    "plt.legend(loc='upper left', ncol=2)\n",
    "plt.show()\n",
    " "
   ]
  },
  {
   "cell_type": "code",
   "execution_count": 147,
   "metadata": {},
   "outputs": [
    {
     "data": {
      "image/png": "[encoded data removed]",
      "text/plain": [
       "<Figure size 1000x1500 with 1 Axes>"
      ]
     },
     "metadata": {},
     "output_type": "display_data"
    }
   ],
   "source": [
    "MEAN_AVG = [scores2.mean(),scores.mean()]\n",
    "labels_mean = ['IT mean MAE', 'ALL mean MAE']\n",
    "\n",
    "rg= np.arange(2)\n",
    "width = 0.35\n",
    "\n",
    "plt.figure(figsize=(10, 15))\n",
    "\n",
    "plt.bar(rg, MEAN_AVG, width, label=\"MEAN MAE\")\n",
    "plt.xticks(rg + width/2, labels_mean)\n",
    "plt.xlabel(\"Models\")\n",
    "plt.ylabel(\"MEAN MAE\")\n",
    "plt.ylim([0,1])\n",
    "\n",
    "plt.yticks(np.arange(0, 20.1, 1))  # Specify the desired tick positions and labels\n",
    "plt.yticks()\n",
    "plt.ylim([0,20])\n",
    "\n",
    "plt.grid(color='green', linewidth=1.5, axis='both', alpha=0.5)\n",
    "plt.title('Model Performance: Mean MAE')\n",
    "plt.legend(loc='upper left', ncol=2)\n",
    "plt.show()"
   ]
  },
  {
   "cell_type": "code",
   "execution_count": null,
   "metadata": {},
   "outputs": [],
   "source": []
  }
 ],
 "metadata": {
  "kernelspec": {
   "display_name": "Python 3",
   "language": "python",
   "name": "python3"
  },
  "language_info": {
   "codemirror_mode": {
    "name": "ipython",
    "version": 3
   },
   "file_extension": ".py",
   "mimetype": "text/x-python",
   "name": "python",
   "nbconvert_exporter": "python",
   "pygments_lexer": "ipython3",
   "version": "3.11.6"
  },
  "orig_nbformat": 4
 },
 "nbformat": 4,
 "nbformat_minor": 2
}
