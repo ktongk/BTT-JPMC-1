{
 "cells": [
  {
   "cell_type": "markdown",
   "metadata": {},
   "source": [
    "# <b> JPMC Team #1: Company Relationship Analysis Tool </b>"
   ]
  },
  {
   "cell_type": "code",
   "execution_count": 2,
   "metadata": {},
   "outputs": [],
   "source": [
    "import os\n",
    "import pandas as pd\n",
    "import numpy as np"
   ]
  },
  {
   "cell_type": "code",
   "execution_count": 7,
   "metadata": {},
   "outputs": [],
   "source": [
    "#use yfinance to get stock data\n",
    "import yfinance as yf\n",
    "# make a price percentage change dataframe of stock data for each ticker in the year 2022\n",
    "def get_stock_data(ticker):\n",
    "    stock = yf.Ticker(ticker)\n",
    "    stock_data = stock.history(period='1y', interval='1d')\n",
    "    stock_data.drop(['Dividends', 'Stock Splits'], axis=1, inplace=True)\n",
    "    stock_data['price_pct_change'] = stock_data['Close'].pct_change()\n",
    "    stock_data = stock_data.dropna()\n",
    "    return stock_data\n",
    "\n"
   ]
  },
  {
   "cell_type": "code",
   "execution_count": 8,
   "metadata": {},
   "outputs": [
    {
     "data": {
      "text/html": [
       "<div>\n",
       "<style scoped>\n",
       "    .dataframe tbody tr th:only-of-type {\n",
       "        vertical-align: middle;\n",
       "    }\n",
       "\n",
       "    .dataframe tbody tr th {\n",
       "        vertical-align: top;\n",
       "    }\n",
       "\n",
       "    .dataframe thead th {\n",
       "        text-align: right;\n",
       "    }\n",
       "</style>\n",
       "<table border=\"1\" class=\"dataframe\">\n",
       "  <thead>\n",
       "    <tr style=\"text-align: right;\">\n",
       "      <th></th>\n",
       "      <th>Open</th>\n",
       "      <th>High</th>\n",
       "      <th>Low</th>\n",
       "      <th>Close</th>\n",
       "      <th>Volume</th>\n",
       "      <th>Dividends</th>\n",
       "      <th>Stock Splits</th>\n",
       "      <th>price_pct_change</th>\n",
       "    </tr>\n",
       "    <tr>\n",
       "      <th>Date</th>\n",
       "      <th></th>\n",
       "      <th></th>\n",
       "      <th></th>\n",
       "      <th></th>\n",
       "      <th></th>\n",
       "      <th></th>\n",
       "      <th></th>\n",
       "      <th></th>\n",
       "    </tr>\n",
       "  </thead>\n",
       "  <tbody>\n",
       "    <tr>\n",
       "      <th>2022-12-08 00:00:00-05:00</th>\n",
       "      <td>141.568705</td>\n",
       "      <td>142.722261</td>\n",
       "      <td>140.315714</td>\n",
       "      <td>141.857086</td>\n",
       "      <td>62128300</td>\n",
       "      <td>0.0</td>\n",
       "      <td>0.0</td>\n",
       "      <td>0.012133</td>\n",
       "    </tr>\n",
       "    <tr>\n",
       "      <th>2022-12-09 00:00:00-05:00</th>\n",
       "      <td>141.548804</td>\n",
       "      <td>144.760861</td>\n",
       "      <td>140.116806</td>\n",
       "      <td>141.369812</td>\n",
       "      <td>76097000</td>\n",
       "      <td>0.0</td>\n",
       "      <td>0.0</td>\n",
       "      <td>-0.003435</td>\n",
       "    </tr>\n",
       "    <tr>\n",
       "      <th>2022-12-12 00:00:00-05:00</th>\n",
       "      <td>141.906800</td>\n",
       "      <td>143.696798</td>\n",
       "      <td>140.275917</td>\n",
       "      <td>143.686859</td>\n",
       "      <td>70462700</td>\n",
       "      <td>0.0</td>\n",
       "      <td>0.0</td>\n",
       "      <td>0.016390</td>\n",
       "    </tr>\n",
       "    <tr>\n",
       "      <th>2022-12-13 00:00:00-05:00</th>\n",
       "      <td>148.669021</td>\n",
       "      <td>149.136410</td>\n",
       "      <td>143.438264</td>\n",
       "      <td>144.661423</td>\n",
       "      <td>93886200</td>\n",
       "      <td>0.0</td>\n",
       "      <td>0.0</td>\n",
       "      <td>0.006783</td>\n",
       "    </tr>\n",
       "    <tr>\n",
       "      <th>2022-12-14 00:00:00-05:00</th>\n",
       "      <td>144.542075</td>\n",
       "      <td>145.844791</td>\n",
       "      <td>140.375363</td>\n",
       "      <td>142.413971</td>\n",
       "      <td>82291200</td>\n",
       "      <td>0.0</td>\n",
       "      <td>0.0</td>\n",
       "      <td>-0.015536</td>\n",
       "    </tr>\n",
       "    <tr>\n",
       "      <th>...</th>\n",
       "      <td>...</td>\n",
       "      <td>...</td>\n",
       "      <td>...</td>\n",
       "      <td>...</td>\n",
       "      <td>...</td>\n",
       "      <td>...</td>\n",
       "      <td>...</td>\n",
       "      <td>...</td>\n",
       "    </tr>\n",
       "    <tr>\n",
       "      <th>2023-12-01 00:00:00-05:00</th>\n",
       "      <td>146.000000</td>\n",
       "      <td>147.250000</td>\n",
       "      <td>145.550003</td>\n",
       "      <td>147.029999</td>\n",
       "      <td>39924600</td>\n",
       "      <td>0.0</td>\n",
       "      <td>0.0</td>\n",
       "      <td>0.006434</td>\n",
       "    </tr>\n",
       "    <tr>\n",
       "      <th>2023-12-04 00:00:00-05:00</th>\n",
       "      <td>145.250000</td>\n",
       "      <td>145.350006</td>\n",
       "      <td>142.809998</td>\n",
       "      <td>144.839996</td>\n",
       "      <td>48294200</td>\n",
       "      <td>0.0</td>\n",
       "      <td>0.0</td>\n",
       "      <td>-0.014895</td>\n",
       "    </tr>\n",
       "    <tr>\n",
       "      <th>2023-12-05 00:00:00-05:00</th>\n",
       "      <td>143.550003</td>\n",
       "      <td>148.570007</td>\n",
       "      <td>143.130005</td>\n",
       "      <td>146.880005</td>\n",
       "      <td>46822400</td>\n",
       "      <td>0.0</td>\n",
       "      <td>0.0</td>\n",
       "      <td>0.014085</td>\n",
       "    </tr>\n",
       "    <tr>\n",
       "      <th>2023-12-06 00:00:00-05:00</th>\n",
       "      <td>147.580002</td>\n",
       "      <td>147.850006</td>\n",
       "      <td>144.279999</td>\n",
       "      <td>144.520004</td>\n",
       "      <td>39603800</td>\n",
       "      <td>0.0</td>\n",
       "      <td>0.0</td>\n",
       "      <td>-0.016068</td>\n",
       "    </tr>\n",
       "    <tr>\n",
       "      <th>2023-12-07 00:00:00-05:00</th>\n",
       "      <td>146.149994</td>\n",
       "      <td>147.914993</td>\n",
       "      <td>145.339996</td>\n",
       "      <td>147.149994</td>\n",
       "      <td>30729264</td>\n",
       "      <td>0.0</td>\n",
       "      <td>0.0</td>\n",
       "      <td>0.018198</td>\n",
       "    </tr>\n",
       "  </tbody>\n",
       "</table>\n",
       "<p>753 rows × 8 columns</p>\n",
       "</div>"
      ],
      "text/plain": [
       "                                 Open        High         Low       Close  \\\n",
       "Date                                                                        \n",
       "2022-12-08 00:00:00-05:00  141.568705  142.722261  140.315714  141.857086   \n",
       "2022-12-09 00:00:00-05:00  141.548804  144.760861  140.116806  141.369812   \n",
       "2022-12-12 00:00:00-05:00  141.906800  143.696798  140.275917  143.686859   \n",
       "2022-12-13 00:00:00-05:00  148.669021  149.136410  143.438264  144.661423   \n",
       "2022-12-14 00:00:00-05:00  144.542075  145.844791  140.375363  142.413971   \n",
       "...                               ...         ...         ...         ...   \n",
       "2023-12-01 00:00:00-05:00  146.000000  147.250000  145.550003  147.029999   \n",
       "2023-12-04 00:00:00-05:00  145.250000  145.350006  142.809998  144.839996   \n",
       "2023-12-05 00:00:00-05:00  143.550003  148.570007  143.130005  146.880005   \n",
       "2023-12-06 00:00:00-05:00  147.580002  147.850006  144.279999  144.520004   \n",
       "2023-12-07 00:00:00-05:00  146.149994  147.914993  145.339996  147.149994   \n",
       "\n",
       "                             Volume  Dividends  Stock Splits  price_pct_change  \n",
       "Date                                                                            \n",
       "2022-12-08 00:00:00-05:00  62128300        0.0           0.0          0.012133  \n",
       "2022-12-09 00:00:00-05:00  76097000        0.0           0.0         -0.003435  \n",
       "2022-12-12 00:00:00-05:00  70462700        0.0           0.0          0.016390  \n",
       "2022-12-13 00:00:00-05:00  93886200        0.0           0.0          0.006783  \n",
       "2022-12-14 00:00:00-05:00  82291200        0.0           0.0         -0.015536  \n",
       "...                             ...        ...           ...               ...  \n",
       "2023-12-01 00:00:00-05:00  39924600        0.0           0.0          0.006434  \n",
       "2023-12-04 00:00:00-05:00  48294200        0.0           0.0         -0.014895  \n",
       "2023-12-05 00:00:00-05:00  46822400        0.0           0.0          0.014085  \n",
       "2023-12-06 00:00:00-05:00  39603800        0.0           0.0         -0.016068  \n",
       "2023-12-07 00:00:00-05:00  30729264        0.0           0.0          0.018198  \n",
       "\n",
       "[753 rows x 8 columns]"
      ]
     },
     "execution_count": 8,
     "metadata": {},
     "output_type": "execute_result"
    }
   ],
   "source": [
    "#run the stocks through the function and get the dataframes for each stock\n",
    "stock_data = get_stock_data('AAPL')\n",
    "stock_data2 = get_stock_data('MSFT')\n",
    "stock_data3 = get_stock_data('AMZN')\n",
    "\n",
    "#combine all the dataframes into one dataframe\n",
    "stock_data = pd.concat([stock_data, stock_data2, stock_data3], axis=0)\n",
    "stock_data\n"
   ]
  },
  {
   "cell_type": "code",
   "execution_count": 3,
   "metadata": {},
   "outputs": [],
   "source": [
    "#filename = \"/Users/annahauk/Desktop/Machine Learning/SP500AdjPrice.csv\"\n",
    "filename = os.path.join(os.getcwd(), \"SP500AdjPrice.csv\")\n",
    "df = pd.read_csv(filename, header = 0)"
   ]
  },
  {
   "cell_type": "code",
   "execution_count": 4,
   "metadata": {},
   "outputs": [
    {
     "data": {
      "text/html": [
       "<div>\n",
       "<style scoped>\n",
       "    .dataframe tbody tr th:only-of-type {\n",
       "        vertical-align: middle;\n",
       "    }\n",
       "\n",
       "    .dataframe tbody tr th {\n",
       "        vertical-align: top;\n",
       "    }\n",
       "\n",
       "    .dataframe thead th {\n",
       "        text-align: right;\n",
       "    }\n",
       "</style>\n",
       "<table border=\"1\" class=\"dataframe\">\n",
       "  <thead>\n",
       "    <tr style=\"text-align: right;\">\n",
       "      <th></th>\n",
       "      <th>Industry</th>\n",
       "    </tr>\n",
       "  </thead>\n",
       "  <tbody>\n",
       "    <tr>\n",
       "      <th>A</th>\n",
       "      <td>Materials</td>\n",
       "    </tr>\n",
       "    <tr>\n",
       "      <th>AAL</th>\n",
       "      <td>Real Estate</td>\n",
       "    </tr>\n",
       "    <tr>\n",
       "      <th>AAPL</th>\n",
       "      <td>Information Technology</td>\n",
       "    </tr>\n",
       "    <tr>\n",
       "      <th>ABBV</th>\n",
       "      <td>Health Care</td>\n",
       "    </tr>\n",
       "    <tr>\n",
       "      <th>ABNB</th>\n",
       "      <td>Information Technology</td>\n",
       "    </tr>\n",
       "    <tr>\n",
       "      <th>ABT</th>\n",
       "      <td>Health Care</td>\n",
       "    </tr>\n",
       "    <tr>\n",
       "      <th>ACGL</th>\n",
       "      <td>Communication Services</td>\n",
       "    </tr>\n",
       "    <tr>\n",
       "      <th>ACN</th>\n",
       "      <td>Information Technology</td>\n",
       "    </tr>\n",
       "    <tr>\n",
       "      <th>ADBE</th>\n",
       "      <td>Industrials</td>\n",
       "    </tr>\n",
       "    <tr>\n",
       "      <th>ADI</th>\n",
       "      <td>Information Technology</td>\n",
       "    </tr>\n",
       "  </tbody>\n",
       "</table>\n",
       "</div>"
      ],
      "text/plain": [
       "                    Industry\n",
       "A                  Materials\n",
       "AAL              Real Estate\n",
       "AAPL  Information Technology\n",
       "ABBV             Health Care\n",
       "ABNB  Information Technology\n",
       "ABT              Health Care\n",
       "ACGL  Communication Services\n",
       "ACN   Information Technology\n",
       "ADBE             Industrials\n",
       "ADI   Information Technology"
      ]
     },
     "execution_count": 4,
     "metadata": {},
     "output_type": "execute_result"
    }
   ],
   "source": [
    "data    = pd.read_html('https://en.wikipedia.org/wiki/List_of_S%26P_500_companies#S%26P_500_component_stocks')\n",
    "table_symbol   = data[0]\n",
    "table_industry = data[0]['GICS Sector']\n",
    "\n",
    "#these 2 lists are in order with one another\n",
    "symbols = list(table_symbol.Symbol.values)\n",
    "industries = list(table_industry.values) ##Industry Sector\n",
    "\n",
    "remove = []\n",
    "\n",
    "symbols_to_remove = ['BF.B', 'BRK.B', 'KVUE', 'VLTO','SPY']\n",
    "\n",
    "for i, symbol in enumerate(symbols):\n",
    "    if symbol in symbols_to_remove:\n",
    "        remove.append(i)\n",
    "#print(remove)\n",
    "\n",
    "#list(set(industries))\n",
    "\n",
    "for i in remove:\n",
    "    symbols.remove(symbols[i])\n",
    "    industries.remove(industries[i])\n",
    "\n",
    "#print(len(symbols))\n",
    "#print(set(industries))\n",
    "\n",
    "symbol_industry = dict(zip(symbols,industries))\n",
    "\n",
    "df_industries = pd.DataFrame({'Industry': [symbol_industry[symbol] for symbol in symbols]})\n",
    "df_industries.index = symbol_industry.keys()\n",
    "df_industries = df_industries.sort_index()\n",
    "df_industries.head(10)\n",
    "\n",
    "#for i in industries:\n",
    "    "
   ]
  },
  {
   "cell_type": "code",
   "execution_count": 5,
   "metadata": {},
   "outputs": [],
   "source": [
    "a = len(symbols)\n",
    "\n",
    "df.index = sorted(symbols)\n",
    "df = df.drop(columns = \"Unnamed: 0\", axis = 1)"
   ]
  },
  {
   "cell_type": "code",
   "execution_count": 6,
   "metadata": {},
   "outputs": [
    {
     "data": {
      "text/html": [
       "<div>\n",
       "<style scoped>\n",
       "    .dataframe tbody tr th:only-of-type {\n",
       "        vertical-align: middle;\n",
       "    }\n",
       "\n",
       "    .dataframe tbody tr th {\n",
       "        vertical-align: top;\n",
       "    }\n",
       "\n",
       "    .dataframe thead th {\n",
       "        text-align: right;\n",
       "    }\n",
       "</style>\n",
       "<table border=\"1\" class=\"dataframe\">\n",
       "  <thead>\n",
       "    <tr style=\"text-align: right;\">\n",
       "      <th></th>\n",
       "      <th>Adj Close 2023-03-02</th>\n",
       "      <th>Adj Close 2023-03-03</th>\n",
       "      <th>Adj Close 2023-03-06</th>\n",
       "      <th>Adj Close 2023-03-07</th>\n",
       "      <th>Adj Close 2023-03-08</th>\n",
       "      <th>Adj Close 2023-03-09</th>\n",
       "      <th>Adj Close 2023-03-10</th>\n",
       "      <th>Adj Close 2023-03-13</th>\n",
       "      <th>Adj Close 2023-03-14</th>\n",
       "      <th>Adj Close 2023-03-15</th>\n",
       "      <th>Adj Close 2023-03-16</th>\n",
       "      <th>Adj Close 2023-03-17</th>\n",
       "      <th>Adj Close 2023-03-20</th>\n",
       "    </tr>\n",
       "  </thead>\n",
       "  <tbody>\n",
       "    <tr>\n",
       "      <th>A</th>\n",
       "      <td>140.885956</td>\n",
       "      <td>143.133453</td>\n",
       "      <td>142.437317</td>\n",
       "      <td>139.553360</td>\n",
       "      <td>140.120193</td>\n",
       "      <td>138.161102</td>\n",
       "      <td>134.968872</td>\n",
       "      <td>135.933502</td>\n",
       "      <td>137.634033</td>\n",
       "      <td>133.288239</td>\n",
       "      <td>136.062790</td>\n",
       "      <td>132.442917</td>\n",
       "      <td>133.795410</td>\n",
       "    </tr>\n",
       "    <tr>\n",
       "      <th>AAL</th>\n",
       "      <td>16.120001</td>\n",
       "      <td>16.360001</td>\n",
       "      <td>16.120001</td>\n",
       "      <td>16.360001</td>\n",
       "      <td>16.590000</td>\n",
       "      <td>15.880000</td>\n",
       "      <td>15.460000</td>\n",
       "      <td>14.850000</td>\n",
       "      <td>14.660000</td>\n",
       "      <td>13.860000</td>\n",
       "      <td>14.120000</td>\n",
       "      <td>13.980000</td>\n",
       "      <td>13.960000</td>\n",
       "    </tr>\n",
       "    <tr>\n",
       "      <th>AAPL</th>\n",
       "      <td>145.511978</td>\n",
       "      <td>150.617996</td>\n",
       "      <td>153.410370</td>\n",
       "      <td>151.186447</td>\n",
       "      <td>152.452972</td>\n",
       "      <td>150.179184</td>\n",
       "      <td>148.094894</td>\n",
       "      <td>150.059525</td>\n",
       "      <td>152.173737</td>\n",
       "      <td>152.572647</td>\n",
       "      <td>155.424850</td>\n",
       "      <td>154.577164</td>\n",
       "      <td>156.970612</td>\n",
       "    </tr>\n",
       "    <tr>\n",
       "      <th>ABBV</th>\n",
       "      <td>151.295471</td>\n",
       "      <td>152.941910</td>\n",
       "      <td>152.177490</td>\n",
       "      <td>149.874420</td>\n",
       "      <td>146.610977</td>\n",
       "      <td>144.405930</td>\n",
       "      <td>146.718781</td>\n",
       "      <td>148.914017</td>\n",
       "      <td>150.776062</td>\n",
       "      <td>150.981857</td>\n",
       "      <td>152.197098</td>\n",
       "      <td>151.138672</td>\n",
       "      <td>153.000702</td>\n",
       "    </tr>\n",
       "    <tr>\n",
       "      <th>ABNB</th>\n",
       "      <td>122.379997</td>\n",
       "      <td>125.730003</td>\n",
       "      <td>126.330002</td>\n",
       "      <td>126.940002</td>\n",
       "      <td>125.000000</td>\n",
       "      <td>119.839996</td>\n",
       "      <td>118.300003</td>\n",
       "      <td>115.959999</td>\n",
       "      <td>116.360001</td>\n",
       "      <td>113.580002</td>\n",
       "      <td>119.989998</td>\n",
       "      <td>118.150002</td>\n",
       "      <td>118.400002</td>\n",
       "    </tr>\n",
       "  </tbody>\n",
       "</table>\n",
       "</div>"
      ],
      "text/plain": [
       "      Adj Close 2023-03-02  Adj Close 2023-03-03  Adj Close 2023-03-06  \\\n",
       "A               140.885956            143.133453            142.437317   \n",
       "AAL              16.120001             16.360001             16.120001   \n",
       "AAPL            145.511978            150.617996            153.410370   \n",
       "ABBV            151.295471            152.941910            152.177490   \n",
       "ABNB            122.379997            125.730003            126.330002   \n",
       "\n",
       "      Adj Close 2023-03-07  Adj Close 2023-03-08  Adj Close 2023-03-09  \\\n",
       "A               139.553360            140.120193            138.161102   \n",
       "AAL              16.360001             16.590000             15.880000   \n",
       "AAPL            151.186447            152.452972            150.179184   \n",
       "ABBV            149.874420            146.610977            144.405930   \n",
       "ABNB            126.940002            125.000000            119.839996   \n",
       "\n",
       "      Adj Close 2023-03-10  Adj Close 2023-03-13  Adj Close 2023-03-14  \\\n",
       "A               134.968872            135.933502            137.634033   \n",
       "AAL              15.460000             14.850000             14.660000   \n",
       "AAPL            148.094894            150.059525            152.173737   \n",
       "ABBV            146.718781            148.914017            150.776062   \n",
       "ABNB            118.300003            115.959999            116.360001   \n",
       "\n",
       "      Adj Close 2023-03-15  Adj Close 2023-03-16  Adj Close 2023-03-17  \\\n",
       "A               133.288239            136.062790            132.442917   \n",
       "AAL              13.860000             14.120000             13.980000   \n",
       "AAPL            152.572647            155.424850            154.577164   \n",
       "ABBV            150.981857            152.197098            151.138672   \n",
       "ABNB            113.580002            119.989998            118.150002   \n",
       "\n",
       "      Adj Close 2023-03-20  \n",
       "A               133.795410  \n",
       "AAL              13.960000  \n",
       "AAPL            156.970612  \n",
       "ABBV            153.000702  \n",
       "ABNB            118.400002  "
      ]
     },
     "execution_count": 6,
     "metadata": {},
     "output_type": "execute_result"
    }
   ],
   "source": [
    "df.head()"
   ]
  },
  {
   "cell_type": "code",
   "execution_count": null,
   "metadata": {},
   "outputs": [],
   "source": [
    "dictionary = dict(zip(symbols,industries))"
   ]
  },
  {
   "cell_type": "markdown",
   "metadata": {},
   "source": [
    "## Don't need this -- use dataframe instead of dictionary"
   ]
  },
  {
   "cell_type": "code",
   "execution_count": null,
   "metadata": {},
   "outputs": [],
   "source": [
    "b = []\n",
    "unique_industries = list(set(dictionary.values()))\n",
    "#for i in unique_industries:\n",
    "    #print(i)\n",
    "# Initialize lists within the list for each unique industry\n",
    "for _ in unique_industries:\n",
    "    b.append([])\n",
    "\n",
    "# Append companies to their respective industry lists\n",
    "for key, value in dictionary.items():\n",
    "    index = unique_industries.index(value)\n",
    "    b[index].append(key)"
   ]
  },
  {
   "cell_type": "markdown",
   "metadata": {},
   "source": [
    "* Consumer Discretionary = 0\n",
    "* Information Technology = 1\n",
    "* Materials = 2\n",
    "* Real Estate = 3\n",
    "* Utilities = 4\n",
    "* Financials = 5\n",
    "* Communication Services = 6\n",
    "* Industrials = 7\n",
    "* Energy = 8\n",
    "* Consumer Staples = 9\n",
    "* Health Care = 10"
   ]
  },
  {
   "cell_type": "markdown",
   "metadata": {},
   "source": [
    "# <b> <font color = #f6308e > Percentage Price Change Per Day </b> "
   ]
  },
  {
   "cell_type": "code",
   "execution_count": null,
   "metadata": {},
   "outputs": [],
   "source": [
    "df_price = df.T\n",
    "df_price_pct = df_price.pct_change()[1:]\n",
    "#finds percent change between current price and prior\n",
    "df_price_pct.head()"
   ]
  },
  {
   "cell_type": "code",
   "execution_count": null,
   "metadata": {},
   "outputs": [],
   "source": [
    "df_price_pct.T.isnull().any()"
   ]
  },
  {
   "cell_type": "markdown",
   "metadata": {},
   "source": [
    "# <b> <font color = #56beba > Correlations Between Stocks </b> "
   ]
  },
  {
   "cell_type": "code",
   "execution_count": null,
   "metadata": {},
   "outputs": [],
   "source": [
    "price_corr = df_price_pct.corr()\n",
    "price_corr.head()"
   ]
  },
  {
   "cell_type": "code",
   "execution_count": null,
   "metadata": {},
   "outputs": [],
   "source": [
    "import seaborn as sns\n",
    "import matplotlib.pyplot as plt"
   ]
  },
  {
   "cell_type": "code",
   "execution_count": null,
   "metadata": {},
   "outputs": [],
   "source": [
    "set(industries)"
   ]
  },
  {
   "cell_type": "code",
   "execution_count": null,
   "metadata": {},
   "outputs": [],
   "source": [
    "df = df.join(df_industries)"
   ]
  },
  {
   "cell_type": "markdown",
   "metadata": {},
   "source": [
    "# <b> Looking at Correlation between daily stock returns </b>"
   ]
  },
  {
   "cell_type": "code",
   "execution_count": null,
   "metadata": {},
   "outputs": [],
   "source": [
    "df.tail()"
   ]
  },
  {
   "cell_type": "code",
   "execution_count": null,
   "metadata": {},
   "outputs": [],
   "source": [
    "df2 = df.drop(columns= 'Industry', axis = 1)\n",
    "a = df2.iloc[:, : 5]\n",
    "b = df2.iloc[:, :30:6]\n",
    "b"
   ]
  },
  {
   "cell_type": "code",
   "execution_count": null,
   "metadata": {},
   "outputs": [],
   "source": [
    "x_labels = df2.T.index\n",
    "x_labels = [label.split(' ')[-1] for label in x_labels]\n",
    "print(x_labels)"
   ]
  },
  {
   "cell_type": "code",
   "execution_count": null,
   "metadata": {},
   "outputs": [],
   "source": [
    "import matplotlib.pyplot as plt\n",
    "import numpy as np\n",
    "%matplotlib inline\n",
    "plt.plot(b)\n",
    "plt.title('5 Stocks: Return Trend Over Timeseries')\n",
    "plt.legend (['A','ACGL','ADSK','AIZ', 'ALL'], loc = 2)\n",
    "x_ticks = np.arange(0, len(x_labels))\n",
    "\n",
    "plt.xticks(x_ticks, x_labels, rotation=30)\n",
    "plt.show()"
   ]
  },
  {
   "cell_type": "code",
   "execution_count": null,
   "metadata": {},
   "outputs": [],
   "source": [
    "selected_stocks = ['A', 'ACGL', 'ADSK', 'AIZ', 'ALL']\n",
    "df_selected = df.T[selected_stocks]\n",
    "df_selected = df_selected.T\n",
    "df_selected = df_selected.drop(columns= 'Industry', axis = 1)\n",
    "df_selected"
   ]
  },
  {
   "cell_type": "code",
   "execution_count": null,
   "metadata": {},
   "outputs": [],
   "source": [
    "x_labels2 = [str(date) for date in df_selected.T.index]\n",
    "x_labels2"
   ]
  },
  {
   "cell_type": "code",
   "execution_count": null,
   "metadata": {},
   "outputs": [],
   "source": [
    "# Plotting the data\n",
    "plt.plot(df_selected.T)\n",
    "plt.title('5 Stocks: Return Trend Over Time Series')\n",
    "plt.legend(selected_stocks, loc=2)\n",
    "x_ticks = np.arange(0, len(x_labels2))\n",
    "\n",
    "plt.xticks(x_ticks, x_labels2, rotation=30)\n",
    "plt.xlabel('Date')\n",
    "plt.ylabel('Adjusted Close Price')\n",
    "plt.show()"
   ]
  },
  {
   "cell_type": "code",
   "execution_count": null,
   "metadata": {},
   "outputs": [],
   "source": [
    "c = df.loc['AIZ', df.columns[-1]]\n",
    "print(c)\n",
    "d = df.loc['ALL', df.columns[-1]]\n",
    "print(d)"
   ]
  },
  {
   "cell_type": "markdown",
   "metadata": {},
   "source": [
    "We see there is a correlation between AIZ and ALL since they follow eachother closely in the graph. Turns out, they're part of the same industry and we can calculate their correlation (later when we do Consumer Discretionary)."
   ]
  },
  {
   "cell_type": "markdown",
   "metadata": {},
   "source": [
    "## <b> <font color = #f6308e > Information Technology </b> \n",
    "##### Technology and software development, hardware manufacturing, cloud computing, and IT services"
   ]
  },
  {
   "cell_type": "code",
   "execution_count": null,
   "metadata": {},
   "outputs": [],
   "source": [
    "it = df[df['Industry'] == 'Information Technology']\n",
    "it.shape\n",
    "#companies with IT as its industry\n"
   ]
  },
  {
   "cell_type": "code",
   "execution_count": null,
   "metadata": {},
   "outputs": [],
   "source": [
    "it = it.drop(columns= 'Industry', axis = 1)\n",
    "df_price_it = it.T\n",
    "df_price_pct_it = df_price_it.pct_change()[1:]\n",
    "\n",
    "price_corr_it = df_price_pct_it.corr()\n",
    "price_corr_it.head()"
   ]
  },
  {
   "cell_type": "code",
   "execution_count": null,
   "metadata": {},
   "outputs": [],
   "source": [
    "plt.figure(figsize=(12,8))\n",
    "sns.heatmap(price_corr_it, cmap = 'RdBu').set_title(\"Correlation heatmap for Price Changes: IT industry\")\n",
    "plt.show()"
   ]
  },
  {
   "cell_type": "markdown",
   "metadata": {},
   "source": [
    "## <b> <font color = #f6308e > Communication Services </b> \n",
    "##### Telecommunications, cable, broadcasting, and internet services"
   ]
  },
  {
   "cell_type": "code",
   "execution_count": null,
   "metadata": {},
   "outputs": [],
   "source": [
    "commserv = df[df['Industry'] == 'Communication Services']\n",
    "commserv.shape\n",
    "#companies with Communication Services as its industry"
   ]
  },
  {
   "cell_type": "code",
   "execution_count": null,
   "metadata": {},
   "outputs": [],
   "source": [
    "commserv = commserv.drop(columns= 'Industry', axis = 1)\n",
    "df_price_commserv = commserv.T\n",
    "df_price_pct_commserv = df_price_commserv.pct_change()[1:]\n",
    "\n",
    "price_corr_commserv = df_price_pct_commserv.corr()\n",
    "price_corr_commserv.head()"
   ]
  },
  {
   "cell_type": "code",
   "execution_count": null,
   "metadata": {},
   "outputs": [],
   "source": [
    "plt.figure(figsize=(11,8))\n",
    "sns.heatmap(price_corr_commserv, cmap = 'BrBG').set_title(\"Correlation heatmap for Price Changes: Community Service industry\")\n",
    "plt.show()"
   ]
  },
  {
   "cell_type": "markdown",
   "metadata": {},
   "source": [
    "## <b> <font color = #f6308e > Consumer Discretionary </b> \n",
    "##### Retail, automotive, entertainment, and hospitality"
   ]
  },
  {
   "cell_type": "code",
   "execution_count": null,
   "metadata": {},
   "outputs": [],
   "source": [
    "consume = df[df['Industry'] == 'Consumer Discretionary']\n",
    "consume.shape"
   ]
  },
  {
   "cell_type": "code",
   "execution_count": null,
   "metadata": {},
   "outputs": [],
   "source": [
    "consume = consume.drop(columns= 'Industry', axis = 1)\n",
    "df_price_consume = consume.T\n",
    "\n",
    "\n",
    "\n",
    "df_price_pct_consume = df_price_consume.pct_change()[1:]\n",
    "# Calculate the correlation matrix\n",
    "price_corr_consume = df_price_pct_consume.corr()\n",
    "# Calculate 1 - |correlation|\n",
    "complement_corr_consume = 1 - abs(price_corr_consume)\n",
    "\n",
    "complement_corr_consume.head()"
   ]
  },
  {
   "cell_type": "code",
   "execution_count": null,
   "metadata": {},
   "outputs": [],
   "source": [
    "df_price_pct_consume"
   ]
  },
  {
   "cell_type": "code",
   "execution_count": null,
   "metadata": {},
   "outputs": [],
   "source": [
    "plt.figure(figsize=(11,8))\n",
    "sns.heatmap(complement_corr_consume, cmap = 'PiYG').set_title(\"Correlation heatmap for Price Changes: Consumer Discretionary industry\")\n",
    "plt.show()\n",
    "#RdBu"
   ]
  },
  {
   "cell_type": "markdown",
   "metadata": {},
   "source": [
    "## <b> <font color = #f6308e > Consumer Staples </b> \n",
    "##### Food, beverages, household goods, and personal care items,"
   ]
  },
  {
   "cell_type": "code",
   "execution_count": null,
   "metadata": {},
   "outputs": [],
   "source": [
    "staples = df[df['Industry'] == 'Consumer Staples']\n",
    "staples = staples.drop(columns= 'Industry', axis = 1)\n",
    "df_price_staples = staples.T\n",
    "df_price_pct_staples = df_price_staples.pct_change()[1:]\n",
    "\n",
    "price_corr_staples = df_price_pct_staples.corr()\n",
    "plt.figure(figsize=(11,8))\n",
    "sns.heatmap(price_corr_staples).set_title(\"Correlation heatmap for Price Changes: Consumer Staples industry\")\n",
    "plt.show()"
   ]
  },
  {
   "cell_type": "markdown",
   "metadata": {},
   "source": [
    "## <b> <font color = #f6308e > Energy </b> \n",
    "##### oil, natural gas, and renewable energy sources\n"
   ]
  },
  {
   "cell_type": "code",
   "execution_count": null,
   "metadata": {},
   "outputs": [],
   "source": [
    "energy = df[df['Industry'] == 'Energy']\n",
    "energy = energy.drop(columns='Industry', axis=1)\n",
    "df_price_energy = energy.T\n",
    "df_price_pct_energy = df_price_energy.pct_change()[1:]\n",
    "\n",
    "# Modify correlation calculation\n",
    "price_corr_energy = 1 - abs(df_price_pct_energy.corr())\n",
    "\n",
    "plt.figure(figsize=(15, 10))\n",
    "sns.heatmap(price_corr_energy, cmap='RdBu', center=0, annot=True, fmt=\".2f\").set_title(\"Correlation heatmap for Price Changes: Energy industry\")\n",
    "plt.show()"
   ]
  },
  {
   "cell_type": "code",
   "execution_count": null,
   "metadata": {},
   "outputs": [],
   "source": [
    "from pandas.plotting import scatter_matrix\n",
    "scatter_matrix(price_corr_energy, figsize=(30,20),alpha = 0.8)\n",
    "plt.show()"
   ]
  },
  {
   "cell_type": "markdown",
   "metadata": {},
   "source": [
    "## <b> <font color = #f6308e > Financials </b> \n",
    "##### money management, lending, and insurance"
   ]
  },
  {
   "cell_type": "code",
   "execution_count": null,
   "metadata": {},
   "outputs": [],
   "source": [
    "'''\n",
    "fin = df[df['Industry'] == 'Financials']\n",
    "fin = fin.drop(columns= 'Industry', axis = 1)\n",
    "df_price_fin = fin.T\n",
    "df_price_pct_fin = df_price_fin.pct_change()[1:]\n",
    "\n",
    "price_corr_fin = df_price_pct_fin.corr()\n",
    "plt.figure(figsize=(11,8))\n",
    "sns.heatmap(price_corr_fin, cmap = 'plasma').set_title(\"Correlation heatmap for Price Changes: Financials industry\")\n",
    "plt.show()\n",
    "'''"
   ]
  },
  {
   "cell_type": "code",
   "execution_count": null,
   "metadata": {},
   "outputs": [],
   "source": []
  },
  {
   "cell_type": "code",
   "execution_count": null,
   "metadata": {},
   "outputs": [],
   "source": [
    "fin = df[df['Industry'] == 'Financials']\n",
    "fin = fin.drop(columns='Industry', axis=1)\n",
    "df_price_fin = fin.T\n",
    "df_price_pct_fin = df_price_fin.pct_change()[1:]\n",
    "\n",
    "# Modify correlation calculation\n",
    "price_corr_fin = 1 - abs(df_price_pct_fin.corr())\n",
    "\n",
    "plt.figure(figsize=(11, 8))\n",
    "sns.heatmap(price_corr_fin, cmap='RdBu_r').set_title(\"Correlation heatmap for Price Changes: Financials industry\")\n",
    "plt.show()"
   ]
  },
  {
   "cell_type": "code",
   "execution_count": null,
   "metadata": {},
   "outputs": [],
   "source": [
    "fin.shape"
   ]
  },
  {
   "cell_type": "markdown",
   "metadata": {},
   "source": [
    "## <b> <font color = #f6308e > Health Care </b> \n",
    "##### pharmaceuticals, biotechnology, hospitals, and healthcare services"
   ]
  },
  {
   "cell_type": "code",
   "execution_count": null,
   "metadata": {},
   "outputs": [],
   "source": [
    "care = df[df['Industry'] == 'Health Care']\n",
    "care = care.drop(columns= 'Industry', axis = 1)\n",
    "df_price_care = care.T\n",
    "df_price_pct_care = df_price_care.pct_change()[1:]\n",
    "\n",
    "price_corr_care= df_price_pct_care.corr()\n",
    "plt.figure(figsize=(11,8))\n",
    "sns.heatmap(price_corr_care, cmap = 'twilight_shifted').set_title(\"Correlation heatmap for Price Changes: Health Care industry\")\n",
    "plt.show()"
   ]
  },
  {
   "cell_type": "markdown",
   "metadata": {},
   "source": [
    "## <b> <font color = #f6308e > Industrials </b> \n",
    "##### manufacturing, construction, aerospace, defense, and transportation"
   ]
  },
  {
   "cell_type": "code",
   "execution_count": null,
   "metadata": {},
   "outputs": [],
   "source": [
    "indus = df[df['Industry'] == 'Industrials']\n",
    "indus = indus.drop(columns= 'Industry', axis = 1)\n",
    "df_price_indus = indus.T\n",
    "df_price_pct_indus = df_price_indus.pct_change()[1:]\n",
    "\n",
    "price_corr_indus = df_price_pct_indus.corr()\n",
    "plt.figure(figsize=(11,8))\n",
    "sns.heatmap(price_corr_indus, cmap = 'RdYlBu').set_title(\"Correlation heatmap for Price Changes: Industrials industry\")\n",
    "plt.show()"
   ]
  },
  {
   "cell_type": "markdown",
   "metadata": {},
   "source": [
    "## <b> <font color = #f6308e > Materials </b> \n",
    "##### production of raw materials and chemicals eg. metals, minerals, and specialty chemicals."
   ]
  },
  {
   "cell_type": "code",
   "execution_count": null,
   "metadata": {},
   "outputs": [],
   "source": [
    "mat = df[df['Industry'] == 'Materials']\n",
    "mat = mat.drop(columns= 'Industry', axis = 1)\n",
    "df_price_mat = mat.T\n",
    "df_price_pct_mat = df_price_mat.pct_change()[1:]\n",
    "\n",
    "price_corr_mat = df_price_pct_mat.corr()\n",
    "plt.figure(figsize=(11,8))\n",
    "sns.heatmap(price_corr_mat, cmap = 'RdYlBu').set_title(\"Correlation heatmap for Price Changes: Materials industry\")\n",
    "plt.show()"
   ]
  },
  {
   "cell_type": "markdown",
   "metadata": {},
   "source": [
    "## <b> <font color = #f6308e > Real Estate </b> \n",
    "##### residential and commercial properties"
   ]
  },
  {
   "cell_type": "code",
   "execution_count": null,
   "metadata": {},
   "outputs": [],
   "source": [
    "real = df[df['Industry'] == 'Real Estate']\n",
    "real = real.drop(columns= 'Industry', axis = 1)\n",
    "df_price_real = real.T\n",
    "df_price_pct_real = df_price_real.pct_change()[1:]\n",
    "\n",
    "price_corr_real = df_price_pct_real.corr()\n",
    "plt.figure(figsize=(11,8))\n",
    "sns.heatmap(price_corr_real, cmap = 'RdYlBu').set_title(\"Correlation heatmap for Price Changes: Real Estate industry\")\n",
    "plt.show()"
   ]
  },
  {
   "cell_type": "markdown",
   "metadata": {},
   "source": [
    "# <b>CLUSTER MAPS"
   ]
  },
  {
   "cell_type": "code",
   "execution_count": null,
   "metadata": {},
   "outputs": [],
   "source": [
    "plt.figure(figsize=(7, 5))\n",
    "sns.clustermap(price_corr_mat, method='average', metric='euclidean', linewidths=0.5, dendrogram_ratio = 0.3)\n",
    "#dendogram ratio?\n",
    "plt.title(\"Clustermap for Price Changes: Materials industry\")\n",
    "plt.show()\n",
    "#turbo, jet, RdBu"
   ]
  },
  {
   "cell_type": "code",
   "execution_count": null,
   "metadata": {},
   "outputs": [],
   "source": [
    "plt.figure(figsize=(7, 10))\n",
    "sns.clustermap(price_corr_mat, method='single', metric='euclidean', linewidths=0.5, dendrogram_ratio = 0.3)\n",
    "#dendogram ratio?\n",
    "plt.title(\"Single\")\n",
    "plt.show()\n",
    "#turbo, jet, RdBu"
   ]
  },
  {
   "cell_type": "code",
   "execution_count": null,
   "metadata": {},
   "outputs": [],
   "source": [
    "plt.figure(figsize=(7, 5))\n",
    "sns.clustermap(price_corr_mat, method='weighted', metric='euclidean', linewidths=0.5, dendrogram_ratio = 0.3)\n",
    "#dendogram ratio?\n",
    "plt.title(\"weighted\")\n",
    "plt.show()\n",
    "#turbo, jet, RdBu"
   ]
  },
  {
   "cell_type": "code",
   "execution_count": null,
   "metadata": {},
   "outputs": [],
   "source": [
    "plt.figure(figsize=(7, 5))\n",
    "sns.clustermap(price_corr_mat, method='centroid', metric='euclidean', linewidths=0.5, dendrogram_ratio = 0.3)\n",
    "#dendogram ratio?\n",
    "plt.title(\"centroid\")\n",
    "plt.show()\n",
    "#turbo, jet, RdBu"
   ]
  },
  {
   "cell_type": "markdown",
   "metadata": {},
   "source": [
    "## Graphing Corr Matrix -- IGNORE"
   ]
  },
  {
   "cell_type": "code",
   "execution_count": null,
   "metadata": {},
   "outputs": [],
   "source": [
    "! pip3 install networkx\n",
    "! pip3 install plotly"
   ]
  },
  {
   "cell_type": "code",
   "execution_count": null,
   "metadata": {},
   "outputs": [],
   "source": [
    "threshold = .95\n",
    "\n",
    "links = price_corr.stack().reset_index()\n",
    "links.columns = ['company1', 'company2', 'correlation']\n",
    "#made price_corr go from company names as the row and column indeces to company1 being the first column header, company2 beign the second, and correlation as the third\n",
    "\n",
    "#filtering out any correlations under the threshold that we will set and getting rid of the self loops in the nodes\n",
    "links_filtered=links.loc[ (links['correlation'] > threshold) & (links['company1'] != links['company2']) ]\n",
    "G=nx.from_pandas_edgelist(links_filtered, 'company1', 'company2', edge_attr = 'correlation')\n",
    "nodes = list(G.nodes)\n",
    "#df_company_names = pd.DataFrame(nodes, columns=['S&P Names'])\n",
    "nx.set_node_attributes(G, dictionary, 'GICS Sector')"
   ]
  },
  {
   "cell_type": "code",
   "execution_count": null,
   "metadata": {},
   "outputs": [],
   "source": []
  }
 ],
 "metadata": {
  "kernelspec": {
   "display_name": "Python 3",
   "language": "python",
   "name": "python3"
  },
  "language_info": {
   "codemirror_mode": {
    "name": "ipython",
    "version": 3
   },
   "file_extension": ".py",
   "mimetype": "text/x-python",
   "name": "python",
   "nbconvert_exporter": "python",
   "pygments_lexer": "ipython3",
   "version": "3.11.6"
  },
  "orig_nbformat": 4
 },
 "nbformat": 4,
 "nbformat_minor": 2
}
